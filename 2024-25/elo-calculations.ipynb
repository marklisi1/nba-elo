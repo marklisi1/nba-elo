{
 "cells": [
  {
   "cell_type": "code",
   "execution_count": 1,
   "metadata": {},
   "outputs": [],
   "source": [
    "import requests\n",
    "from bs4 import BeautifulSoup\n",
    "import pandas as pd\n",
    "import time\n",
    "import pickle\n",
    "from datetime import datetime\n",
    "\n",
    "# plotting\n",
    "import plotly.graph_objects as go \n",
    "import ast\n"
   ]
  },
  {
   "cell_type": "markdown",
   "metadata": {},
   "source": [
    " First step - grab the schedule! Each month's schedule is stored on a separate page, so we'll check each one based on the current date."
   ]
  },
  {
   "cell_type": "code",
   "execution_count": 2,
   "metadata": {},
   "outputs": [
    {
     "name": "stdout",
     "output_type": "stream",
     "text": [
      "\n",
      "Data has been saved to '2025_schedule.csv'\n"
     ]
    }
   ],
   "source": [
    "def get_schedule():\n",
    "\n",
    "    months = ['october','november','december','january','february','march','april']\n",
    "    current_month = datetime.now().strftime(\"%B\").lower()\n",
    "    \n",
    "    schedule = pd.DataFrame()\n",
    "\n",
    "    for month in months:\n",
    "        url = f\"https://www.basketball-reference.com/leagues/NBA_2025_games-{month}.html\"\n",
    "\n",
    "        # Add headers to mimic a browser request\n",
    "        headers = {\n",
    "            'User-Agent': 'Mozilla/5.0 (Windows NT 10.0; Win64; x64) AppleWebKit/537.36 (KHTML, like Gecko) Chrome/91.0.4472.124 Safari/537.36'\n",
    "        }\n",
    "\n",
    "        try:\n",
    "            # Make the request with a slight delay to be respectful to the server\n",
    "            time.sleep(3)\n",
    "            response = requests.get(url, headers=headers)\n",
    "            response.raise_for_status()  # Raise an exception for bad status codes\n",
    "            \n",
    "            # Parse the HTML content\n",
    "            soup = BeautifulSoup(response.text, 'html.parser')\n",
    "            \n",
    "            # Find the schedule table\n",
    "            table = soup.find('table', id='schedule')\n",
    "            \n",
    "            if table is None:\n",
    "                raise ValueError(\"Schedule table not found on the page\")\n",
    "\n",
    "            # Define the columns we want to extract\n",
    "            columns = [\n",
    "                'Date',\n",
    "                'Start (ET)',\n",
    "                'Visitor/Neutral',\n",
    "                'away_pts',\n",
    "                'Home/Neutral',\n",
    "                'home_pts',\n",
    "                'Box Score',\n",
    "                'OT',\n",
    "                'Attend.',\n",
    "                'LOG',\n",
    "                'Arena',\n",
    "                'Notes'\n",
    "            ]\n",
    "            \n",
    "            # Extract rows\n",
    "            rows = []\n",
    "            for row in table.find_all('tr')[1:]:  # Skip header row\n",
    "                game_data = []\n",
    "                cells = row.find_all(['td', 'th'])\n",
    "                if cells:  # Only process rows with data\n",
    "                    for cell in cells:\n",
    "                        text = cell.text.strip()\n",
    "                        game_data.append(text)\n",
    "                    if game_data:  # Only append non-empty rows\n",
    "                        rows.append(game_data)\n",
    "            \n",
    "            # Create DataFrame with explicit column names\n",
    "            df = pd.DataFrame(rows, columns=columns)\n",
    "            df = df[df['away_pts'] != '']\n",
    "            schedule = pd.concat((schedule, df))\n",
    "            \n",
    "            if month == current_month:\n",
    "                break\n",
    "                \n",
    "\n",
    "\n",
    "\n",
    "        except requests.RequestException as e:\n",
    "            print(f\"Error fetching the webpage: {e}\")\n",
    "        except Exception as e:\n",
    "            print(f\"Error processing the data: {e}\")\n",
    "\n",
    "    # Optionally save to CSV\n",
    "    schedule.to_csv('2025_schedule.csv', index=False)\n",
    "    print(\"\\nData has been saved to '2025_schedule.csv'\")\n",
    "    return schedule\n",
    "\n",
    "schedule = get_schedule()"
   ]
  },
  {
   "cell_type": "markdown",
   "metadata": {},
   "source": [
    "Now we calculate the Elo of each team game-by-game:"
   ]
  },
  {
   "cell_type": "code",
   "execution_count": 42,
   "metadata": {},
   "outputs": [],
   "source": [
    "def expected_score(rating_a, rating_b):\n",
    "    return 1 / (1 + 10 ** ((rating_b - rating_a) / 400))\n",
    "\n",
    "def update_elo(rating, expected, actual, k=20):\n",
    "    \"\"\"\n",
    "    Update the Elo rating based on game result.\n",
    "    :param rating: Current Elo rating\n",
    "    :param expected: Expected score\n",
    "    :param actual: Actual score (1 for win, 0 for loss)\n",
    "    :param k: K-factor\n",
    "    :return: Updated Elo rating\n",
    "    \"\"\"\n",
    "    return rating + k * (actual - expected)\n",
    "\n",
    "\n",
    "# Load Elos from end of previous season\n",
    "with open('../2023-24/final_elos.pkl', 'rb') as f:\n",
    "    current_elos = pickle.load(f) \n",
    "\n",
    "elo_histories = {}\n",
    "team_names = list(schedule['Visitor/Neutral'].unique())\n",
    "for name in team_names:\n",
    "    elo_histories[name] = [current_elos[name]]"
   ]
  },
  {
   "cell_type": "code",
   "execution_count": 43,
   "metadata": {},
   "outputs": [],
   "source": [
    "def calculate_elos(schedule, current_elos, elo_histories):\n",
    "    '''\n",
    "    schedule: pd.Dataframe containing game logs\n",
    "    \n",
    "    current_elos: {str: int} form dictionary showing each team's current Elo\n",
    "    \n",
    "    elo_histories: {str: [int]} form dictionary showing all Elo values throughout the season \n",
    "    (used for plotting later on)\n",
    "    '''\n",
    "\n",
    "    for index, row in schedule.iterrows(): # i know iterrows sucks and vectors are better,\n",
    "                                    # but it's sequential data that's updated over time \n",
    "\n",
    "        away = row['Visitor/Neutral']\n",
    "        away_score = int(row['away_pts'])\n",
    "        home = row['Home/Neutral']\n",
    "        home_score = int(row['home_pts'])\n",
    "        print(home_score, away_score)\n",
    "        home_elo = current_elos[home]\n",
    "        away_elo = current_elos[away]\n",
    "\n",
    "        if home_score > away_score:\n",
    "            print(\"home team wins\")\n",
    "            print(home, 'beats', away, home_score, 'to', away_score)\n",
    "            result = 1\n",
    "        else:\n",
    "            print(\"away team wins\")\n",
    "            print(away, 'beats', home, away_score, 'to', home_score)\n",
    "            result = 0\n",
    "\n",
    "        \n",
    "        \n",
    "        expected_home_score = expected_score(current_elos[home], current_elos[away])\n",
    "        print('ehome:', expected_home_score)\n",
    "        expected_away_score = expected_score(current_elos[away], current_elos[home])\n",
    "        print('eaway:', expected_away_score)\n",
    "        new_rating_home = update_elo(home_elo, expected_home_score, result)\n",
    "        new_rating_away = update_elo(away_elo, expected_away_score, 1 - result)\n",
    "\n",
    "        elo_histories[home].append(new_rating_home)\n",
    "        elo_histories[away].append(new_rating_away)\n",
    "\n",
    "        current_elos[home] = new_rating_home\n",
    "        current_elos[away] = new_rating_away\n",
    "    \n",
    "    return current_elos, elo_histories"
   ]
  },
  {
   "cell_type": "code",
   "execution_count": 44,
   "metadata": {},
   "outputs": [
    {
     "name": "stdout",
     "output_type": "stream",
     "text": [
      "132 109\n",
      "home team wins\n",
      "Boston Celtics beats New York Knicks 132 to 109\n",
      "ehome: 0.6340479064247586\n",
      "eaway: 0.36595209357524144\n",
      "110 103\n",
      "home team wins\n",
      "Los Angeles Lakers beats Minnesota Timberwolves 110 to 103\n",
      "ehome: 0.4657777957787788\n",
      "eaway: 0.5342222042212211\n",
      "109 115\n",
      "away team wins\n",
      "Indiana Pacers beats Detroit Pistons 115 to 109\n",
      "ehome: 0.17567908160629842\n",
      "eaway: 0.8243209183937016\n",
      "120 116\n",
      "home team wins\n",
      "Atlanta Hawks beats Brooklyn Nets 120 to 116\n",
      "ehome: 0.5638802417792655\n",
      "eaway: 0.4361197582207344\n",
      "97 116\n",
      "away team wins\n",
      "Orlando Magic beats Miami Heat 116 to 97\n",
      "ehome: 0.5112588941935251\n",
      "eaway: 0.48874110580647495\n",
      "109 124\n",
      "away team wins\n",
      "Milwaukee Bucks beats Philadelphia 76ers 124 to 109\n",
      "ehome: 0.5088768417783281\n",
      "eaway: 0.49112315822167196\n",
      "106 136\n",
      "away team wins\n",
      "Cleveland Cavaliers beats Toronto Raptors 136 to 106\n",
      "ehome: 0.25024087116036825\n",
      "eaway: 0.7497591288396317\n",
      "105 110\n",
      "away team wins\n",
      "Charlotte Hornets beats Houston Rockets 110 to 105\n",
      "ehome: 0.7174997030414094\n",
      "eaway: 0.28250029695859064\n",
      "123 111\n",
      "home team wins\n",
      "New Orleans Pelicans beats Chicago Bulls 123 to 111\n",
      "ehome: 0.6200982661094537\n",
      "eaway: 0.3799017338905463\n",
      "124 126\n",
      "away team wins\n",
      "Memphis Grizzlies beats Utah Jazz 126 to 124\n",
      "ehome: 0.5282716214609294\n",
      "eaway: 0.47172837853907057\n",
      "113 116\n",
      "away team wins\n",
      "Phoenix Suns beats Los Angeles Clippers 116 to 113\n",
      "ehome: 0.44812896231374616\n",
      "eaway: 0.5518710376862538\n",
      "104 140\n",
      "away team wins\n",
      "Golden State Warriors beats Portland Trail Blazers 140 to 104\n",
      "ehome: 0.19480769307978435\n",
      "eaway: 0.8051923069202156\n",
      "102 122\n",
      "away team wins\n",
      "Boston Celtics beats Washington Wizards 122 to 102\n",
      "ehome: 0.09108870443368226\n",
      "eaway: 0.9089112955663177\n",
      "120 109\n",
      "home team wins\n",
      "Dallas Mavericks beats San Antonio Spurs 120 to 109\n",
      "ehome: 0.7624269183250133\n",
      "eaway: 0.2375730816749868\n",
      "115 117\n",
      "away team wins\n",
      "Minnesota Timberwolves beats Sacramento Kings 117 to 115\n",
      "ehome: 0.402951920799157\n",
      "eaway: 0.5970480792008429\n",
      "87 102\n",
      "away team wins\n",
      "Oklahoma City Thunder beats Denver Nuggets 102 to 87\n",
      "ehome: 0.5028162858673179\n",
      "eaway: 0.4971837141326821\n",
      "116 101\n",
      "home team wins\n",
      "Orlando Magic beats Brooklyn Nets 116 to 101\n",
      "ehome: 0.6891247416866217\n",
      "eaway: 0.3108752583133782\n",
      "115 107\n",
      "home team wins\n",
      "Toronto Raptors beats Philadelphia 76ers 115 to 107\n",
      "ehome: 0.2374144718560298\n",
      "eaway: 0.7625855281439702\n",
      "125 120\n",
      "home team wins\n",
      "Atlanta Hawks beats Charlotte Hornets 125 to 120\n",
      "ehome: 0.6379920926576922\n",
      "eaway: 0.36200790734230787\n",
      "113 101\n",
      "home team wins\n",
      "Cleveland Cavaliers beats Detroit Pistons 113 to 101\n",
      "ehome: 0.7936797343056146\n",
      "eaway: 0.2063202656943854\n",
      "123 98\n",
      "home team wins\n",
      "New York Knicks beats Indiana Pacers 123 to 98\n",
      "ehome: 0.5179786132635893\n",
      "eaway: 0.4820213867364107\n",
      "128 108\n",
      "home team wins\n",
      "Houston Rockets beats Memphis Grizzlies 128 to 108\n",
      "ehome: 0.6591325658548989\n",
      "eaway: 0.3408674341451011\n",
      "122 133\n",
      "away team wins\n",
      "Chicago Bulls beats Milwaukee Bucks 133 to 122\n",
      "ehome: 0.5838576310608683\n",
      "eaway: 0.4161423689391317\n",
      "86 127\n",
      "away team wins\n",
      "Golden State Warriors beats Utah Jazz 127 to 86\n",
      "ehome: 0.24434767336310748\n",
      "eaway: 0.7556523266368925\n",
      "123 116\n",
      "home team wins\n",
      "Los Angeles Lakers beats Phoenix Suns 123 to 116\n",
      "ehome: 0.47999004115120114\n",
      "eaway: 0.5200099588487989\n",
      "103 105\n",
      "away team wins\n",
      "New Orleans Pelicans beats Portland Trail Blazers 105 to 103\n",
      "ehome: 0.1861380934510372\n",
      "eaway: 0.8138619065489628\n",
      "104 109\n",
      "away team wins\n",
      "Los Angeles Clippers beats Denver Nuggets 109 to 104\n",
      "ehome: 0.600758014007932\n",
      "eaway: 0.399241985992068\n",
      "116 135\n",
      "away team wins\n",
      "Cleveland Cavaliers beats Washington Wizards 135 to 116\n",
      "ehome: 0.1994523301396034\n",
      "eaway: 0.8005476698603967\n",
      "118 124\n",
      "away team wins\n",
      "Boston Celtics beats Detroit Pistons 124 to 118\n",
      "ehome: 0.08895803666563916\n",
      "eaway: 0.9110419633343608\n",
      "106 114\n",
      "away team wins\n",
      "Miami Heat beats Charlotte Hornets 114 to 106\n",
      "ehome: 0.2740154409978658\n",
      "eaway: 0.7259845590021342\n",
      "124 111\n",
      "home team wins\n",
      "Memphis Grizzlies beats Orlando Magic 124 to 111\n",
      "ehome: 0.27429722120881356\n",
      "eaway: 0.7257027787911865\n",
      "112 101\n",
      "home team wins\n",
      "Minnesota Timberwolves beats Toronto Raptors 112 to 101\n",
      "ehome: 0.8229077493517117\n",
      "eaway: 0.1770922506482883\n",
      "95 114\n",
      "away team wins\n",
      "Oklahoma City Thunder beats Chicago Bulls 114 to 95\n",
      "ehome: 0.2956444520222185\n",
      "eaway: 0.7043555479777814\n",
      "109 106\n",
      "home team wins\n",
      "San Antonio Spurs beats Houston Rockets 109 to 106\n",
      "ehome: 0.34346928175047087\n",
      "eaway: 0.6565307182495291\n",
      "114 102\n",
      "home team wins\n",
      "Phoenix Suns beats Dallas Mavericks 114 to 102\n",
      "ehome: 0.4891803672672269\n",
      "eaway: 0.510819632732773\n",
      "131 127\n",
      "home team wins\n",
      "Los Angeles Lakers beats Sacramento Kings 131 to 127\n",
      "ehome: 0.6190095371527199\n",
      "eaway: 0.38099046284728016\n",
      "114 118\n",
      "away team wins\n",
      "Philadelphia 76ers beats Indiana Pacers 118 to 114\n",
      "ehome: 0.5644996768383123\n",
      "eaway: 0.4355003231616877\n",
      "125 103\n",
      "home team wins\n",
      "Portland Trail Blazers beats New Orleans Pelicans 125 to 103\n",
      "ehome: 0.17973237096226838\n",
      "eaway: 0.8202676290377316\n",
      "115 102\n",
      "home team wins\n",
      "Brooklyn Nets beats Milwaukee Bucks 115 to 102\n",
      "ehome: 0.318682643734985\n",
      "eaway: 0.6813173562650151\n",
      "128 104\n",
      "home team wins\n",
      "Oklahoma City Thunder beats Atlanta Hawks 128 to 104\n",
      "ehome: 0.7355546267492575\n",
      "eaway: 0.2644453732507426\n",
      "104 112\n",
      "away team wins\n",
      "Los Angeles Clippers beats Golden State Warriors 112 to 104\n",
      "ehome: 0.5256829673398723\n",
      "eaway: 0.4743170326601277\n",
      "119 115\n",
      "home team wins\n",
      "Orlando Magic beats Indiana Pacers 119 to 115\n",
      "ehome: 0.4830103579153073\n",
      "eaway: 0.5169896420846928\n",
      "119 121\n",
      "away team wins\n",
      "Washington Wizards beats Atlanta Hawks 121 to 119\n",
      "ehome: 0.7426653608749351\n",
      "eaway: 0.25733463912506493\n",
      "119 108\n",
      "home team wins\n",
      "Boston Celtics beats Milwaukee Bucks 119 to 108\n",
      "ehome: 0.7345242366384571\n",
      "eaway: 0.2654757633615428\n",
      "125 127\n",
      "away team wins\n",
      "Denver Nuggets beats Toronto Raptors 127 to 125\n",
      "ehome: 0.16739546264741095\n",
      "eaway: 0.832604537352589\n",
      "106 98\n",
      "home team wins\n",
      "Miami Heat beats Detroit Pistons 106 to 98\n",
      "ehome: 0.8082230798861367\n",
      "eaway: 0.19177692011386327\n",
      "104 110\n",
      "away team wins\n",
      "Cleveland Cavaliers beats New York Knicks 110 to 104\n",
      "ehome: 0.5792818841000624\n",
      "eaway: 0.4207181158999376\n",
      "101 106\n",
      "away team wins\n",
      "Houston Rockets beats San Antonio Spurs 106 to 101\n",
      "ehome: 0.3783164894821659\n",
      "eaway: 0.6216835105178341\n",
      "123 126\n",
      "away team wins\n",
      "Chicago Bulls beats Memphis Grizzlies 126 to 123\n",
      "ehome: 0.3674039868878106\n",
      "eaway: 0.6325960131121893\n",
      "110 102\n",
      "home team wins\n",
      "Dallas Mavericks beats Utah Jazz 110 to 102\n",
      "ehome: 0.7771770569778169\n",
      "eaway: 0.2228229430221832\n",
      "111 98\n",
      "home team wins\n",
      "Sacramento Kings beats Portland Trail Blazers 111 to 98\n",
      "ehome: 0.7328355652867835\n",
      "eaway: 0.26716443471321655\n",
      "109 105\n",
      "home team wins\n",
      "Phoenix Suns beats Los Angeles Lakers 109 to 105\n",
      "ehome: 0.4938235703276916\n",
      "eaway: 0.5061764296723085\n",
      "139 144\n",
      "away team wins\n",
      "Denver Nuggets beats Brooklyn Nets 144 to 139\n",
      "ehome: 0.23309409826883512\n",
      "eaway: 0.7669059017311649\n",
      "114 120\n",
      "away team wins\n",
      "Dallas Mavericks beats Minnesota Timberwolves 120 to 114\n",
      "ehome: 0.5126301453329624\n",
      "eaway: 0.4873698546670376\n",
      "96 113\n",
      "away team wins\n",
      "Sacramento Kings beats Utah Jazz 113 to 96\n",
      "ehome: 0.3032916038755309\n",
      "eaway: 0.6967083961244691\n",
      "124 106\n",
      "home team wins\n",
      "Golden State Warriors beats New Orleans Pelicans 124 to 106\n",
      "ehome: 0.5073093433629482\n",
      "eaway: 0.49269065663705175\n",
      "95 105\n",
      "away team wins\n",
      "Detroit Pistons beats Philadelphia 76ers 105 to 95\n",
      "ehome: 0.8009875928289607\n",
      "eaway: 0.19901240717103935\n",
      "133 120\n",
      "home team wins\n",
      "Washington Wizards beats Atlanta Hawks 133 to 120\n",
      "ehome: 0.2913444788342237\n",
      "eaway: 0.7086555211657763\n",
      "135 132\n",
      "home team wins\n",
      "Indiana Pacers beats Boston Celtics 135 to 132\n",
      "ehome: 0.28148050825752247\n",
      "eaway: 0.7185194917424776\n",
      "134 110\n",
      "home team wins\n",
      "Cleveland Cavaliers beats Los Angeles Lakers 134 to 110\n",
      "ehome: 0.4156679257104759\n",
      "eaway: 0.584332074289524\n",
      "138 133\n",
      "home team wins\n",
      "Charlotte Hornets beats Toronto Raptors 138 to 133\n",
      "ehome: 0.5316162420313609\n",
      "eaway: 0.468383757968639\n",
      "107 116\n",
      "away team wins\n",
      "New York Knicks beats Miami Heat 116 to 107\n",
      "ehome: 0.4450944820476998\n",
      "eaway: 0.5549055179523003\n",
      "102 99\n",
      "home team wins\n",
      "Chicago Bulls beats Orlando Magic 102 to 99\n",
      "ehome: 0.4305320513824404\n",
      "eaway: 0.5694679486175597\n",
      "106 119\n",
      "away team wins\n",
      "Brooklyn Nets beats Memphis Grizzlies 119 to 106\n",
      "ehome: 0.47111495743882376\n",
      "eaway: 0.5288850425611763\n",
      "105 93\n",
      "home team wins\n",
      "Oklahoma City Thunder beats San Antonio Spurs 105 to 93\n",
      "ehome: 0.813283436222277\n",
      "eaway: 0.18671656377772303\n",
      "104 89\n",
      "home team wins\n",
      "Golden State Warriors beats New Orleans Pelicans 104 to 89\n",
      "ehome: 0.5356110209783277\n",
      "eaway: 0.46438897902167225\n",
      "105 106\n",
      "away team wins\n",
      "Portland Trail Blazers beats Los Angeles Clippers 106 to 105\n",
      "ehome: 0.8033723801245528\n",
      "eaway: 0.19662761987544713\n",
      "122 99\n",
      "home team wins\n",
      "Memphis Grizzlies beats Milwaukee Bucks 122 to 99\n",
      "ehome: 0.31666661364031334\n",
      "eaway: 0.6833333863596867\n",
      "102 108\n",
      "away team wins\n",
      "Houston Rockets beats Dallas Mavericks 108 to 102\n",
      "ehome: 0.6526606976914597\n",
      "eaway: 0.3473393023085404\n",
      "88 106\n",
      "away team wins\n",
      "San Antonio Spurs beats Utah Jazz 106 to 88\n",
      "ehome: 0.460464793229686\n",
      "eaway: 0.539535206770314\n",
      "119 125\n",
      "away team wins\n",
      "Phoenix Suns beats Los Angeles Clippers 125 to 119\n",
      "ehome: 0.4178898432827111\n",
      "eaway: 0.5821101567172889\n",
      "109 124\n",
      "away team wins\n",
      "Boston Celtics beats Charlotte Hornets 124 to 109\n",
      "ehome: 0.13707995493921318\n",
      "eaway: 0.8629200450607869\n",
      "120 109\n",
      "home team wins\n",
      "Cleveland Cavaliers beats Orlando Magic 120 to 109\n",
      "ehome: 0.5339705370769006\n",
      "eaway: 0.4660294629230995\n",
      "98 128\n",
      "away team wins\n",
      "New York Knicks beats Detroit Pistons 128 to 98\n",
      "ehome: 0.15946674281424372\n",
      "eaway: 0.8405332571857562\n",
      "115 123\n",
      "away team wins\n",
      "Sacramento Kings beats Atlanta Hawks 123 to 115\n",
      "ehome: 0.3773005258946973\n",
      "eaway: 0.6226994741053026\n",
      "120 112\n",
      "home team wins\n",
      "Brooklyn Nets beats Chicago Bulls 120 to 112\n",
      "ehome: 0.37200562767280687\n",
      "eaway: 0.6279943723271932\n",
      "125 131\n",
      "away team wins\n",
      "Los Angeles Lakers beats Toronto Raptors 131 to 125\n",
      "ehome: 0.17545412675983074\n",
      "eaway: 0.8245458732401694\n",
      "125 118\n",
      "home team wins\n",
      "New Orleans Pelicans beats Indiana Pacers 125 to 118\n",
      "ehome: 0.5018546617527009\n",
      "eaway: 0.4981453382472991\n",
      "119 116\n",
      "home team wins\n",
      "Minnesota Timberwolves beats Denver Nuggets 119 to 116\n",
      "ehome: 0.4669541902521953\n",
      "eaway: 0.5330458097478047\n",
      "114 137\n",
      "away team wins\n",
      "Oklahoma City Thunder beats Portland Trail Blazers 137 to 114\n",
      "ehome: 0.14375514478156856\n",
      "eaway: 0.8562448552184314\n",
      "103 113\n",
      "away team wins\n",
      "Boston Celtics beats Charlotte Hornets 113 to 103\n",
      "ehome: 0.13338888836692225\n",
      "eaway: 0.8666111116330777\n",
      "107 124\n",
      "away team wins\n",
      "Memphis Grizzlies beats Philadelphia 76ers 124 to 107\n",
      "ehome: 0.6615030794007306\n",
      "eaway: 0.3384969205992695\n",
      "131 128\n",
      "home team wins\n",
      "Toronto Raptors beats Sacramento Kings 131 to 128\n",
      "ehome: 0.2263133570062829\n",
      "eaway: 0.773686642993717\n",
      "121 127\n",
      "away team wins\n",
      "Golden State Warriors beats Houston Rockets 127 to 121\n",
      "ehome: 0.387799631164985\n",
      "eaway: 0.612200368835015\n",
      "113 114\n",
      "away team wins\n",
      "Cleveland Cavaliers beats Milwaukee Bucks 114 to 113\n",
      "ehome: 0.40236776548038405\n",
      "eaway: 0.597632234519616\n",
      "113 103\n",
      "home team wins\n",
      "San Antonio Spurs beats Minnesota Timberwolves 113 to 103\n",
      "ehome: 0.23560779195459208\n",
      "eaway: 0.7643922080454079\n",
      "98 118\n",
      "away team wins\n",
      "Miami Heat beats Washington Wizards 118 to 98\n",
      "ehome: 0.22271119885460103\n",
      "eaway: 0.777288801145399\n",
      "129 103\n",
      "home team wins\n",
      "Denver Nuggets beats Utah Jazz 129 to 103\n",
      "ehome: 0.8101596617515711\n",
      "eaway: 0.1898403382484289\n",
      "103 97\n",
      "home team wins\n",
      "Phoenix Suns beats Portland Trail Blazers 103 to 97\n",
      "ehome: 0.834605680559495\n",
      "eaway: 0.1653943194405049\n",
      "92 105\n",
      "away team wins\n",
      "Oklahoma City Thunder beats Los Angeles Clippers 105 to 92\n",
      "ehome: 0.3482856557567493\n",
      "eaway: 0.6517143442432508\n",
      "92 106\n",
      "away team wins\n",
      "Detroit Pistons beats Brooklyn Nets 106 to 92\n",
      "ehome: 0.6844243680181856\n",
      "eaway: 0.3155756319818145\n",
      "111 126\n",
      "away team wins\n",
      "Atlanta Hawks beats New Orleans Pelicans 126 to 111\n",
      "ehome: 0.6783454465845803\n",
      "eaway: 0.3216545534154197\n",
      "108 85\n",
      "home team wins\n",
      "Dallas Mavericks beats Orlando Magic 108 to 85\n",
      "ehome: 0.6063081257689424\n",
      "eaway: 0.39369187423105745\n",
      "116 114\n",
      "home team wins\n",
      "Cleveland Cavaliers beats Milwaukee Bucks 116 to 114\n",
      "ehome: 0.6196958967660451\n",
      "eaway: 0.3803041032339549\n",
      "112 125\n",
      "away team wins\n",
      "Golden State Warriors beats Washington Wizards 125 to 112\n",
      "ehome: 0.15564685141431495\n",
      "eaway: 0.844353148585685\n",
      "115 103\n",
      "home team wins\n",
      "Detroit Pistons beats Los Angeles Lakers 115 to 103\n",
      "ehome: 0.16008616285353577\n",
      "eaway: 0.8399138371464642\n",
      "93 123\n",
      "away team wins\n",
      "Boston Celtics beats Atlanta Hawks 123 to 93\n",
      "ehome: 0.19684444672019866\n",
      "eaway: 0.8031555532798013\n",
      "106 104\n",
      "home team wins\n",
      "Brooklyn Nets beats Memphis Grizzlies 106 to 104\n",
      "ehome: 0.5156999438182924\n",
      "eaway: 0.4843000561817076\n",
      "110 111\n",
      "away team wins\n",
      "Sacramento Kings beats Miami Heat 111 to 110\n",
      "ehome: 0.5236077059954767\n",
      "eaway: 0.4763922940045233\n",
      "126 135\n",
      "away team wins\n",
      "Utah Jazz beats Chicago Bulls 135 to 126\n",
      "ehome: 0.6889554201433726\n",
      "eaway: 0.31104457985662737\n",
      "109 97\n",
      "home team wins\n",
      "Houston Rockets beats New York Knicks 109 to 97\n",
      "ehome: 0.38418606478149003\n",
      "eaway: 0.6158139352185099\n",
      "114 93\n",
      "home team wins\n",
      "Minnesota Timberwolves beats Charlotte Hornets 114 to 93\n",
      "ehome: 0.7959464164599522\n",
      "eaway: 0.2040535835400477\n",
      "102 86\n",
      "home team wins\n",
      "Oklahoma City Thunder beats Orlando Magic 102 to 86\n",
      "ehome: 0.7083435013002145\n",
      "eaway: 0.2916564986997855\n",
      "100 118\n",
      "away team wins\n",
      "Portland Trail Blazers beats New Orleans Pelicans 118 to 100\n",
      "ehome: 0.7635447753905873\n",
      "eaway: 0.2364552246094127\n",
      "127 134\n",
      "away team wins\n",
      "Indiana Pacers beats Dallas Mavericks 134 to 127\n",
      "ehome: 0.5947445013655949\n",
      "eaway: 0.40525549863440513\n",
      "121 119\n",
      "home team wins\n",
      "Denver Nuggets beats Toronto Raptors 121 to 119\n",
      "ehome: 0.8341206764065967\n",
      "eaway: 0.16587932359340335\n",
      "118 116\n",
      "home team wins\n",
      "Phoenix Suns beats Philadelphia 76ers 118 to 116\n",
      "ehome: 0.6883058180898782\n",
      "eaway: 0.3116941819101217\n",
      "113 104\n",
      "home team wins\n",
      "Los Angeles Clippers beats San Antonio Spurs 113 to 104\n",
      "ehome: 0.6733406144567096\n",
      "eaway: 0.32665938554329044\n",
      "108 107\n",
      "home team wins\n",
      "Charlotte Hornets beats Detroit Pistons 108 to 107\n",
      "ehome: 0.5431636109513771\n",
      "eaway: 0.4568363890486229\n",
      "118 111\n",
      "home team wins\n",
      "Indiana Pacers beats Orlando Magic 118 to 111\n",
      "ehome: 0.5599371955890966\n",
      "eaway: 0.4400628044109033\n",
      "121 116\n",
      "home team wins\n",
      "Atlanta Hawks beats New York Knicks 121 to 116\n",
      "ehome: 0.3137362180256325\n",
      "eaway: 0.6862637819743674\n",
      "112 118\n",
      "away team wins\n",
      "Golden State Warriors beats Boston Celtics 118 to 112\n",
      "ehome: 0.6238414168681722\n",
      "eaway: 0.37615858313182776\n",
      "127 100\n",
      "home team wins\n",
      "Houston Rockets beats San Antonio Spurs 127 to 100\n",
      "ehome: 0.6464085955463896\n",
      "eaway: 0.3535914044536103\n",
      "131 114\n",
      "home team wins\n",
      "Memphis Grizzlies beats Los Angeles Lakers 131 to 114\n",
      "ehome: 0.25675932205714724\n",
      "eaway: 0.7432406779428528\n",
      "122 131\n",
      "away team wins\n",
      "Cleveland Cavaliers beats New Orleans Pelicans 131 to 122\n",
      "ehome: 0.42950786917486355\n",
      "eaway: 0.5704921308251365\n",
      "119 99\n",
      "home team wins\n",
      "Dallas Mavericks beats Chicago Bulls 119 to 99\n",
      "ehome: 0.6581800588584664\n",
      "eaway: 0.3418199411415335\n",
      "124 122\n",
      "home team wins\n",
      "Denver Nuggets beats Oklahoma City Thunder 124 to 122\n",
      "ehome: 0.4196548561777833\n",
      "eaway: 0.5803451438222167\n",
      "115 112\n",
      "home team wins\n",
      "Phoenix Suns beats Miami Heat 115 to 112\n",
      "ehome: 0.658230917738494\n",
      "eaway: 0.3417690822615061\n",
      "110 98\n",
      "home team wins\n",
      "Los Angeles Clippers beats Philadelphia 76ers 110 to 98\n",
      "ehome: 0.5936077132390235\n",
      "eaway: 0.40639228676097655\n",
      "122 107\n",
      "home team wins\n",
      "Sacramento Kings beats Toronto Raptors 122 to 107\n",
      "ehome: 0.7559272044619161\n",
      "eaway: 0.2440727955380839\n",
      "119 135\n",
      "away team wins\n",
      "Minnesota Timberwolves beats Chicago Bulls 135 to 119\n",
      "ehome: 0.3269115815124536\n",
      "eaway: 0.6730884184875464\n",
      "123 100\n",
      "home team wins\n",
      "Milwaukee Bucks beats Utah Jazz 123 to 100\n",
      "ehome: 0.6549355784598829\n",
      "eaway: 0.345064421540117\n",
      "118 105\n",
      "home team wins\n",
      "San Antonio Spurs beats Portland Trail Blazers 118 to 105\n",
      "ehome: 0.569631988501345\n",
      "eaway: 0.4303680114986549\n"
     ]
    },
    {
     "data": {
      "text/plain": [
       "{'New York Knicks': [1584.711486893246,\n",
       "  1577.3924450217412,\n",
       "  1587.0328727564695,\n",
       "  1575.4472350744682,\n",
       "  1584.3491247154222,\n",
       "  1587.538459571707,\n",
       "  1575.2221808673369,\n",
       "  1561.4969052278495],\n",
       " 'Minnesota Timberwolves': [1607.4606388711322,\n",
       "  1596.7761947867077,\n",
       "  1604.835233202691,\n",
       "  1608.3770782156566,\n",
       "  1598.1244753089975,\n",
       "  1608.7853915039536,\n",
       "  1593.4975473430454,\n",
       "  1597.5786190138465,\n",
       "  1604.1168506440956],\n",
       " 'Indiana Pacers': [1561.380655075586,\n",
       "  1564.894236707712,\n",
       "  1555.2538089729837,\n",
       "  1543.9638154362176,\n",
       "  1533.6240225945237,\n",
       "  1547.9944124293731,\n",
       "  1538.0315056644272,\n",
       "  1549.9263956917391,\n",
       "  1558.7276517799571],\n",
       " 'Brooklyn Nets': [1410.8879283939752,\n",
       "  1402.1655332295607,\n",
       "  1395.9480280632931,\n",
       "  1409.5743751885934,\n",
       "  1404.9124932232166,\n",
       "  1414.3347923719932,\n",
       "  1426.894679818537,\n",
       "  1413.2061924581733,\n",
       "  1422.8921935818075],\n",
       " 'Orlando Magic': [1530.2250287664333,\n",
       "  1540.4502066503037,\n",
       "  1546.6677118165712,\n",
       "  1532.1536562407475,\n",
       "  1542.4934490824414,\n",
       "  1531.1040901100903,\n",
       "  1521.7835008516283,\n",
       "  1513.9096633670072,\n",
       "  1508.0765333930115,\n",
       "  1499.2752773047935],\n",
       " 'Milwaukee Bucks': [1529.4440603311696,\n",
       "  1539.6215971667361,\n",
       "  1527.9444445455188,\n",
       "  1514.3180974202185,\n",
       "  1509.0085821529876,\n",
       "  1495.341914425794,\n",
       "  1487.2945591161863,\n",
       "  1479.688477051507,\n",
       "  1486.5897654823095],\n",
       " 'Cleveland Cavaliers': [1518.3531097781024,\n",
       "  1523.3579272013098,\n",
       "  1527.4843325151976,\n",
       "  1531.4733791179897,\n",
       "  1543.059016799991,\n",
       "  1554.7456582857815,\n",
       "  1564.0662475442434,\n",
       "  1572.113602853851,\n",
       "  1579.7196849185302,\n",
       "  1588.3098423020274],\n",
       " 'Charlotte Hornets': [1351.4538797028154,\n",
       "  1365.8038737636437,\n",
       "  1358.5637156167975,\n",
       "  1353.08340679684,\n",
       "  1362.4510819562129,\n",
       "  1359.7094828574286,\n",
       "  1357.04170509009,\n",
       "  1352.960633419289,\n",
       "  1362.0973612002615],\n",
       " 'Chicago Bulls': [1488.3936215539197,\n",
       "  1480.7955868761087,\n",
       "  1492.472739497326,\n",
       "  1486.5598504568818,\n",
       "  1493.907930194638,\n",
       "  1505.2972891669892,\n",
       "  1492.7374017204454,\n",
       "  1478.958293317578,\n",
       "  1472.1218944947473,\n",
       "  1465.5836628644981],\n",
       " 'Memphis Grizzlies': [1373.904676840865,\n",
       "  1384.4701092700836,\n",
       "  1377.6527605871815,\n",
       "  1392.1668161630053,\n",
       "  1384.818736425249,\n",
       "  1375.3964372764724,\n",
       "  1389.0631050036661,\n",
       "  1402.2931665916808,\n",
       "  1392.6071654680466,\n",
       "  1407.4719790269037],\n",
       " 'Phoenix Suns': [1599.277015985001,\n",
       "  1608.239595231276,\n",
       "  1597.8393960543,\n",
       "  1608.0557887089556,\n",
       "  1618.1793173024016,\n",
       "  1626.5371141680557,\n",
       "  1629.845000556866,\n",
       "  1636.0788841950684,\n",
       "  1642.9142658402986],\n",
       " 'Golden State Warriors': [1575.2347278917505,\n",
       "  1579.130881753346,\n",
       "  1584.0178352206083,\n",
       "  1573.504175873811,\n",
       "  1583.3579890065519,\n",
       "  1592.6457685869852,\n",
       "  1600.401761210285,\n",
       "  1603.5146982385713,\n",
       "  1615.9915265759348],\n",
       " 'Boston Celtics': [1680.1906216232785,\n",
       "  1687.5096634947834,\n",
       "  1689.331437583457,\n",
       "  1691.11059831677,\n",
       "  1696.4201135840008,\n",
       "  1682.0497237491513,\n",
       "  1684.7913228479356,\n",
       "  1687.459100615274,\n",
       "  1691.395989549678,\n",
       "  1678.9191612123145],\n",
       " 'San Antonio Spurs': [1398.0469631180226,\n",
       "  1393.295501484523,\n",
       "  1406.4261158495135,\n",
       "  1398.8597860598702,\n",
       "  1395.1254547843157,\n",
       "  1404.3347506489094,\n",
       "  1419.6225948098177,\n",
       "  1413.0894070989518,\n",
       "  1406.0175790098797,\n",
       "  1414.624939239853],\n",
       " 'Oklahoma City Thunder': [1633.225296251623,\n",
       "  1643.2816219689694,\n",
       "  1649.1945110094136,\n",
       "  1654.4834184744284,\n",
       "  1658.2177497499829,\n",
       "  1661.0928526456144,\n",
       "  1668.0585657607494,\n",
       "  1673.891695734745,\n",
       "  1662.2847928583008],\n",
       " 'Philadelphia 76ers': [1535.612969960298,\n",
       "  1525.4354331247314,\n",
       "  1510.183722561852,\n",
       "  1521.4737160986183,\n",
       "  1505.453964242039,\n",
       "  1492.2239026540244,\n",
       "  1485.9900190158219,\n",
       "  1477.8621732806023],\n",
       " 'Detroit Pistons': [1292.8301476993272,\n",
       "  1289.3165660672012,\n",
       "  1285.1901607533134,\n",
       "  1283.4110000200005,\n",
       "  1279.5754616177232,\n",
       "  1295.5952134743025,\n",
       "  1292.4058786180176,\n",
       "  1306.0943659783813,\n",
       "  1322.8926427213107,\n",
       "  1313.7559149403382],\n",
       " 'New Orleans Pelicans': [1573.5093180711874,\n",
       "  1581.1073527489984,\n",
       "  1584.8301146180193,\n",
       "  1568.4247620372646,\n",
       "  1558.5709489045237,\n",
       "  1549.2831693240903,\n",
       "  1559.2460760890363,\n",
       "  1545.6791671573446,\n",
       "  1530.408271649533,\n",
       "  1521.8181142660358],\n",
       " 'Los Angeles Clippers': [1563.103180075523,\n",
       "  1554.140600829248,\n",
       "  1566.1557611094065,\n",
       "  1576.6694204562039,\n",
       "  1560.6019728537128,\n",
       "  1552.2441759880585,\n",
       "  1545.2784628729235,\n",
       "  1551.8116505837893,\n",
       "  1559.9394963190089],\n",
       " 'Miami Heat': [1538.0498324625414,\n",
       "  1527.824654578671,\n",
       "  1533.3049633986284,\n",
       "  1537.1405018009057,\n",
       "  1528.2386121599516,\n",
       "  1532.6928361370435,\n",
       "  1522.220682017134,\n",
       "  1515.385300371904],\n",
       " 'Toronto Raptors': [1327.7277021719724,\n",
       "  1322.722884748765,\n",
       "  1337.9745953116444,\n",
       "  1334.4327502986787,\n",
       "  1331.0848410457304,\n",
       "  1321.7171658863576,\n",
       "  1318.2080833511611,\n",
       "  1333.6818162110355,\n",
       "  1330.3642297391675,\n",
       "  1325.482773828406],\n",
       " 'Houston Rockets': [1513.375006496063,\n",
       "  1499.0250124352347,\n",
       "  1505.8423611181368,\n",
       "  1492.7117467531461,\n",
       "  1500.2780765427894,\n",
       "  1513.3312904966187,\n",
       "  1505.575297873319,\n",
       "  1517.8915765776892,\n",
       "  1524.9634046667613],\n",
       " 'Dallas Mavericks': [1600.6073591111385,\n",
       "  1605.3588207446383,\n",
       "  1595.1424280899828,\n",
       "  1599.5988869504265,\n",
       "  1609.8514898570857,\n",
       "  1596.7982759032564,\n",
       "  1604.6721133878775,\n",
       "  1592.7772233605656,\n",
       "  1599.6136221833963],\n",
       " 'Sacramento Kings': [1528.4737647189793,\n",
       "  1520.414726302996,\n",
       "  1512.7949170460504,\n",
       "  1518.1382057403148,\n",
       "  1524.2040378178253,\n",
       "  1531.7500483357194,\n",
       "  1516.276315475845,\n",
       "  1526.7484695957546,\n",
       "  1531.6299255065162],\n",
       " 'Atlanta Hawks': [1455.520374249935,\n",
       "  1464.2427694143496,\n",
       "  1471.4829275611958,\n",
       "  1466.194020096181,\n",
       "  1451.3407128786823,\n",
       "  1437.1676024553667,\n",
       "  1429.6215919374727,\n",
       "  1443.1885008691643,\n",
       "  1439.2516119347604,\n",
       "  1452.9768875742477],\n",
       " 'Washington Wizards': [1287.8868732578583,\n",
       "  1286.0650991691846,\n",
       "  1282.0760525663925,\n",
       "  1296.9293597838912,\n",
       "  1311.1024702072068,\n",
       "  1306.6482462301149,\n",
       "  1303.5353092018286],\n",
       " 'Denver Nuggets': [1635.1822728060101,\n",
       "  1625.1259470886637,\n",
       "  1613.110786808505,\n",
       "  1616.4586960614533,\n",
       "  1621.1205780268301,\n",
       "  1610.459661831874,\n",
       "  1614.2564685968425,\n",
       "  1617.5740550687105,\n",
       "  1629.180957945155],\n",
       " 'Utah Jazz': [1393.5707878770177,\n",
       "  1383.005355447799,\n",
       "  1378.1184019805369,\n",
       "  1373.6619431200932,\n",
       "  1367.5961110425826,\n",
       "  1358.3868151779889,\n",
       "  1354.5900084130203,\n",
       "  1368.3691168158878,\n",
       "  1361.4678283850853],\n",
       " 'Portland Trail Blazers': [1328.7173225344523,\n",
       "  1324.8211686728566,\n",
       "  1321.0984068038358,\n",
       "  1337.5037593845905,\n",
       "  1332.160470690326,\n",
       "  1348.227918292817,\n",
       "  1345.3528153971856,\n",
       "  1342.0449290083754,\n",
       "  1357.3158245161871,\n",
       "  1348.708464286214],\n",
       " 'Los Angeles Lakers': [1583.6433774307768,\n",
       "  1594.3278215152013,\n",
       "  1604.7280206921773,\n",
       "  1612.347829949123,\n",
       "  1602.2243013556767,\n",
       "  1590.5376598698863,\n",
       "  1594.0467424050828,\n",
       "  1577.2484656621534,\n",
       "  1562.3836521032963]}"
      ]
     },
     "execution_count": 44,
     "metadata": {},
     "output_type": "execute_result"
    }
   ],
   "source": [
    "current_elos, elo_histories = calculate_elos(schedule, current_elos, elo_histories)\n",
    "elo_histories"
   ]
  },
  {
   "cell_type": "code",
   "execution_count": 45,
   "metadata": {},
   "outputs": [
    {
     "data": {
      "application/vnd.plotly.v1+json": {
       "config": {
        "plotlyServerURL": "https://plot.ly"
       },
       "data": [
        {
         "marker": {
          "color": [
           "rgb(0,43,92)",
           "rgb(200,16,46)",
           "rgb(206,17,65)",
           "rgb(224,58,62)",
           "rgb(0,43,92)",
           "rgb(0,120,140)",
           "rgb(93,118,169)",
           "rgb(196,206,211)",
           "rgb(0,0,0)",
           "rgb(200,16,46)",
           "rgb(206,17,65)",
           "rgb(0,107,182)",
           "rgb(0,71,27)",
           "rgb(0,125,197)",
           "rgb(152,0,46)",
           "rgb(0,22,65)",
           "rgb(206,17,65)",
           "rgb(91,43,130)",
           "rgb(0,45,98)",
           "rgb(200,16,46)",
           "rgb(0,107,182)",
           "rgb(85,37,130)",
           "rgb(134,0,56)",
           "rgb(0,83,188)",
           "rgb(12,35,64)",
           "rgb(255,199,44)",
           "rgb(13,34,64)",
           "rgb(29,17,96)",
           "rgb(0,125,195)",
           "rgb(0,122,51)"
          ]
         },
         "type": "bar",
         "x": [
          "Washington Wizards",
          "Detroit Pistons",
          "Toronto Raptors",
          "Portland Trail Blazers",
          "Utah Jazz",
          "Charlotte Hornets",
          "Memphis Grizzlies",
          "San Antonio Spurs",
          "Brooklyn Nets",
          "Atlanta Hawks",
          "Chicago Bulls",
          "Philadelphia 76ers",
          "Milwaukee Bucks",
          "Orlando Magic",
          "Miami Heat",
          "New Orleans Pelicans",
          "Houston Rockets",
          "Sacramento Kings",
          "Indiana Pacers",
          "Los Angeles Clippers",
          "New York Knicks",
          "Los Angeles Lakers",
          "Cleveland Cavaliers",
          "Dallas Mavericks",
          "Minnesota Timberwolves",
          "Golden State Warriors",
          "Denver Nuggets",
          "Phoenix Suns",
          "Oklahoma City Thunder",
          "Boston Celtics"
         ],
         "y": [
          1303.5353092018286,
          1313.7559149403382,
          1325.482773828406,
          1348.708464286214,
          1361.4678283850853,
          1362.0973612002615,
          1407.4719790269037,
          1414.624939239853,
          1422.8921935818075,
          1452.9768875742477,
          1465.5836628644981,
          1477.8621732806023,
          1486.5897654823095,
          1499.2752773047935,
          1515.385300371904,
          1521.8181142660358,
          1524.9634046667613,
          1531.6299255065162,
          1558.7276517799571,
          1559.9394963190089,
          1561.4969052278495,
          1562.3836521032963,
          1588.3098423020274,
          1599.6136221833963,
          1604.1168506440956,
          1615.9915265759348,
          1629.180957945155,
          1642.9142658402986,
          1662.2847928583008,
          1678.9191612123145
         ]
        }
       ],
       "layout": {
        "autosize": false,
        "height": 1200,
        "plot_bgcolor": "white",
        "template": {
         "data": {
          "bar": [
           {
            "error_x": {
             "color": "#2a3f5f"
            },
            "error_y": {
             "color": "#2a3f5f"
            },
            "marker": {
             "line": {
              "color": "#E5ECF6",
              "width": 0.5
             },
             "pattern": {
              "fillmode": "overlay",
              "size": 10,
              "solidity": 0.2
             }
            },
            "type": "bar"
           }
          ],
          "barpolar": [
           {
            "marker": {
             "line": {
              "color": "#E5ECF6",
              "width": 0.5
             },
             "pattern": {
              "fillmode": "overlay",
              "size": 10,
              "solidity": 0.2
             }
            },
            "type": "barpolar"
           }
          ],
          "carpet": [
           {
            "aaxis": {
             "endlinecolor": "#2a3f5f",
             "gridcolor": "white",
             "linecolor": "white",
             "minorgridcolor": "white",
             "startlinecolor": "#2a3f5f"
            },
            "baxis": {
             "endlinecolor": "#2a3f5f",
             "gridcolor": "white",
             "linecolor": "white",
             "minorgridcolor": "white",
             "startlinecolor": "#2a3f5f"
            },
            "type": "carpet"
           }
          ],
          "choropleth": [
           {
            "colorbar": {
             "outlinewidth": 0,
             "ticks": ""
            },
            "type": "choropleth"
           }
          ],
          "contour": [
           {
            "colorbar": {
             "outlinewidth": 0,
             "ticks": ""
            },
            "colorscale": [
             [
              0,
              "#0d0887"
             ],
             [
              0.1111111111111111,
              "#46039f"
             ],
             [
              0.2222222222222222,
              "#7201a8"
             ],
             [
              0.3333333333333333,
              "#9c179e"
             ],
             [
              0.4444444444444444,
              "#bd3786"
             ],
             [
              0.5555555555555556,
              "#d8576b"
             ],
             [
              0.6666666666666666,
              "#ed7953"
             ],
             [
              0.7777777777777778,
              "#fb9f3a"
             ],
             [
              0.8888888888888888,
              "#fdca26"
             ],
             [
              1,
              "#f0f921"
             ]
            ],
            "type": "contour"
           }
          ],
          "contourcarpet": [
           {
            "colorbar": {
             "outlinewidth": 0,
             "ticks": ""
            },
            "type": "contourcarpet"
           }
          ],
          "heatmap": [
           {
            "colorbar": {
             "outlinewidth": 0,
             "ticks": ""
            },
            "colorscale": [
             [
              0,
              "#0d0887"
             ],
             [
              0.1111111111111111,
              "#46039f"
             ],
             [
              0.2222222222222222,
              "#7201a8"
             ],
             [
              0.3333333333333333,
              "#9c179e"
             ],
             [
              0.4444444444444444,
              "#bd3786"
             ],
             [
              0.5555555555555556,
              "#d8576b"
             ],
             [
              0.6666666666666666,
              "#ed7953"
             ],
             [
              0.7777777777777778,
              "#fb9f3a"
             ],
             [
              0.8888888888888888,
              "#fdca26"
             ],
             [
              1,
              "#f0f921"
             ]
            ],
            "type": "heatmap"
           }
          ],
          "heatmapgl": [
           {
            "colorbar": {
             "outlinewidth": 0,
             "ticks": ""
            },
            "colorscale": [
             [
              0,
              "#0d0887"
             ],
             [
              0.1111111111111111,
              "#46039f"
             ],
             [
              0.2222222222222222,
              "#7201a8"
             ],
             [
              0.3333333333333333,
              "#9c179e"
             ],
             [
              0.4444444444444444,
              "#bd3786"
             ],
             [
              0.5555555555555556,
              "#d8576b"
             ],
             [
              0.6666666666666666,
              "#ed7953"
             ],
             [
              0.7777777777777778,
              "#fb9f3a"
             ],
             [
              0.8888888888888888,
              "#fdca26"
             ],
             [
              1,
              "#f0f921"
             ]
            ],
            "type": "heatmapgl"
           }
          ],
          "histogram": [
           {
            "marker": {
             "pattern": {
              "fillmode": "overlay",
              "size": 10,
              "solidity": 0.2
             }
            },
            "type": "histogram"
           }
          ],
          "histogram2d": [
           {
            "colorbar": {
             "outlinewidth": 0,
             "ticks": ""
            },
            "colorscale": [
             [
              0,
              "#0d0887"
             ],
             [
              0.1111111111111111,
              "#46039f"
             ],
             [
              0.2222222222222222,
              "#7201a8"
             ],
             [
              0.3333333333333333,
              "#9c179e"
             ],
             [
              0.4444444444444444,
              "#bd3786"
             ],
             [
              0.5555555555555556,
              "#d8576b"
             ],
             [
              0.6666666666666666,
              "#ed7953"
             ],
             [
              0.7777777777777778,
              "#fb9f3a"
             ],
             [
              0.8888888888888888,
              "#fdca26"
             ],
             [
              1,
              "#f0f921"
             ]
            ],
            "type": "histogram2d"
           }
          ],
          "histogram2dcontour": [
           {
            "colorbar": {
             "outlinewidth": 0,
             "ticks": ""
            },
            "colorscale": [
             [
              0,
              "#0d0887"
             ],
             [
              0.1111111111111111,
              "#46039f"
             ],
             [
              0.2222222222222222,
              "#7201a8"
             ],
             [
              0.3333333333333333,
              "#9c179e"
             ],
             [
              0.4444444444444444,
              "#bd3786"
             ],
             [
              0.5555555555555556,
              "#d8576b"
             ],
             [
              0.6666666666666666,
              "#ed7953"
             ],
             [
              0.7777777777777778,
              "#fb9f3a"
             ],
             [
              0.8888888888888888,
              "#fdca26"
             ],
             [
              1,
              "#f0f921"
             ]
            ],
            "type": "histogram2dcontour"
           }
          ],
          "mesh3d": [
           {
            "colorbar": {
             "outlinewidth": 0,
             "ticks": ""
            },
            "type": "mesh3d"
           }
          ],
          "parcoords": [
           {
            "line": {
             "colorbar": {
              "outlinewidth": 0,
              "ticks": ""
             }
            },
            "type": "parcoords"
           }
          ],
          "pie": [
           {
            "automargin": true,
            "type": "pie"
           }
          ],
          "scatter": [
           {
            "fillpattern": {
             "fillmode": "overlay",
             "size": 10,
             "solidity": 0.2
            },
            "type": "scatter"
           }
          ],
          "scatter3d": [
           {
            "line": {
             "colorbar": {
              "outlinewidth": 0,
              "ticks": ""
             }
            },
            "marker": {
             "colorbar": {
              "outlinewidth": 0,
              "ticks": ""
             }
            },
            "type": "scatter3d"
           }
          ],
          "scattercarpet": [
           {
            "marker": {
             "colorbar": {
              "outlinewidth": 0,
              "ticks": ""
             }
            },
            "type": "scattercarpet"
           }
          ],
          "scattergeo": [
           {
            "marker": {
             "colorbar": {
              "outlinewidth": 0,
              "ticks": ""
             }
            },
            "type": "scattergeo"
           }
          ],
          "scattergl": [
           {
            "marker": {
             "colorbar": {
              "outlinewidth": 0,
              "ticks": ""
             }
            },
            "type": "scattergl"
           }
          ],
          "scattermapbox": [
           {
            "marker": {
             "colorbar": {
              "outlinewidth": 0,
              "ticks": ""
             }
            },
            "type": "scattermapbox"
           }
          ],
          "scatterpolar": [
           {
            "marker": {
             "colorbar": {
              "outlinewidth": 0,
              "ticks": ""
             }
            },
            "type": "scatterpolar"
           }
          ],
          "scatterpolargl": [
           {
            "marker": {
             "colorbar": {
              "outlinewidth": 0,
              "ticks": ""
             }
            },
            "type": "scatterpolargl"
           }
          ],
          "scatterternary": [
           {
            "marker": {
             "colorbar": {
              "outlinewidth": 0,
              "ticks": ""
             }
            },
            "type": "scatterternary"
           }
          ],
          "surface": [
           {
            "colorbar": {
             "outlinewidth": 0,
             "ticks": ""
            },
            "colorscale": [
             [
              0,
              "#0d0887"
             ],
             [
              0.1111111111111111,
              "#46039f"
             ],
             [
              0.2222222222222222,
              "#7201a8"
             ],
             [
              0.3333333333333333,
              "#9c179e"
             ],
             [
              0.4444444444444444,
              "#bd3786"
             ],
             [
              0.5555555555555556,
              "#d8576b"
             ],
             [
              0.6666666666666666,
              "#ed7953"
             ],
             [
              0.7777777777777778,
              "#fb9f3a"
             ],
             [
              0.8888888888888888,
              "#fdca26"
             ],
             [
              1,
              "#f0f921"
             ]
            ],
            "type": "surface"
           }
          ],
          "table": [
           {
            "cells": {
             "fill": {
              "color": "#EBF0F8"
             },
             "line": {
              "color": "white"
             }
            },
            "header": {
             "fill": {
              "color": "#C8D4E3"
             },
             "line": {
              "color": "white"
             }
            },
            "type": "table"
           }
          ]
         },
         "layout": {
          "annotationdefaults": {
           "arrowcolor": "#2a3f5f",
           "arrowhead": 0,
           "arrowwidth": 1
          },
          "autotypenumbers": "strict",
          "coloraxis": {
           "colorbar": {
            "outlinewidth": 0,
            "ticks": ""
           }
          },
          "colorscale": {
           "diverging": [
            [
             0,
             "#8e0152"
            ],
            [
             0.1,
             "#c51b7d"
            ],
            [
             0.2,
             "#de77ae"
            ],
            [
             0.3,
             "#f1b6da"
            ],
            [
             0.4,
             "#fde0ef"
            ],
            [
             0.5,
             "#f7f7f7"
            ],
            [
             0.6,
             "#e6f5d0"
            ],
            [
             0.7,
             "#b8e186"
            ],
            [
             0.8,
             "#7fbc41"
            ],
            [
             0.9,
             "#4d9221"
            ],
            [
             1,
             "#276419"
            ]
           ],
           "sequential": [
            [
             0,
             "#0d0887"
            ],
            [
             0.1111111111111111,
             "#46039f"
            ],
            [
             0.2222222222222222,
             "#7201a8"
            ],
            [
             0.3333333333333333,
             "#9c179e"
            ],
            [
             0.4444444444444444,
             "#bd3786"
            ],
            [
             0.5555555555555556,
             "#d8576b"
            ],
            [
             0.6666666666666666,
             "#ed7953"
            ],
            [
             0.7777777777777778,
             "#fb9f3a"
            ],
            [
             0.8888888888888888,
             "#fdca26"
            ],
            [
             1,
             "#f0f921"
            ]
           ],
           "sequentialminus": [
            [
             0,
             "#0d0887"
            ],
            [
             0.1111111111111111,
             "#46039f"
            ],
            [
             0.2222222222222222,
             "#7201a8"
            ],
            [
             0.3333333333333333,
             "#9c179e"
            ],
            [
             0.4444444444444444,
             "#bd3786"
            ],
            [
             0.5555555555555556,
             "#d8576b"
            ],
            [
             0.6666666666666666,
             "#ed7953"
            ],
            [
             0.7777777777777778,
             "#fb9f3a"
            ],
            [
             0.8888888888888888,
             "#fdca26"
            ],
            [
             1,
             "#f0f921"
            ]
           ]
          },
          "colorway": [
           "#636efa",
           "#EF553B",
           "#00cc96",
           "#ab63fa",
           "#FFA15A",
           "#19d3f3",
           "#FF6692",
           "#B6E880",
           "#FF97FF",
           "#FECB52"
          ],
          "font": {
           "color": "#2a3f5f"
          },
          "geo": {
           "bgcolor": "white",
           "lakecolor": "white",
           "landcolor": "#E5ECF6",
           "showlakes": true,
           "showland": true,
           "subunitcolor": "white"
          },
          "hoverlabel": {
           "align": "left"
          },
          "hovermode": "closest",
          "mapbox": {
           "style": "light"
          },
          "paper_bgcolor": "white",
          "plot_bgcolor": "#E5ECF6",
          "polar": {
           "angularaxis": {
            "gridcolor": "white",
            "linecolor": "white",
            "ticks": ""
           },
           "bgcolor": "#E5ECF6",
           "radialaxis": {
            "gridcolor": "white",
            "linecolor": "white",
            "ticks": ""
           }
          },
          "scene": {
           "xaxis": {
            "backgroundcolor": "#E5ECF6",
            "gridcolor": "white",
            "gridwidth": 2,
            "linecolor": "white",
            "showbackground": true,
            "ticks": "",
            "zerolinecolor": "white"
           },
           "yaxis": {
            "backgroundcolor": "#E5ECF6",
            "gridcolor": "white",
            "gridwidth": 2,
            "linecolor": "white",
            "showbackground": true,
            "ticks": "",
            "zerolinecolor": "white"
           },
           "zaxis": {
            "backgroundcolor": "#E5ECF6",
            "gridcolor": "white",
            "gridwidth": 2,
            "linecolor": "white",
            "showbackground": true,
            "ticks": "",
            "zerolinecolor": "white"
           }
          },
          "shapedefaults": {
           "line": {
            "color": "#2a3f5f"
           }
          },
          "ternary": {
           "aaxis": {
            "gridcolor": "white",
            "linecolor": "white",
            "ticks": ""
           },
           "baxis": {
            "gridcolor": "white",
            "linecolor": "white",
            "ticks": ""
           },
           "bgcolor": "#E5ECF6",
           "caxis": {
            "gridcolor": "white",
            "linecolor": "white",
            "ticks": ""
           }
          },
          "title": {
           "x": 0.05
          },
          "xaxis": {
           "automargin": true,
           "gridcolor": "white",
           "linecolor": "white",
           "ticks": "",
           "title": {
            "standoff": 15
           },
           "zerolinecolor": "white",
           "zerolinewidth": 2
          },
          "yaxis": {
           "automargin": true,
           "gridcolor": "white",
           "linecolor": "white",
           "ticks": "",
           "title": {
            "standoff": 15
           },
           "zerolinecolor": "white",
           "zerolinewidth": 2
          }
         }
        },
        "width": 2000,
        "xaxis": {
         "gridcolor": "lightgrey",
         "linecolor": "black",
         "mirror": true,
         "showline": true,
         "ticks": "outside"
        },
        "yaxis": {
         "autorange": false,
         "gridcolor": "lightgrey",
         "linecolor": "black",
         "mirror": true,
         "range": [
          1203.5353092018286,
          1728.9191612123145
         ],
         "showline": true,
         "ticks": "outside"
        }
       }
      }
     },
     "metadata": {},
     "output_type": "display_data"
    }
   ],
   "source": [
    "from plotting import elo_bar_plot, elo_line_plot, elo_delta_plot\n",
    "\n",
    "fig = elo_bar_plot(current_elos)\n",
    "fig.show()"
   ]
  },
  {
   "cell_type": "code",
   "execution_count": 46,
   "metadata": {},
   "outputs": [
    {
     "data": {
      "application/vnd.plotly.v1+json": {
       "config": {
        "plotlyServerURL": "https://plot.ly"
       },
       "data": [
        {
         "line": {
          "color": "rgb(0,107,182)"
         },
         "mode": "lines",
         "name": "NYK",
         "type": "scatter",
         "x": [
          0,
          1,
          2,
          3,
          4,
          5,
          6,
          7,
          8,
          9,
          10,
          11,
          12,
          13,
          14,
          15,
          16,
          17,
          18,
          19,
          20,
          21,
          22,
          23,
          24,
          25,
          26,
          27,
          28,
          29,
          30,
          31,
          32,
          33,
          34,
          35,
          36,
          37,
          38,
          39,
          40,
          41,
          42,
          43,
          44,
          45,
          46,
          47,
          48,
          49,
          50,
          51,
          52,
          53,
          54,
          55,
          56,
          57,
          58,
          59,
          60,
          61,
          62,
          63,
          64,
          65,
          66,
          67,
          68,
          69,
          70,
          71,
          72,
          73,
          74,
          75,
          76,
          77,
          78,
          79,
          80,
          81,
          82
         ],
         "y": [
          1584.711486893246,
          1577.3924450217412,
          1587.0328727564695,
          1575.4472350744682,
          1584.3491247154222,
          1587.538459571707,
          1575.2221808673369,
          1561.4969052278495
         ]
        },
        {
         "line": {
          "color": "rgb(12,35,64)"
         },
         "mode": "lines",
         "name": "MIN",
         "type": "scatter",
         "x": [
          0,
          1,
          2,
          3,
          4,
          5,
          6,
          7,
          8,
          9,
          10,
          11,
          12,
          13,
          14,
          15,
          16,
          17,
          18,
          19,
          20,
          21,
          22,
          23,
          24,
          25,
          26,
          27,
          28,
          29,
          30,
          31,
          32,
          33,
          34,
          35,
          36,
          37,
          38,
          39,
          40,
          41,
          42,
          43,
          44,
          45,
          46,
          47,
          48,
          49,
          50,
          51,
          52,
          53,
          54,
          55,
          56,
          57,
          58,
          59,
          60,
          61,
          62,
          63,
          64,
          65,
          66,
          67,
          68,
          69,
          70,
          71,
          72,
          73,
          74,
          75,
          76,
          77,
          78,
          79,
          80,
          81,
          82
         ],
         "y": [
          1607.4606388711322,
          1596.7761947867077,
          1604.835233202691,
          1608.3770782156566,
          1598.1244753089975,
          1608.7853915039536,
          1593.4975473430454,
          1597.5786190138465,
          1604.1168506440956
         ]
        },
        {
         "line": {
          "color": "rgb(0,45,98)"
         },
         "mode": "lines",
         "name": "IND",
         "type": "scatter",
         "x": [
          0,
          1,
          2,
          3,
          4,
          5,
          6,
          7,
          8,
          9,
          10,
          11,
          12,
          13,
          14,
          15,
          16,
          17,
          18,
          19,
          20,
          21,
          22,
          23,
          24,
          25,
          26,
          27,
          28,
          29,
          30,
          31,
          32,
          33,
          34,
          35,
          36,
          37,
          38,
          39,
          40,
          41,
          42,
          43,
          44,
          45,
          46,
          47,
          48,
          49,
          50,
          51,
          52,
          53,
          54,
          55,
          56,
          57,
          58,
          59,
          60,
          61,
          62,
          63,
          64,
          65,
          66,
          67,
          68,
          69,
          70,
          71,
          72,
          73,
          74,
          75,
          76,
          77,
          78,
          79,
          80,
          81,
          82
         ],
         "y": [
          1561.380655075586,
          1564.894236707712,
          1555.2538089729837,
          1543.9638154362176,
          1533.6240225945237,
          1547.9944124293731,
          1538.0315056644272,
          1549.9263956917391,
          1558.7276517799571
         ]
        },
        {
         "line": {
          "color": "rgb(0,0,0)"
         },
         "mode": "lines",
         "name": "BKN",
         "type": "scatter",
         "x": [
          0,
          1,
          2,
          3,
          4,
          5,
          6,
          7,
          8,
          9,
          10,
          11,
          12,
          13,
          14,
          15,
          16,
          17,
          18,
          19,
          20,
          21,
          22,
          23,
          24,
          25,
          26,
          27,
          28,
          29,
          30,
          31,
          32,
          33,
          34,
          35,
          36,
          37,
          38,
          39,
          40,
          41,
          42,
          43,
          44,
          45,
          46,
          47,
          48,
          49,
          50,
          51,
          52,
          53,
          54,
          55,
          56,
          57,
          58,
          59,
          60,
          61,
          62,
          63,
          64,
          65,
          66,
          67,
          68,
          69,
          70,
          71,
          72,
          73,
          74,
          75,
          76,
          77,
          78,
          79,
          80,
          81,
          82
         ],
         "y": [
          1410.8879283939752,
          1402.1655332295607,
          1395.9480280632931,
          1409.5743751885934,
          1404.9124932232166,
          1414.3347923719932,
          1426.894679818537,
          1413.2061924581733,
          1422.8921935818075
         ]
        },
        {
         "line": {
          "color": "rgb(0,125,197)"
         },
         "mode": "lines",
         "name": "ORL",
         "type": "scatter",
         "x": [
          0,
          1,
          2,
          3,
          4,
          5,
          6,
          7,
          8,
          9,
          10,
          11,
          12,
          13,
          14,
          15,
          16,
          17,
          18,
          19,
          20,
          21,
          22,
          23,
          24,
          25,
          26,
          27,
          28,
          29,
          30,
          31,
          32,
          33,
          34,
          35,
          36,
          37,
          38,
          39,
          40,
          41,
          42,
          43,
          44,
          45,
          46,
          47,
          48,
          49,
          50,
          51,
          52,
          53,
          54,
          55,
          56,
          57,
          58,
          59,
          60,
          61,
          62,
          63,
          64,
          65,
          66,
          67,
          68,
          69,
          70,
          71,
          72,
          73,
          74,
          75,
          76,
          77,
          78,
          79,
          80,
          81,
          82
         ],
         "y": [
          1530.2250287664333,
          1540.4502066503037,
          1546.6677118165712,
          1532.1536562407475,
          1542.4934490824414,
          1531.1040901100903,
          1521.7835008516283,
          1513.9096633670072,
          1508.0765333930115,
          1499.2752773047935
         ]
        },
        {
         "line": {
          "color": "rgb(0,71,27)"
         },
         "mode": "lines",
         "name": "MIL",
         "type": "scatter",
         "x": [
          0,
          1,
          2,
          3,
          4,
          5,
          6,
          7,
          8,
          9,
          10,
          11,
          12,
          13,
          14,
          15,
          16,
          17,
          18,
          19,
          20,
          21,
          22,
          23,
          24,
          25,
          26,
          27,
          28,
          29,
          30,
          31,
          32,
          33,
          34,
          35,
          36,
          37,
          38,
          39,
          40,
          41,
          42,
          43,
          44,
          45,
          46,
          47,
          48,
          49,
          50,
          51,
          52,
          53,
          54,
          55,
          56,
          57,
          58,
          59,
          60,
          61,
          62,
          63,
          64,
          65,
          66,
          67,
          68,
          69,
          70,
          71,
          72,
          73,
          74,
          75,
          76,
          77,
          78,
          79,
          80,
          81,
          82
         ],
         "y": [
          1529.4440603311696,
          1539.6215971667361,
          1527.9444445455188,
          1514.3180974202185,
          1509.0085821529876,
          1495.341914425794,
          1487.2945591161863,
          1479.688477051507,
          1486.5897654823095
         ]
        },
        {
         "line": {
          "color": "rgb(134,0,56)"
         },
         "mode": "lines",
         "name": "CLE",
         "type": "scatter",
         "x": [
          0,
          1,
          2,
          3,
          4,
          5,
          6,
          7,
          8,
          9,
          10,
          11,
          12,
          13,
          14,
          15,
          16,
          17,
          18,
          19,
          20,
          21,
          22,
          23,
          24,
          25,
          26,
          27,
          28,
          29,
          30,
          31,
          32,
          33,
          34,
          35,
          36,
          37,
          38,
          39,
          40,
          41,
          42,
          43,
          44,
          45,
          46,
          47,
          48,
          49,
          50,
          51,
          52,
          53,
          54,
          55,
          56,
          57,
          58,
          59,
          60,
          61,
          62,
          63,
          64,
          65,
          66,
          67,
          68,
          69,
          70,
          71,
          72,
          73,
          74,
          75,
          76,
          77,
          78,
          79,
          80,
          81,
          82
         ],
         "y": [
          1518.3531097781024,
          1523.3579272013098,
          1527.4843325151976,
          1531.4733791179897,
          1543.059016799991,
          1554.7456582857815,
          1564.0662475442434,
          1572.113602853851,
          1579.7196849185302,
          1588.3098423020274
         ]
        },
        {
         "line": {
          "color": "rgb(0,120,140)"
         },
         "mode": "lines",
         "name": "CHA",
         "type": "scatter",
         "x": [
          0,
          1,
          2,
          3,
          4,
          5,
          6,
          7,
          8,
          9,
          10,
          11,
          12,
          13,
          14,
          15,
          16,
          17,
          18,
          19,
          20,
          21,
          22,
          23,
          24,
          25,
          26,
          27,
          28,
          29,
          30,
          31,
          32,
          33,
          34,
          35,
          36,
          37,
          38,
          39,
          40,
          41,
          42,
          43,
          44,
          45,
          46,
          47,
          48,
          49,
          50,
          51,
          52,
          53,
          54,
          55,
          56,
          57,
          58,
          59,
          60,
          61,
          62,
          63,
          64,
          65,
          66,
          67,
          68,
          69,
          70,
          71,
          72,
          73,
          74,
          75,
          76,
          77,
          78,
          79,
          80,
          81,
          82
         ],
         "y": [
          1351.4538797028154,
          1365.8038737636437,
          1358.5637156167975,
          1353.08340679684,
          1362.4510819562129,
          1359.7094828574286,
          1357.04170509009,
          1352.960633419289,
          1362.0973612002615
         ]
        },
        {
         "line": {
          "color": "rgb(206,17,65)"
         },
         "mode": "lines",
         "name": "CHI",
         "type": "scatter",
         "x": [
          0,
          1,
          2,
          3,
          4,
          5,
          6,
          7,
          8,
          9,
          10,
          11,
          12,
          13,
          14,
          15,
          16,
          17,
          18,
          19,
          20,
          21,
          22,
          23,
          24,
          25,
          26,
          27,
          28,
          29,
          30,
          31,
          32,
          33,
          34,
          35,
          36,
          37,
          38,
          39,
          40,
          41,
          42,
          43,
          44,
          45,
          46,
          47,
          48,
          49,
          50,
          51,
          52,
          53,
          54,
          55,
          56,
          57,
          58,
          59,
          60,
          61,
          62,
          63,
          64,
          65,
          66,
          67,
          68,
          69,
          70,
          71,
          72,
          73,
          74,
          75,
          76,
          77,
          78,
          79,
          80,
          81,
          82
         ],
         "y": [
          1488.3936215539197,
          1480.7955868761087,
          1492.472739497326,
          1486.5598504568818,
          1493.907930194638,
          1505.2972891669892,
          1492.7374017204454,
          1478.958293317578,
          1472.1218944947473,
          1465.5836628644981
         ]
        },
        {
         "line": {
          "color": "rgb(93,118,169)"
         },
         "mode": "lines",
         "name": "MEM",
         "type": "scatter",
         "x": [
          0,
          1,
          2,
          3,
          4,
          5,
          6,
          7,
          8,
          9,
          10,
          11,
          12,
          13,
          14,
          15,
          16,
          17,
          18,
          19,
          20,
          21,
          22,
          23,
          24,
          25,
          26,
          27,
          28,
          29,
          30,
          31,
          32,
          33,
          34,
          35,
          36,
          37,
          38,
          39,
          40,
          41,
          42,
          43,
          44,
          45,
          46,
          47,
          48,
          49,
          50,
          51,
          52,
          53,
          54,
          55,
          56,
          57,
          58,
          59,
          60,
          61,
          62,
          63,
          64,
          65,
          66,
          67,
          68,
          69,
          70,
          71,
          72,
          73,
          74,
          75,
          76,
          77,
          78,
          79,
          80,
          81,
          82
         ],
         "y": [
          1373.904676840865,
          1384.4701092700836,
          1377.6527605871815,
          1392.1668161630053,
          1384.818736425249,
          1375.3964372764724,
          1389.0631050036661,
          1402.2931665916808,
          1392.6071654680466,
          1407.4719790269037
         ]
        },
        {
         "line": {
          "color": "rgb(29,17,96)"
         },
         "mode": "lines",
         "name": "PHX",
         "type": "scatter",
         "x": [
          0,
          1,
          2,
          3,
          4,
          5,
          6,
          7,
          8,
          9,
          10,
          11,
          12,
          13,
          14,
          15,
          16,
          17,
          18,
          19,
          20,
          21,
          22,
          23,
          24,
          25,
          26,
          27,
          28,
          29,
          30,
          31,
          32,
          33,
          34,
          35,
          36,
          37,
          38,
          39,
          40,
          41,
          42,
          43,
          44,
          45,
          46,
          47,
          48,
          49,
          50,
          51,
          52,
          53,
          54,
          55,
          56,
          57,
          58,
          59,
          60,
          61,
          62,
          63,
          64,
          65,
          66,
          67,
          68,
          69,
          70,
          71,
          72,
          73,
          74,
          75,
          76,
          77,
          78,
          79,
          80,
          81,
          82
         ],
         "y": [
          1599.277015985001,
          1608.239595231276,
          1597.8393960543,
          1608.0557887089556,
          1618.1793173024016,
          1626.5371141680557,
          1629.845000556866,
          1636.0788841950684,
          1642.9142658402986
         ]
        },
        {
         "line": {
          "color": "rgb(255,199,44)"
         },
         "mode": "lines",
         "name": "GSW",
         "type": "scatter",
         "x": [
          0,
          1,
          2,
          3,
          4,
          5,
          6,
          7,
          8,
          9,
          10,
          11,
          12,
          13,
          14,
          15,
          16,
          17,
          18,
          19,
          20,
          21,
          22,
          23,
          24,
          25,
          26,
          27,
          28,
          29,
          30,
          31,
          32,
          33,
          34,
          35,
          36,
          37,
          38,
          39,
          40,
          41,
          42,
          43,
          44,
          45,
          46,
          47,
          48,
          49,
          50,
          51,
          52,
          53,
          54,
          55,
          56,
          57,
          58,
          59,
          60,
          61,
          62,
          63,
          64,
          65,
          66,
          67,
          68,
          69,
          70,
          71,
          72,
          73,
          74,
          75,
          76,
          77,
          78,
          79,
          80,
          81,
          82
         ],
         "y": [
          1575.2347278917505,
          1579.130881753346,
          1584.0178352206083,
          1573.504175873811,
          1583.3579890065519,
          1592.6457685869852,
          1600.401761210285,
          1603.5146982385713,
          1615.9915265759348
         ]
        },
        {
         "line": {
          "color": "rgb(0,122,51)"
         },
         "mode": "lines",
         "name": "BOS",
         "type": "scatter",
         "x": [
          0,
          1,
          2,
          3,
          4,
          5,
          6,
          7,
          8,
          9,
          10,
          11,
          12,
          13,
          14,
          15,
          16,
          17,
          18,
          19,
          20,
          21,
          22,
          23,
          24,
          25,
          26,
          27,
          28,
          29,
          30,
          31,
          32,
          33,
          34,
          35,
          36,
          37,
          38,
          39,
          40,
          41,
          42,
          43,
          44,
          45,
          46,
          47,
          48,
          49,
          50,
          51,
          52,
          53,
          54,
          55,
          56,
          57,
          58,
          59,
          60,
          61,
          62,
          63,
          64,
          65,
          66,
          67,
          68,
          69,
          70,
          71,
          72,
          73,
          74,
          75,
          76,
          77,
          78,
          79,
          80,
          81,
          82
         ],
         "y": [
          1680.1906216232785,
          1687.5096634947834,
          1689.331437583457,
          1691.11059831677,
          1696.4201135840008,
          1682.0497237491513,
          1684.7913228479356,
          1687.459100615274,
          1691.395989549678,
          1678.9191612123145
         ]
        },
        {
         "line": {
          "color": "rgb(196,206,211)"
         },
         "mode": "lines",
         "name": "SAS",
         "type": "scatter",
         "x": [
          0,
          1,
          2,
          3,
          4,
          5,
          6,
          7,
          8,
          9,
          10,
          11,
          12,
          13,
          14,
          15,
          16,
          17,
          18,
          19,
          20,
          21,
          22,
          23,
          24,
          25,
          26,
          27,
          28,
          29,
          30,
          31,
          32,
          33,
          34,
          35,
          36,
          37,
          38,
          39,
          40,
          41,
          42,
          43,
          44,
          45,
          46,
          47,
          48,
          49,
          50,
          51,
          52,
          53,
          54,
          55,
          56,
          57,
          58,
          59,
          60,
          61,
          62,
          63,
          64,
          65,
          66,
          67,
          68,
          69,
          70,
          71,
          72,
          73,
          74,
          75,
          76,
          77,
          78,
          79,
          80,
          81,
          82
         ],
         "y": [
          1398.0469631180226,
          1393.295501484523,
          1406.4261158495135,
          1398.8597860598702,
          1395.1254547843157,
          1404.3347506489094,
          1419.6225948098177,
          1413.0894070989518,
          1406.0175790098797,
          1414.624939239853
         ]
        },
        {
         "line": {
          "color": "rgb(0,125,195)"
         },
         "mode": "lines",
         "name": "OKC",
         "type": "scatter",
         "x": [
          0,
          1,
          2,
          3,
          4,
          5,
          6,
          7,
          8,
          9,
          10,
          11,
          12,
          13,
          14,
          15,
          16,
          17,
          18,
          19,
          20,
          21,
          22,
          23,
          24,
          25,
          26,
          27,
          28,
          29,
          30,
          31,
          32,
          33,
          34,
          35,
          36,
          37,
          38,
          39,
          40,
          41,
          42,
          43,
          44,
          45,
          46,
          47,
          48,
          49,
          50,
          51,
          52,
          53,
          54,
          55,
          56,
          57,
          58,
          59,
          60,
          61,
          62,
          63,
          64,
          65,
          66,
          67,
          68,
          69,
          70,
          71,
          72,
          73,
          74,
          75,
          76,
          77,
          78,
          79,
          80,
          81,
          82
         ],
         "y": [
          1633.225296251623,
          1643.2816219689694,
          1649.1945110094136,
          1654.4834184744284,
          1658.2177497499829,
          1661.0928526456144,
          1668.0585657607494,
          1673.891695734745,
          1662.2847928583008
         ]
        },
        {
         "line": {
          "color": "rgb(0,107,182)"
         },
         "mode": "lines",
         "name": "PHI",
         "type": "scatter",
         "x": [
          0,
          1,
          2,
          3,
          4,
          5,
          6,
          7,
          8,
          9,
          10,
          11,
          12,
          13,
          14,
          15,
          16,
          17,
          18,
          19,
          20,
          21,
          22,
          23,
          24,
          25,
          26,
          27,
          28,
          29,
          30,
          31,
          32,
          33,
          34,
          35,
          36,
          37,
          38,
          39,
          40,
          41,
          42,
          43,
          44,
          45,
          46,
          47,
          48,
          49,
          50,
          51,
          52,
          53,
          54,
          55,
          56,
          57,
          58,
          59,
          60,
          61,
          62,
          63,
          64,
          65,
          66,
          67,
          68,
          69,
          70,
          71,
          72,
          73,
          74,
          75,
          76,
          77,
          78,
          79,
          80,
          81,
          82
         ],
         "y": [
          1535.612969960298,
          1525.4354331247314,
          1510.183722561852,
          1521.4737160986183,
          1505.453964242039,
          1492.2239026540244,
          1485.9900190158219,
          1477.8621732806023
         ]
        },
        {
         "line": {
          "color": "rgb(200,16,46)"
         },
         "mode": "lines",
         "name": "DET",
         "type": "scatter",
         "x": [
          0,
          1,
          2,
          3,
          4,
          5,
          6,
          7,
          8,
          9,
          10,
          11,
          12,
          13,
          14,
          15,
          16,
          17,
          18,
          19,
          20,
          21,
          22,
          23,
          24,
          25,
          26,
          27,
          28,
          29,
          30,
          31,
          32,
          33,
          34,
          35,
          36,
          37,
          38,
          39,
          40,
          41,
          42,
          43,
          44,
          45,
          46,
          47,
          48,
          49,
          50,
          51,
          52,
          53,
          54,
          55,
          56,
          57,
          58,
          59,
          60,
          61,
          62,
          63,
          64,
          65,
          66,
          67,
          68,
          69,
          70,
          71,
          72,
          73,
          74,
          75,
          76,
          77,
          78,
          79,
          80,
          81,
          82
         ],
         "y": [
          1292.8301476993272,
          1289.3165660672012,
          1285.1901607533134,
          1283.4110000200005,
          1279.5754616177232,
          1295.5952134743025,
          1292.4058786180176,
          1306.0943659783813,
          1322.8926427213107,
          1313.7559149403382
         ]
        },
        {
         "line": {
          "color": "rgb(0,22,65)"
         },
         "mode": "lines",
         "name": "NOP",
         "type": "scatter",
         "x": [
          0,
          1,
          2,
          3,
          4,
          5,
          6,
          7,
          8,
          9,
          10,
          11,
          12,
          13,
          14,
          15,
          16,
          17,
          18,
          19,
          20,
          21,
          22,
          23,
          24,
          25,
          26,
          27,
          28,
          29,
          30,
          31,
          32,
          33,
          34,
          35,
          36,
          37,
          38,
          39,
          40,
          41,
          42,
          43,
          44,
          45,
          46,
          47,
          48,
          49,
          50,
          51,
          52,
          53,
          54,
          55,
          56,
          57,
          58,
          59,
          60,
          61,
          62,
          63,
          64,
          65,
          66,
          67,
          68,
          69,
          70,
          71,
          72,
          73,
          74,
          75,
          76,
          77,
          78,
          79,
          80,
          81,
          82
         ],
         "y": [
          1573.5093180711874,
          1581.1073527489984,
          1584.8301146180193,
          1568.4247620372646,
          1558.5709489045237,
          1549.2831693240903,
          1559.2460760890363,
          1545.6791671573446,
          1530.408271649533,
          1521.8181142660358
         ]
        },
        {
         "line": {
          "color": "rgb(200,16,46)"
         },
         "mode": "lines",
         "name": "LAC",
         "type": "scatter",
         "x": [
          0,
          1,
          2,
          3,
          4,
          5,
          6,
          7,
          8,
          9,
          10,
          11,
          12,
          13,
          14,
          15,
          16,
          17,
          18,
          19,
          20,
          21,
          22,
          23,
          24,
          25,
          26,
          27,
          28,
          29,
          30,
          31,
          32,
          33,
          34,
          35,
          36,
          37,
          38,
          39,
          40,
          41,
          42,
          43,
          44,
          45,
          46,
          47,
          48,
          49,
          50,
          51,
          52,
          53,
          54,
          55,
          56,
          57,
          58,
          59,
          60,
          61,
          62,
          63,
          64,
          65,
          66,
          67,
          68,
          69,
          70,
          71,
          72,
          73,
          74,
          75,
          76,
          77,
          78,
          79,
          80,
          81,
          82
         ],
         "y": [
          1563.103180075523,
          1554.140600829248,
          1566.1557611094065,
          1576.6694204562039,
          1560.6019728537128,
          1552.2441759880585,
          1545.2784628729235,
          1551.8116505837893,
          1559.9394963190089
         ]
        },
        {
         "line": {
          "color": "rgb(152,0,46)"
         },
         "mode": "lines",
         "name": "MIA",
         "type": "scatter",
         "x": [
          0,
          1,
          2,
          3,
          4,
          5,
          6,
          7,
          8,
          9,
          10,
          11,
          12,
          13,
          14,
          15,
          16,
          17,
          18,
          19,
          20,
          21,
          22,
          23,
          24,
          25,
          26,
          27,
          28,
          29,
          30,
          31,
          32,
          33,
          34,
          35,
          36,
          37,
          38,
          39,
          40,
          41,
          42,
          43,
          44,
          45,
          46,
          47,
          48,
          49,
          50,
          51,
          52,
          53,
          54,
          55,
          56,
          57,
          58,
          59,
          60,
          61,
          62,
          63,
          64,
          65,
          66,
          67,
          68,
          69,
          70,
          71,
          72,
          73,
          74,
          75,
          76,
          77,
          78,
          79,
          80,
          81,
          82
         ],
         "y": [
          1538.0498324625414,
          1527.824654578671,
          1533.3049633986284,
          1537.1405018009057,
          1528.2386121599516,
          1532.6928361370435,
          1522.220682017134,
          1515.385300371904
         ]
        },
        {
         "line": {
          "color": "rgb(206,17,65)"
         },
         "mode": "lines",
         "name": "TOR",
         "type": "scatter",
         "x": [
          0,
          1,
          2,
          3,
          4,
          5,
          6,
          7,
          8,
          9,
          10,
          11,
          12,
          13,
          14,
          15,
          16,
          17,
          18,
          19,
          20,
          21,
          22,
          23,
          24,
          25,
          26,
          27,
          28,
          29,
          30,
          31,
          32,
          33,
          34,
          35,
          36,
          37,
          38,
          39,
          40,
          41,
          42,
          43,
          44,
          45,
          46,
          47,
          48,
          49,
          50,
          51,
          52,
          53,
          54,
          55,
          56,
          57,
          58,
          59,
          60,
          61,
          62,
          63,
          64,
          65,
          66,
          67,
          68,
          69,
          70,
          71,
          72,
          73,
          74,
          75,
          76,
          77,
          78,
          79,
          80,
          81,
          82
         ],
         "y": [
          1327.7277021719724,
          1322.722884748765,
          1337.9745953116444,
          1334.4327502986787,
          1331.0848410457304,
          1321.7171658863576,
          1318.2080833511611,
          1333.6818162110355,
          1330.3642297391675,
          1325.482773828406
         ]
        },
        {
         "line": {
          "color": "rgb(206,17,65)"
         },
         "mode": "lines",
         "name": "HOU",
         "type": "scatter",
         "x": [
          0,
          1,
          2,
          3,
          4,
          5,
          6,
          7,
          8,
          9,
          10,
          11,
          12,
          13,
          14,
          15,
          16,
          17,
          18,
          19,
          20,
          21,
          22,
          23,
          24,
          25,
          26,
          27,
          28,
          29,
          30,
          31,
          32,
          33,
          34,
          35,
          36,
          37,
          38,
          39,
          40,
          41,
          42,
          43,
          44,
          45,
          46,
          47,
          48,
          49,
          50,
          51,
          52,
          53,
          54,
          55,
          56,
          57,
          58,
          59,
          60,
          61,
          62,
          63,
          64,
          65,
          66,
          67,
          68,
          69,
          70,
          71,
          72,
          73,
          74,
          75,
          76,
          77,
          78,
          79,
          80,
          81,
          82
         ],
         "y": [
          1513.375006496063,
          1499.0250124352347,
          1505.8423611181368,
          1492.7117467531461,
          1500.2780765427894,
          1513.3312904966187,
          1505.575297873319,
          1517.8915765776892,
          1524.9634046667613
         ]
        },
        {
         "line": {
          "color": "rgb(0,83,188)"
         },
         "mode": "lines",
         "name": "DAL",
         "type": "scatter",
         "x": [
          0,
          1,
          2,
          3,
          4,
          5,
          6,
          7,
          8,
          9,
          10,
          11,
          12,
          13,
          14,
          15,
          16,
          17,
          18,
          19,
          20,
          21,
          22,
          23,
          24,
          25,
          26,
          27,
          28,
          29,
          30,
          31,
          32,
          33,
          34,
          35,
          36,
          37,
          38,
          39,
          40,
          41,
          42,
          43,
          44,
          45,
          46,
          47,
          48,
          49,
          50,
          51,
          52,
          53,
          54,
          55,
          56,
          57,
          58,
          59,
          60,
          61,
          62,
          63,
          64,
          65,
          66,
          67,
          68,
          69,
          70,
          71,
          72,
          73,
          74,
          75,
          76,
          77,
          78,
          79,
          80,
          81,
          82
         ],
         "y": [
          1600.6073591111385,
          1605.3588207446383,
          1595.1424280899828,
          1599.5988869504265,
          1609.8514898570857,
          1596.7982759032564,
          1604.6721133878775,
          1592.7772233605656,
          1599.6136221833963
         ]
        },
        {
         "line": {
          "color": "rgb(91,43,130)"
         },
         "mode": "lines",
         "name": "SAC",
         "type": "scatter",
         "x": [
          0,
          1,
          2,
          3,
          4,
          5,
          6,
          7,
          8,
          9,
          10,
          11,
          12,
          13,
          14,
          15,
          16,
          17,
          18,
          19,
          20,
          21,
          22,
          23,
          24,
          25,
          26,
          27,
          28,
          29,
          30,
          31,
          32,
          33,
          34,
          35,
          36,
          37,
          38,
          39,
          40,
          41,
          42,
          43,
          44,
          45,
          46,
          47,
          48,
          49,
          50,
          51,
          52,
          53,
          54,
          55,
          56,
          57,
          58,
          59,
          60,
          61,
          62,
          63,
          64,
          65,
          66,
          67,
          68,
          69,
          70,
          71,
          72,
          73,
          74,
          75,
          76,
          77,
          78,
          79,
          80,
          81,
          82
         ],
         "y": [
          1528.4737647189793,
          1520.414726302996,
          1512.7949170460504,
          1518.1382057403148,
          1524.2040378178253,
          1531.7500483357194,
          1516.276315475845,
          1526.7484695957546,
          1531.6299255065162
         ]
        },
        {
         "line": {
          "color": "rgb(200,16,46)"
         },
         "mode": "lines",
         "name": "ATL",
         "type": "scatter",
         "x": [
          0,
          1,
          2,
          3,
          4,
          5,
          6,
          7,
          8,
          9,
          10,
          11,
          12,
          13,
          14,
          15,
          16,
          17,
          18,
          19,
          20,
          21,
          22,
          23,
          24,
          25,
          26,
          27,
          28,
          29,
          30,
          31,
          32,
          33,
          34,
          35,
          36,
          37,
          38,
          39,
          40,
          41,
          42,
          43,
          44,
          45,
          46,
          47,
          48,
          49,
          50,
          51,
          52,
          53,
          54,
          55,
          56,
          57,
          58,
          59,
          60,
          61,
          62,
          63,
          64,
          65,
          66,
          67,
          68,
          69,
          70,
          71,
          72,
          73,
          74,
          75,
          76,
          77,
          78,
          79,
          80,
          81,
          82
         ],
         "y": [
          1455.520374249935,
          1464.2427694143496,
          1471.4829275611958,
          1466.194020096181,
          1451.3407128786823,
          1437.1676024553667,
          1429.6215919374727,
          1443.1885008691643,
          1439.2516119347604,
          1452.9768875742477
         ]
        },
        {
         "line": {
          "color": "rgb(0,43,92)"
         },
         "mode": "lines",
         "name": "WAS",
         "type": "scatter",
         "x": [
          0,
          1,
          2,
          3,
          4,
          5,
          6,
          7,
          8,
          9,
          10,
          11,
          12,
          13,
          14,
          15,
          16,
          17,
          18,
          19,
          20,
          21,
          22,
          23,
          24,
          25,
          26,
          27,
          28,
          29,
          30,
          31,
          32,
          33,
          34,
          35,
          36,
          37,
          38,
          39,
          40,
          41,
          42,
          43,
          44,
          45,
          46,
          47,
          48,
          49,
          50,
          51,
          52,
          53,
          54,
          55,
          56,
          57,
          58,
          59,
          60,
          61,
          62,
          63,
          64,
          65,
          66,
          67,
          68,
          69,
          70,
          71,
          72,
          73,
          74,
          75,
          76,
          77,
          78,
          79,
          80,
          81,
          82
         ],
         "y": [
          1287.8868732578583,
          1286.0650991691846,
          1282.0760525663925,
          1296.9293597838912,
          1311.1024702072068,
          1306.6482462301149,
          1303.5353092018286
         ]
        },
        {
         "line": {
          "color": "rgb(13,34,64)"
         },
         "mode": "lines",
         "name": "DEN",
         "type": "scatter",
         "x": [
          0,
          1,
          2,
          3,
          4,
          5,
          6,
          7,
          8,
          9,
          10,
          11,
          12,
          13,
          14,
          15,
          16,
          17,
          18,
          19,
          20,
          21,
          22,
          23,
          24,
          25,
          26,
          27,
          28,
          29,
          30,
          31,
          32,
          33,
          34,
          35,
          36,
          37,
          38,
          39,
          40,
          41,
          42,
          43,
          44,
          45,
          46,
          47,
          48,
          49,
          50,
          51,
          52,
          53,
          54,
          55,
          56,
          57,
          58,
          59,
          60,
          61,
          62,
          63,
          64,
          65,
          66,
          67,
          68,
          69,
          70,
          71,
          72,
          73,
          74,
          75,
          76,
          77,
          78,
          79,
          80,
          81,
          82
         ],
         "y": [
          1635.1822728060101,
          1625.1259470886637,
          1613.110786808505,
          1616.4586960614533,
          1621.1205780268301,
          1610.459661831874,
          1614.2564685968425,
          1617.5740550687105,
          1629.180957945155
         ]
        },
        {
         "line": {
          "color": "rgb(0,43,92)"
         },
         "mode": "lines",
         "name": "UTA",
         "type": "scatter",
         "x": [
          0,
          1,
          2,
          3,
          4,
          5,
          6,
          7,
          8,
          9,
          10,
          11,
          12,
          13,
          14,
          15,
          16,
          17,
          18,
          19,
          20,
          21,
          22,
          23,
          24,
          25,
          26,
          27,
          28,
          29,
          30,
          31,
          32,
          33,
          34,
          35,
          36,
          37,
          38,
          39,
          40,
          41,
          42,
          43,
          44,
          45,
          46,
          47,
          48,
          49,
          50,
          51,
          52,
          53,
          54,
          55,
          56,
          57,
          58,
          59,
          60,
          61,
          62,
          63,
          64,
          65,
          66,
          67,
          68,
          69,
          70,
          71,
          72,
          73,
          74,
          75,
          76,
          77,
          78,
          79,
          80,
          81,
          82
         ],
         "y": [
          1393.5707878770177,
          1383.005355447799,
          1378.1184019805369,
          1373.6619431200932,
          1367.5961110425826,
          1358.3868151779889,
          1354.5900084130203,
          1368.3691168158878,
          1361.4678283850853
         ]
        },
        {
         "line": {
          "color": "rgb(224,58,62)"
         },
         "mode": "lines",
         "name": "POR",
         "type": "scatter",
         "x": [
          0,
          1,
          2,
          3,
          4,
          5,
          6,
          7,
          8,
          9,
          10,
          11,
          12,
          13,
          14,
          15,
          16,
          17,
          18,
          19,
          20,
          21,
          22,
          23,
          24,
          25,
          26,
          27,
          28,
          29,
          30,
          31,
          32,
          33,
          34,
          35,
          36,
          37,
          38,
          39,
          40,
          41,
          42,
          43,
          44,
          45,
          46,
          47,
          48,
          49,
          50,
          51,
          52,
          53,
          54,
          55,
          56,
          57,
          58,
          59,
          60,
          61,
          62,
          63,
          64,
          65,
          66,
          67,
          68,
          69,
          70,
          71,
          72,
          73,
          74,
          75,
          76,
          77,
          78,
          79,
          80,
          81,
          82
         ],
         "y": [
          1328.7173225344523,
          1324.8211686728566,
          1321.0984068038358,
          1337.5037593845905,
          1332.160470690326,
          1348.227918292817,
          1345.3528153971856,
          1342.0449290083754,
          1357.3158245161871,
          1348.708464286214
         ]
        },
        {
         "line": {
          "color": "rgb(85,37,130)"
         },
         "mode": "lines",
         "name": "LAL",
         "type": "scatter",
         "x": [
          0,
          1,
          2,
          3,
          4,
          5,
          6,
          7,
          8,
          9,
          10,
          11,
          12,
          13,
          14,
          15,
          16,
          17,
          18,
          19,
          20,
          21,
          22,
          23,
          24,
          25,
          26,
          27,
          28,
          29,
          30,
          31,
          32,
          33,
          34,
          35,
          36,
          37,
          38,
          39,
          40,
          41,
          42,
          43,
          44,
          45,
          46,
          47,
          48,
          49,
          50,
          51,
          52,
          53,
          54,
          55,
          56,
          57,
          58,
          59,
          60,
          61,
          62,
          63,
          64,
          65,
          66,
          67,
          68,
          69,
          70,
          71,
          72,
          73,
          74,
          75,
          76,
          77,
          78,
          79,
          80,
          81,
          82
         ],
         "y": [
          1583.6433774307768,
          1594.3278215152013,
          1604.7280206921773,
          1612.347829949123,
          1602.2243013556767,
          1590.5376598698863,
          1594.0467424050828,
          1577.2484656621534,
          1562.3836521032963
         ]
        }
       ],
       "layout": {
        "autosize": false,
        "height": 1200,
        "plot_bgcolor": "white",
        "template": {
         "data": {
          "bar": [
           {
            "error_x": {
             "color": "#2a3f5f"
            },
            "error_y": {
             "color": "#2a3f5f"
            },
            "marker": {
             "line": {
              "color": "#E5ECF6",
              "width": 0.5
             },
             "pattern": {
              "fillmode": "overlay",
              "size": 10,
              "solidity": 0.2
             }
            },
            "type": "bar"
           }
          ],
          "barpolar": [
           {
            "marker": {
             "line": {
              "color": "#E5ECF6",
              "width": 0.5
             },
             "pattern": {
              "fillmode": "overlay",
              "size": 10,
              "solidity": 0.2
             }
            },
            "type": "barpolar"
           }
          ],
          "carpet": [
           {
            "aaxis": {
             "endlinecolor": "#2a3f5f",
             "gridcolor": "white",
             "linecolor": "white",
             "minorgridcolor": "white",
             "startlinecolor": "#2a3f5f"
            },
            "baxis": {
             "endlinecolor": "#2a3f5f",
             "gridcolor": "white",
             "linecolor": "white",
             "minorgridcolor": "white",
             "startlinecolor": "#2a3f5f"
            },
            "type": "carpet"
           }
          ],
          "choropleth": [
           {
            "colorbar": {
             "outlinewidth": 0,
             "ticks": ""
            },
            "type": "choropleth"
           }
          ],
          "contour": [
           {
            "colorbar": {
             "outlinewidth": 0,
             "ticks": ""
            },
            "colorscale": [
             [
              0,
              "#0d0887"
             ],
             [
              0.1111111111111111,
              "#46039f"
             ],
             [
              0.2222222222222222,
              "#7201a8"
             ],
             [
              0.3333333333333333,
              "#9c179e"
             ],
             [
              0.4444444444444444,
              "#bd3786"
             ],
             [
              0.5555555555555556,
              "#d8576b"
             ],
             [
              0.6666666666666666,
              "#ed7953"
             ],
             [
              0.7777777777777778,
              "#fb9f3a"
             ],
             [
              0.8888888888888888,
              "#fdca26"
             ],
             [
              1,
              "#f0f921"
             ]
            ],
            "type": "contour"
           }
          ],
          "contourcarpet": [
           {
            "colorbar": {
             "outlinewidth": 0,
             "ticks": ""
            },
            "type": "contourcarpet"
           }
          ],
          "heatmap": [
           {
            "colorbar": {
             "outlinewidth": 0,
             "ticks": ""
            },
            "colorscale": [
             [
              0,
              "#0d0887"
             ],
             [
              0.1111111111111111,
              "#46039f"
             ],
             [
              0.2222222222222222,
              "#7201a8"
             ],
             [
              0.3333333333333333,
              "#9c179e"
             ],
             [
              0.4444444444444444,
              "#bd3786"
             ],
             [
              0.5555555555555556,
              "#d8576b"
             ],
             [
              0.6666666666666666,
              "#ed7953"
             ],
             [
              0.7777777777777778,
              "#fb9f3a"
             ],
             [
              0.8888888888888888,
              "#fdca26"
             ],
             [
              1,
              "#f0f921"
             ]
            ],
            "type": "heatmap"
           }
          ],
          "heatmapgl": [
           {
            "colorbar": {
             "outlinewidth": 0,
             "ticks": ""
            },
            "colorscale": [
             [
              0,
              "#0d0887"
             ],
             [
              0.1111111111111111,
              "#46039f"
             ],
             [
              0.2222222222222222,
              "#7201a8"
             ],
             [
              0.3333333333333333,
              "#9c179e"
             ],
             [
              0.4444444444444444,
              "#bd3786"
             ],
             [
              0.5555555555555556,
              "#d8576b"
             ],
             [
              0.6666666666666666,
              "#ed7953"
             ],
             [
              0.7777777777777778,
              "#fb9f3a"
             ],
             [
              0.8888888888888888,
              "#fdca26"
             ],
             [
              1,
              "#f0f921"
             ]
            ],
            "type": "heatmapgl"
           }
          ],
          "histogram": [
           {
            "marker": {
             "pattern": {
              "fillmode": "overlay",
              "size": 10,
              "solidity": 0.2
             }
            },
            "type": "histogram"
           }
          ],
          "histogram2d": [
           {
            "colorbar": {
             "outlinewidth": 0,
             "ticks": ""
            },
            "colorscale": [
             [
              0,
              "#0d0887"
             ],
             [
              0.1111111111111111,
              "#46039f"
             ],
             [
              0.2222222222222222,
              "#7201a8"
             ],
             [
              0.3333333333333333,
              "#9c179e"
             ],
             [
              0.4444444444444444,
              "#bd3786"
             ],
             [
              0.5555555555555556,
              "#d8576b"
             ],
             [
              0.6666666666666666,
              "#ed7953"
             ],
             [
              0.7777777777777778,
              "#fb9f3a"
             ],
             [
              0.8888888888888888,
              "#fdca26"
             ],
             [
              1,
              "#f0f921"
             ]
            ],
            "type": "histogram2d"
           }
          ],
          "histogram2dcontour": [
           {
            "colorbar": {
             "outlinewidth": 0,
             "ticks": ""
            },
            "colorscale": [
             [
              0,
              "#0d0887"
             ],
             [
              0.1111111111111111,
              "#46039f"
             ],
             [
              0.2222222222222222,
              "#7201a8"
             ],
             [
              0.3333333333333333,
              "#9c179e"
             ],
             [
              0.4444444444444444,
              "#bd3786"
             ],
             [
              0.5555555555555556,
              "#d8576b"
             ],
             [
              0.6666666666666666,
              "#ed7953"
             ],
             [
              0.7777777777777778,
              "#fb9f3a"
             ],
             [
              0.8888888888888888,
              "#fdca26"
             ],
             [
              1,
              "#f0f921"
             ]
            ],
            "type": "histogram2dcontour"
           }
          ],
          "mesh3d": [
           {
            "colorbar": {
             "outlinewidth": 0,
             "ticks": ""
            },
            "type": "mesh3d"
           }
          ],
          "parcoords": [
           {
            "line": {
             "colorbar": {
              "outlinewidth": 0,
              "ticks": ""
             }
            },
            "type": "parcoords"
           }
          ],
          "pie": [
           {
            "automargin": true,
            "type": "pie"
           }
          ],
          "scatter": [
           {
            "fillpattern": {
             "fillmode": "overlay",
             "size": 10,
             "solidity": 0.2
            },
            "type": "scatter"
           }
          ],
          "scatter3d": [
           {
            "line": {
             "colorbar": {
              "outlinewidth": 0,
              "ticks": ""
             }
            },
            "marker": {
             "colorbar": {
              "outlinewidth": 0,
              "ticks": ""
             }
            },
            "type": "scatter3d"
           }
          ],
          "scattercarpet": [
           {
            "marker": {
             "colorbar": {
              "outlinewidth": 0,
              "ticks": ""
             }
            },
            "type": "scattercarpet"
           }
          ],
          "scattergeo": [
           {
            "marker": {
             "colorbar": {
              "outlinewidth": 0,
              "ticks": ""
             }
            },
            "type": "scattergeo"
           }
          ],
          "scattergl": [
           {
            "marker": {
             "colorbar": {
              "outlinewidth": 0,
              "ticks": ""
             }
            },
            "type": "scattergl"
           }
          ],
          "scattermapbox": [
           {
            "marker": {
             "colorbar": {
              "outlinewidth": 0,
              "ticks": ""
             }
            },
            "type": "scattermapbox"
           }
          ],
          "scatterpolar": [
           {
            "marker": {
             "colorbar": {
              "outlinewidth": 0,
              "ticks": ""
             }
            },
            "type": "scatterpolar"
           }
          ],
          "scatterpolargl": [
           {
            "marker": {
             "colorbar": {
              "outlinewidth": 0,
              "ticks": ""
             }
            },
            "type": "scatterpolargl"
           }
          ],
          "scatterternary": [
           {
            "marker": {
             "colorbar": {
              "outlinewidth": 0,
              "ticks": ""
             }
            },
            "type": "scatterternary"
           }
          ],
          "surface": [
           {
            "colorbar": {
             "outlinewidth": 0,
             "ticks": ""
            },
            "colorscale": [
             [
              0,
              "#0d0887"
             ],
             [
              0.1111111111111111,
              "#46039f"
             ],
             [
              0.2222222222222222,
              "#7201a8"
             ],
             [
              0.3333333333333333,
              "#9c179e"
             ],
             [
              0.4444444444444444,
              "#bd3786"
             ],
             [
              0.5555555555555556,
              "#d8576b"
             ],
             [
              0.6666666666666666,
              "#ed7953"
             ],
             [
              0.7777777777777778,
              "#fb9f3a"
             ],
             [
              0.8888888888888888,
              "#fdca26"
             ],
             [
              1,
              "#f0f921"
             ]
            ],
            "type": "surface"
           }
          ],
          "table": [
           {
            "cells": {
             "fill": {
              "color": "#EBF0F8"
             },
             "line": {
              "color": "white"
             }
            },
            "header": {
             "fill": {
              "color": "#C8D4E3"
             },
             "line": {
              "color": "white"
             }
            },
            "type": "table"
           }
          ]
         },
         "layout": {
          "annotationdefaults": {
           "arrowcolor": "#2a3f5f",
           "arrowhead": 0,
           "arrowwidth": 1
          },
          "autotypenumbers": "strict",
          "coloraxis": {
           "colorbar": {
            "outlinewidth": 0,
            "ticks": ""
           }
          },
          "colorscale": {
           "diverging": [
            [
             0,
             "#8e0152"
            ],
            [
             0.1,
             "#c51b7d"
            ],
            [
             0.2,
             "#de77ae"
            ],
            [
             0.3,
             "#f1b6da"
            ],
            [
             0.4,
             "#fde0ef"
            ],
            [
             0.5,
             "#f7f7f7"
            ],
            [
             0.6,
             "#e6f5d0"
            ],
            [
             0.7,
             "#b8e186"
            ],
            [
             0.8,
             "#7fbc41"
            ],
            [
             0.9,
             "#4d9221"
            ],
            [
             1,
             "#276419"
            ]
           ],
           "sequential": [
            [
             0,
             "#0d0887"
            ],
            [
             0.1111111111111111,
             "#46039f"
            ],
            [
             0.2222222222222222,
             "#7201a8"
            ],
            [
             0.3333333333333333,
             "#9c179e"
            ],
            [
             0.4444444444444444,
             "#bd3786"
            ],
            [
             0.5555555555555556,
             "#d8576b"
            ],
            [
             0.6666666666666666,
             "#ed7953"
            ],
            [
             0.7777777777777778,
             "#fb9f3a"
            ],
            [
             0.8888888888888888,
             "#fdca26"
            ],
            [
             1,
             "#f0f921"
            ]
           ],
           "sequentialminus": [
            [
             0,
             "#0d0887"
            ],
            [
             0.1111111111111111,
             "#46039f"
            ],
            [
             0.2222222222222222,
             "#7201a8"
            ],
            [
             0.3333333333333333,
             "#9c179e"
            ],
            [
             0.4444444444444444,
             "#bd3786"
            ],
            [
             0.5555555555555556,
             "#d8576b"
            ],
            [
             0.6666666666666666,
             "#ed7953"
            ],
            [
             0.7777777777777778,
             "#fb9f3a"
            ],
            [
             0.8888888888888888,
             "#fdca26"
            ],
            [
             1,
             "#f0f921"
            ]
           ]
          },
          "colorway": [
           "#636efa",
           "#EF553B",
           "#00cc96",
           "#ab63fa",
           "#FFA15A",
           "#19d3f3",
           "#FF6692",
           "#B6E880",
           "#FF97FF",
           "#FECB52"
          ],
          "font": {
           "color": "#2a3f5f"
          },
          "geo": {
           "bgcolor": "white",
           "lakecolor": "white",
           "landcolor": "#E5ECF6",
           "showlakes": true,
           "showland": true,
           "subunitcolor": "white"
          },
          "hoverlabel": {
           "align": "left"
          },
          "hovermode": "closest",
          "mapbox": {
           "style": "light"
          },
          "paper_bgcolor": "white",
          "plot_bgcolor": "#E5ECF6",
          "polar": {
           "angularaxis": {
            "gridcolor": "white",
            "linecolor": "white",
            "ticks": ""
           },
           "bgcolor": "#E5ECF6",
           "radialaxis": {
            "gridcolor": "white",
            "linecolor": "white",
            "ticks": ""
           }
          },
          "scene": {
           "xaxis": {
            "backgroundcolor": "#E5ECF6",
            "gridcolor": "white",
            "gridwidth": 2,
            "linecolor": "white",
            "showbackground": true,
            "ticks": "",
            "zerolinecolor": "white"
           },
           "yaxis": {
            "backgroundcolor": "#E5ECF6",
            "gridcolor": "white",
            "gridwidth": 2,
            "linecolor": "white",
            "showbackground": true,
            "ticks": "",
            "zerolinecolor": "white"
           },
           "zaxis": {
            "backgroundcolor": "#E5ECF6",
            "gridcolor": "white",
            "gridwidth": 2,
            "linecolor": "white",
            "showbackground": true,
            "ticks": "",
            "zerolinecolor": "white"
           }
          },
          "shapedefaults": {
           "line": {
            "color": "#2a3f5f"
           }
          },
          "ternary": {
           "aaxis": {
            "gridcolor": "white",
            "linecolor": "white",
            "ticks": ""
           },
           "baxis": {
            "gridcolor": "white",
            "linecolor": "white",
            "ticks": ""
           },
           "bgcolor": "#E5ECF6",
           "caxis": {
            "gridcolor": "white",
            "linecolor": "white",
            "ticks": ""
           }
          },
          "title": {
           "x": 0.05
          },
          "xaxis": {
           "automargin": true,
           "gridcolor": "white",
           "linecolor": "white",
           "ticks": "",
           "title": {
            "standoff": 15
           },
           "zerolinecolor": "white",
           "zerolinewidth": 2
          },
          "yaxis": {
           "automargin": true,
           "gridcolor": "white",
           "linecolor": "white",
           "ticks": "",
           "title": {
            "standoff": 15
           },
           "zerolinecolor": "white",
           "zerolinewidth": 2
          }
         }
        },
        "width": 2000,
        "xaxis": {
         "gridcolor": "lightgrey",
         "linecolor": "black",
         "mirror": true,
         "showline": true,
         "ticks": "outside"
        },
        "yaxis": {
         "gridcolor": "lightgrey",
         "linecolor": "black",
         "mirror": true,
         "showline": true,
         "ticks": "outside"
        }
       }
      }
     },
     "metadata": {},
     "output_type": "display_data"
    }
   ],
   "source": [
    "fig = elo_line_plot(elo_histories)\n",
    "fig.show()"
   ]
  },
  {
   "cell_type": "code",
   "execution_count": 47,
   "metadata": {},
   "outputs": [
    {
     "data": {
      "text/plain": [
       "{'New York Knicks': -23.21458166539651,\n",
       " 'Minnesota Timberwolves': -3.3437882270366117,\n",
       " 'Indiana Pacers': -2.653003295628878,\n",
       " 'Brooklyn Nets': 12.004265187832289,\n",
       " 'Orlando Magic': -30.949751461639835,\n",
       " 'Milwaukee Bucks': -42.854294848860036,\n",
       " 'Cleveland Cavaliers': 69.95673252392498,\n",
       " 'Charlotte Hornets': 10.643481497446146,\n",
       " 'Chicago Bulls': -22.80995868942159,\n",
       " 'Memphis Grizzlies': 33.56730218603866,\n",
       " 'Phoenix Suns': 43.63724985529757,\n",
       " 'Golden State Warriors': 40.75679868418433,\n",
       " 'Boston Celtics': -1.2714604109639822,\n",
       " 'San Antonio Spurs': 16.57797612183026,\n",
       " 'Oklahoma City Thunder': 29.05949660667784,\n",
       " 'Philadelphia 76ers': -57.75079667969567,\n",
       " 'Detroit Pistons': 20.925767241011044,\n",
       " 'New Orleans Pelicans': -51.691203805151645,\n",
       " 'Los Angeles Clippers': -3.1636837565140468,\n",
       " 'Miami Heat': -22.664532090637522,\n",
       " 'Toronto Raptors': -2.244928343566471,\n",
       " 'Houston Rockets': 11.588398170698383,\n",
       " 'Dallas Mavericks': -0.9937369277422476,\n",
       " 'Sacramento Kings': 3.156160787536919,\n",
       " 'Atlanta Hawks': -2.5434866756872907,\n",
       " 'Washington Wizards': 15.648435943970298,\n",
       " 'Denver Nuggets': -6.001314860855246,\n",
       " 'Utah Jazz': -32.102959491932324,\n",
       " 'Portland Trail Blazers': 19.99114175176169,\n",
       " 'Los Angeles Lakers': -21.25972532748051}"
      ]
     },
     "execution_count": 47,
     "metadata": {},
     "output_type": "execute_result"
    }
   ],
   "source": [
    "elo_deltas = {name: 0 for name in team_names}\n",
    "\n",
    "for name in team_names:\n",
    "    history = elo_histories[name]\n",
    "    delta = history[-1] - history[0]\n",
    "    elo_deltas[name] = delta\n",
    "    \n",
    "elo_deltas"
   ]
  },
  {
   "cell_type": "code",
   "execution_count": 48,
   "metadata": {},
   "outputs": [
    {
     "data": {
      "application/vnd.plotly.v1+json": {
       "config": {
        "plotlyServerURL": "https://plot.ly"
       },
       "data": [
        {
         "marker": {
          "color": [
           "rgb(0,107,182)",
           "rgb(0,22,65)",
           "rgb(0,71,27)",
           "rgb(0,43,92)",
           "rgb(0,125,197)",
           "rgb(0,107,182)",
           "rgb(206,17,65)",
           "rgb(152,0,46)",
           "rgb(85,37,130)",
           "rgb(13,34,64)",
           "rgb(12,35,64)",
           "rgb(200,16,46)",
           "rgb(0,45,98)",
           "rgb(200,16,46)",
           "rgb(206,17,65)",
           "rgb(0,122,51)",
           "rgb(0,83,188)",
           "rgb(91,43,130)",
           "rgb(0,120,140)",
           "rgb(206,17,65)",
           "rgb(0,0,0)",
           "rgb(0,43,92)",
           "rgb(196,206,211)",
           "rgb(224,58,62)",
           "rgb(200,16,46)",
           "rgb(0,125,195)",
           "rgb(93,118,169)",
           "rgb(255,199,44)",
           "rgb(29,17,96)",
           "rgb(134,0,56)"
          ]
         },
         "type": "bar",
         "x": [
          "PHI",
          "NOP",
          "MIL",
          "UTA",
          "ORL",
          "NYK",
          "CHI",
          "MIA",
          "LAL",
          "DEN",
          "MIN",
          "LAC",
          "IND",
          "ATL",
          "TOR",
          "BOS",
          "DAL",
          "SAC",
          "CHA",
          "HOU",
          "BKN",
          "WAS",
          "SAS",
          "POR",
          "DET",
          "OKC",
          "MEM",
          "GSW",
          "PHX",
          "CLE"
         ],
         "y": [
          -57.75079667969567,
          -51.691203805151645,
          -42.854294848860036,
          -32.102959491932324,
          -30.949751461639835,
          -23.21458166539651,
          -22.80995868942159,
          -22.664532090637522,
          -21.25972532748051,
          -6.001314860855246,
          -3.3437882270366117,
          -3.1636837565140468,
          -2.653003295628878,
          -2.5434866756872907,
          -2.244928343566471,
          -1.2714604109639822,
          -0.9937369277422476,
          3.156160787536919,
          10.643481497446146,
          11.588398170698383,
          12.004265187832289,
          15.648435943970298,
          16.57797612183026,
          19.99114175176169,
          20.925767241011044,
          29.05949660667784,
          33.56730218603866,
          40.75679868418433,
          43.63724985529757,
          69.95673252392498
         ]
        }
       ],
       "layout": {
        "autosize": false,
        "height": 1200,
        "plot_bgcolor": "white",
        "shapes": [
         {
          "line": {
           "color": "black",
           "width": 1
          },
          "type": "line",
          "x0": -0.5,
          "x1": 29.5,
          "y0": 0,
          "y1": 0
         }
        ],
        "showlegend": false,
        "template": {
         "data": {
          "bar": [
           {
            "error_x": {
             "color": "#2a3f5f"
            },
            "error_y": {
             "color": "#2a3f5f"
            },
            "marker": {
             "line": {
              "color": "#E5ECF6",
              "width": 0.5
             },
             "pattern": {
              "fillmode": "overlay",
              "size": 10,
              "solidity": 0.2
             }
            },
            "type": "bar"
           }
          ],
          "barpolar": [
           {
            "marker": {
             "line": {
              "color": "#E5ECF6",
              "width": 0.5
             },
             "pattern": {
              "fillmode": "overlay",
              "size": 10,
              "solidity": 0.2
             }
            },
            "type": "barpolar"
           }
          ],
          "carpet": [
           {
            "aaxis": {
             "endlinecolor": "#2a3f5f",
             "gridcolor": "white",
             "linecolor": "white",
             "minorgridcolor": "white",
             "startlinecolor": "#2a3f5f"
            },
            "baxis": {
             "endlinecolor": "#2a3f5f",
             "gridcolor": "white",
             "linecolor": "white",
             "minorgridcolor": "white",
             "startlinecolor": "#2a3f5f"
            },
            "type": "carpet"
           }
          ],
          "choropleth": [
           {
            "colorbar": {
             "outlinewidth": 0,
             "ticks": ""
            },
            "type": "choropleth"
           }
          ],
          "contour": [
           {
            "colorbar": {
             "outlinewidth": 0,
             "ticks": ""
            },
            "colorscale": [
             [
              0,
              "#0d0887"
             ],
             [
              0.1111111111111111,
              "#46039f"
             ],
             [
              0.2222222222222222,
              "#7201a8"
             ],
             [
              0.3333333333333333,
              "#9c179e"
             ],
             [
              0.4444444444444444,
              "#bd3786"
             ],
             [
              0.5555555555555556,
              "#d8576b"
             ],
             [
              0.6666666666666666,
              "#ed7953"
             ],
             [
              0.7777777777777778,
              "#fb9f3a"
             ],
             [
              0.8888888888888888,
              "#fdca26"
             ],
             [
              1,
              "#f0f921"
             ]
            ],
            "type": "contour"
           }
          ],
          "contourcarpet": [
           {
            "colorbar": {
             "outlinewidth": 0,
             "ticks": ""
            },
            "type": "contourcarpet"
           }
          ],
          "heatmap": [
           {
            "colorbar": {
             "outlinewidth": 0,
             "ticks": ""
            },
            "colorscale": [
             [
              0,
              "#0d0887"
             ],
             [
              0.1111111111111111,
              "#46039f"
             ],
             [
              0.2222222222222222,
              "#7201a8"
             ],
             [
              0.3333333333333333,
              "#9c179e"
             ],
             [
              0.4444444444444444,
              "#bd3786"
             ],
             [
              0.5555555555555556,
              "#d8576b"
             ],
             [
              0.6666666666666666,
              "#ed7953"
             ],
             [
              0.7777777777777778,
              "#fb9f3a"
             ],
             [
              0.8888888888888888,
              "#fdca26"
             ],
             [
              1,
              "#f0f921"
             ]
            ],
            "type": "heatmap"
           }
          ],
          "heatmapgl": [
           {
            "colorbar": {
             "outlinewidth": 0,
             "ticks": ""
            },
            "colorscale": [
             [
              0,
              "#0d0887"
             ],
             [
              0.1111111111111111,
              "#46039f"
             ],
             [
              0.2222222222222222,
              "#7201a8"
             ],
             [
              0.3333333333333333,
              "#9c179e"
             ],
             [
              0.4444444444444444,
              "#bd3786"
             ],
             [
              0.5555555555555556,
              "#d8576b"
             ],
             [
              0.6666666666666666,
              "#ed7953"
             ],
             [
              0.7777777777777778,
              "#fb9f3a"
             ],
             [
              0.8888888888888888,
              "#fdca26"
             ],
             [
              1,
              "#f0f921"
             ]
            ],
            "type": "heatmapgl"
           }
          ],
          "histogram": [
           {
            "marker": {
             "pattern": {
              "fillmode": "overlay",
              "size": 10,
              "solidity": 0.2
             }
            },
            "type": "histogram"
           }
          ],
          "histogram2d": [
           {
            "colorbar": {
             "outlinewidth": 0,
             "ticks": ""
            },
            "colorscale": [
             [
              0,
              "#0d0887"
             ],
             [
              0.1111111111111111,
              "#46039f"
             ],
             [
              0.2222222222222222,
              "#7201a8"
             ],
             [
              0.3333333333333333,
              "#9c179e"
             ],
             [
              0.4444444444444444,
              "#bd3786"
             ],
             [
              0.5555555555555556,
              "#d8576b"
             ],
             [
              0.6666666666666666,
              "#ed7953"
             ],
             [
              0.7777777777777778,
              "#fb9f3a"
             ],
             [
              0.8888888888888888,
              "#fdca26"
             ],
             [
              1,
              "#f0f921"
             ]
            ],
            "type": "histogram2d"
           }
          ],
          "histogram2dcontour": [
           {
            "colorbar": {
             "outlinewidth": 0,
             "ticks": ""
            },
            "colorscale": [
             [
              0,
              "#0d0887"
             ],
             [
              0.1111111111111111,
              "#46039f"
             ],
             [
              0.2222222222222222,
              "#7201a8"
             ],
             [
              0.3333333333333333,
              "#9c179e"
             ],
             [
              0.4444444444444444,
              "#bd3786"
             ],
             [
              0.5555555555555556,
              "#d8576b"
             ],
             [
              0.6666666666666666,
              "#ed7953"
             ],
             [
              0.7777777777777778,
              "#fb9f3a"
             ],
             [
              0.8888888888888888,
              "#fdca26"
             ],
             [
              1,
              "#f0f921"
             ]
            ],
            "type": "histogram2dcontour"
           }
          ],
          "mesh3d": [
           {
            "colorbar": {
             "outlinewidth": 0,
             "ticks": ""
            },
            "type": "mesh3d"
           }
          ],
          "parcoords": [
           {
            "line": {
             "colorbar": {
              "outlinewidth": 0,
              "ticks": ""
             }
            },
            "type": "parcoords"
           }
          ],
          "pie": [
           {
            "automargin": true,
            "type": "pie"
           }
          ],
          "scatter": [
           {
            "fillpattern": {
             "fillmode": "overlay",
             "size": 10,
             "solidity": 0.2
            },
            "type": "scatter"
           }
          ],
          "scatter3d": [
           {
            "line": {
             "colorbar": {
              "outlinewidth": 0,
              "ticks": ""
             }
            },
            "marker": {
             "colorbar": {
              "outlinewidth": 0,
              "ticks": ""
             }
            },
            "type": "scatter3d"
           }
          ],
          "scattercarpet": [
           {
            "marker": {
             "colorbar": {
              "outlinewidth": 0,
              "ticks": ""
             }
            },
            "type": "scattercarpet"
           }
          ],
          "scattergeo": [
           {
            "marker": {
             "colorbar": {
              "outlinewidth": 0,
              "ticks": ""
             }
            },
            "type": "scattergeo"
           }
          ],
          "scattergl": [
           {
            "marker": {
             "colorbar": {
              "outlinewidth": 0,
              "ticks": ""
             }
            },
            "type": "scattergl"
           }
          ],
          "scattermapbox": [
           {
            "marker": {
             "colorbar": {
              "outlinewidth": 0,
              "ticks": ""
             }
            },
            "type": "scattermapbox"
           }
          ],
          "scatterpolar": [
           {
            "marker": {
             "colorbar": {
              "outlinewidth": 0,
              "ticks": ""
             }
            },
            "type": "scatterpolar"
           }
          ],
          "scatterpolargl": [
           {
            "marker": {
             "colorbar": {
              "outlinewidth": 0,
              "ticks": ""
             }
            },
            "type": "scatterpolargl"
           }
          ],
          "scatterternary": [
           {
            "marker": {
             "colorbar": {
              "outlinewidth": 0,
              "ticks": ""
             }
            },
            "type": "scatterternary"
           }
          ],
          "surface": [
           {
            "colorbar": {
             "outlinewidth": 0,
             "ticks": ""
            },
            "colorscale": [
             [
              0,
              "#0d0887"
             ],
             [
              0.1111111111111111,
              "#46039f"
             ],
             [
              0.2222222222222222,
              "#7201a8"
             ],
             [
              0.3333333333333333,
              "#9c179e"
             ],
             [
              0.4444444444444444,
              "#bd3786"
             ],
             [
              0.5555555555555556,
              "#d8576b"
             ],
             [
              0.6666666666666666,
              "#ed7953"
             ],
             [
              0.7777777777777778,
              "#fb9f3a"
             ],
             [
              0.8888888888888888,
              "#fdca26"
             ],
             [
              1,
              "#f0f921"
             ]
            ],
            "type": "surface"
           }
          ],
          "table": [
           {
            "cells": {
             "fill": {
              "color": "#EBF0F8"
             },
             "line": {
              "color": "white"
             }
            },
            "header": {
             "fill": {
              "color": "#C8D4E3"
             },
             "line": {
              "color": "white"
             }
            },
            "type": "table"
           }
          ]
         },
         "layout": {
          "annotationdefaults": {
           "arrowcolor": "#2a3f5f",
           "arrowhead": 0,
           "arrowwidth": 1
          },
          "autotypenumbers": "strict",
          "coloraxis": {
           "colorbar": {
            "outlinewidth": 0,
            "ticks": ""
           }
          },
          "colorscale": {
           "diverging": [
            [
             0,
             "#8e0152"
            ],
            [
             0.1,
             "#c51b7d"
            ],
            [
             0.2,
             "#de77ae"
            ],
            [
             0.3,
             "#f1b6da"
            ],
            [
             0.4,
             "#fde0ef"
            ],
            [
             0.5,
             "#f7f7f7"
            ],
            [
             0.6,
             "#e6f5d0"
            ],
            [
             0.7,
             "#b8e186"
            ],
            [
             0.8,
             "#7fbc41"
            ],
            [
             0.9,
             "#4d9221"
            ],
            [
             1,
             "#276419"
            ]
           ],
           "sequential": [
            [
             0,
             "#0d0887"
            ],
            [
             0.1111111111111111,
             "#46039f"
            ],
            [
             0.2222222222222222,
             "#7201a8"
            ],
            [
             0.3333333333333333,
             "#9c179e"
            ],
            [
             0.4444444444444444,
             "#bd3786"
            ],
            [
             0.5555555555555556,
             "#d8576b"
            ],
            [
             0.6666666666666666,
             "#ed7953"
            ],
            [
             0.7777777777777778,
             "#fb9f3a"
            ],
            [
             0.8888888888888888,
             "#fdca26"
            ],
            [
             1,
             "#f0f921"
            ]
           ],
           "sequentialminus": [
            [
             0,
             "#0d0887"
            ],
            [
             0.1111111111111111,
             "#46039f"
            ],
            [
             0.2222222222222222,
             "#7201a8"
            ],
            [
             0.3333333333333333,
             "#9c179e"
            ],
            [
             0.4444444444444444,
             "#bd3786"
            ],
            [
             0.5555555555555556,
             "#d8576b"
            ],
            [
             0.6666666666666666,
             "#ed7953"
            ],
            [
             0.7777777777777778,
             "#fb9f3a"
            ],
            [
             0.8888888888888888,
             "#fdca26"
            ],
            [
             1,
             "#f0f921"
            ]
           ]
          },
          "colorway": [
           "#636efa",
           "#EF553B",
           "#00cc96",
           "#ab63fa",
           "#FFA15A",
           "#19d3f3",
           "#FF6692",
           "#B6E880",
           "#FF97FF",
           "#FECB52"
          ],
          "font": {
           "color": "#2a3f5f"
          },
          "geo": {
           "bgcolor": "white",
           "lakecolor": "white",
           "landcolor": "#E5ECF6",
           "showlakes": true,
           "showland": true,
           "subunitcolor": "white"
          },
          "hoverlabel": {
           "align": "left"
          },
          "hovermode": "closest",
          "mapbox": {
           "style": "light"
          },
          "paper_bgcolor": "white",
          "plot_bgcolor": "#E5ECF6",
          "polar": {
           "angularaxis": {
            "gridcolor": "white",
            "linecolor": "white",
            "ticks": ""
           },
           "bgcolor": "#E5ECF6",
           "radialaxis": {
            "gridcolor": "white",
            "linecolor": "white",
            "ticks": ""
           }
          },
          "scene": {
           "xaxis": {
            "backgroundcolor": "#E5ECF6",
            "gridcolor": "white",
            "gridwidth": 2,
            "linecolor": "white",
            "showbackground": true,
            "ticks": "",
            "zerolinecolor": "white"
           },
           "yaxis": {
            "backgroundcolor": "#E5ECF6",
            "gridcolor": "white",
            "gridwidth": 2,
            "linecolor": "white",
            "showbackground": true,
            "ticks": "",
            "zerolinecolor": "white"
           },
           "zaxis": {
            "backgroundcolor": "#E5ECF6",
            "gridcolor": "white",
            "gridwidth": 2,
            "linecolor": "white",
            "showbackground": true,
            "ticks": "",
            "zerolinecolor": "white"
           }
          },
          "shapedefaults": {
           "line": {
            "color": "#2a3f5f"
           }
          },
          "ternary": {
           "aaxis": {
            "gridcolor": "white",
            "linecolor": "white",
            "ticks": ""
           },
           "baxis": {
            "gridcolor": "white",
            "linecolor": "white",
            "ticks": ""
           },
           "bgcolor": "#E5ECF6",
           "caxis": {
            "gridcolor": "white",
            "linecolor": "white",
            "ticks": ""
           }
          },
          "title": {
           "x": 0.05
          },
          "xaxis": {
           "automargin": true,
           "gridcolor": "white",
           "linecolor": "white",
           "ticks": "",
           "title": {
            "standoff": 15
           },
           "zerolinecolor": "white",
           "zerolinewidth": 2
          },
          "yaxis": {
           "automargin": true,
           "gridcolor": "white",
           "linecolor": "white",
           "ticks": "",
           "title": {
            "standoff": 15
           },
           "zerolinecolor": "white",
           "zerolinewidth": 2
          }
         }
        },
        "width": 2000,
        "xaxis": {
         "gridcolor": "lightgrey",
         "linecolor": "black",
         "mirror": true,
         "showline": true,
         "tickangle": 45,
         "ticks": "outside"
        },
        "yaxis": {
         "gridcolor": "lightgrey",
         "linecolor": "black",
         "mirror": true,
         "range": [
          -70.52154960005774,
          82.72748544428705
         ],
         "showline": true,
         "ticks": "outside"
        }
       }
      }
     },
     "metadata": {},
     "output_type": "display_data"
    }
   ],
   "source": [
    "fig = elo_delta_plot(elo_deltas)\n",
    "fig.show()"
   ]
  },
  {
   "cell_type": "code",
   "execution_count": 33,
   "metadata": {},
   "outputs": [
    {
     "data": {
      "text/html": [
       "<div>\n",
       "<style scoped>\n",
       "    .dataframe tbody tr th:only-of-type {\n",
       "        vertical-align: middle;\n",
       "    }\n",
       "\n",
       "    .dataframe tbody tr th {\n",
       "        vertical-align: top;\n",
       "    }\n",
       "\n",
       "    .dataframe thead th {\n",
       "        text-align: right;\n",
       "    }\n",
       "</style>\n",
       "<table border=\"1\" class=\"dataframe\">\n",
       "  <thead>\n",
       "    <tr style=\"text-align: right;\">\n",
       "      <th></th>\n",
       "      <th>Date</th>\n",
       "      <th>Start (ET)</th>\n",
       "      <th>Visitor/Neutral</th>\n",
       "      <th>away_pts</th>\n",
       "      <th>Home/Neutral</th>\n",
       "      <th>home_pts</th>\n",
       "      <th>Box Score</th>\n",
       "      <th>OT</th>\n",
       "      <th>Attend.</th>\n",
       "      <th>LOG</th>\n",
       "      <th>Arena</th>\n",
       "      <th>Notes</th>\n",
       "    </tr>\n",
       "  </thead>\n",
       "  <tbody>\n",
       "    <tr>\n",
       "      <th>4</th>\n",
       "      <td>Wed, Oct 23, 2024</td>\n",
       "      <td>7:30p</td>\n",
       "      <td>Orlando Magic</td>\n",
       "      <td>116</td>\n",
       "      <td>Miami Heat</td>\n",
       "      <td>97</td>\n",
       "      <td>Box Score</td>\n",
       "      <td></td>\n",
       "      <td>19,630</td>\n",
       "      <td>2:31</td>\n",
       "      <td>Kaseya Center</td>\n",
       "      <td></td>\n",
       "    </tr>\n",
       "    <tr>\n",
       "      <th>29</th>\n",
       "      <td>Sat, Oct 26, 2024</td>\n",
       "      <td>7:00p</td>\n",
       "      <td>Miami Heat</td>\n",
       "      <td>114</td>\n",
       "      <td>Charlotte Hornets</td>\n",
       "      <td>106</td>\n",
       "      <td>Box Score</td>\n",
       "      <td></td>\n",
       "      <td>19,102</td>\n",
       "      <td>2:23</td>\n",
       "      <td>Spectrum Center</td>\n",
       "      <td></td>\n",
       "    </tr>\n",
       "    <tr>\n",
       "      <th>45</th>\n",
       "      <td>Mon, Oct 28, 2024</td>\n",
       "      <td>7:30p</td>\n",
       "      <td>Detroit Pistons</td>\n",
       "      <td>98</td>\n",
       "      <td>Miami Heat</td>\n",
       "      <td>106</td>\n",
       "      <td>Box Score</td>\n",
       "      <td></td>\n",
       "      <td>19,626</td>\n",
       "      <td>2:18</td>\n",
       "      <td>Kaseya Center</td>\n",
       "      <td></td>\n",
       "    </tr>\n",
       "    <tr>\n",
       "      <th>61</th>\n",
       "      <td>Wed, Oct 30, 2024</td>\n",
       "      <td>7:30p</td>\n",
       "      <td>New York Knicks</td>\n",
       "      <td>116</td>\n",
       "      <td>Miami Heat</td>\n",
       "      <td>107</td>\n",
       "      <td>Box Score</td>\n",
       "      <td></td>\n",
       "      <td>19,620</td>\n",
       "      <td>2:10</td>\n",
       "      <td>Kaseya Center</td>\n",
       "      <td></td>\n",
       "    </tr>\n",
       "    <tr>\n",
       "      <th>15</th>\n",
       "      <td>Sat, Nov 2, 2024</td>\n",
       "      <td>9:30p</td>\n",
       "      <td>Miami Heat</td>\n",
       "      <td>118</td>\n",
       "      <td>Washington Wizards</td>\n",
       "      <td>98</td>\n",
       "      <td>Box Score</td>\n",
       "      <td></td>\n",
       "      <td>20,328</td>\n",
       "      <td>2:16</td>\n",
       "      <td>Mexico City Arena</td>\n",
       "      <td></td>\n",
       "    </tr>\n",
       "    <tr>\n",
       "      <th>27</th>\n",
       "      <td>Mon, Nov 4, 2024</td>\n",
       "      <td>8:15p</td>\n",
       "      <td>Sacramento Kings</td>\n",
       "      <td>111</td>\n",
       "      <td>Miami Heat</td>\n",
       "      <td>110</td>\n",
       "      <td>Box Score</td>\n",
       "      <td></td>\n",
       "      <td>19,604</td>\n",
       "      <td>2:20</td>\n",
       "      <td>Kaseya Center</td>\n",
       "      <td></td>\n",
       "    </tr>\n",
       "    <tr>\n",
       "      <th>46</th>\n",
       "      <td>Wed, Nov 6, 2024</td>\n",
       "      <td>9:00p</td>\n",
       "      <td>Miami Heat</td>\n",
       "      <td>112</td>\n",
       "      <td>Phoenix Suns</td>\n",
       "      <td>115</td>\n",
       "      <td>Box Score</td>\n",
       "      <td></td>\n",
       "      <td>17,071</td>\n",
       "      <td>2:20</td>\n",
       "      <td>Footprint Center</td>\n",
       "      <td></td>\n",
       "    </tr>\n",
       "  </tbody>\n",
       "</table>\n",
       "</div>"
      ],
      "text/plain": [
       "                 Date Start (ET)   Visitor/Neutral away_pts  \\\n",
       "4   Wed, Oct 23, 2024      7:30p     Orlando Magic      116   \n",
       "29  Sat, Oct 26, 2024      7:00p        Miami Heat      114   \n",
       "45  Mon, Oct 28, 2024      7:30p   Detroit Pistons       98   \n",
       "61  Wed, Oct 30, 2024      7:30p   New York Knicks      116   \n",
       "15   Sat, Nov 2, 2024      9:30p        Miami Heat      118   \n",
       "27   Mon, Nov 4, 2024      8:15p  Sacramento Kings      111   \n",
       "46   Wed, Nov 6, 2024      9:00p        Miami Heat      112   \n",
       "\n",
       "          Home/Neutral home_pts  Box Score OT Attend.   LOG  \\\n",
       "4           Miami Heat       97  Box Score     19,630  2:31   \n",
       "29   Charlotte Hornets      106  Box Score     19,102  2:23   \n",
       "45          Miami Heat      106  Box Score     19,626  2:18   \n",
       "61          Miami Heat      107  Box Score     19,620  2:10   \n",
       "15  Washington Wizards       98  Box Score     20,328  2:16   \n",
       "27          Miami Heat      110  Box Score     19,604  2:20   \n",
       "46        Phoenix Suns      115  Box Score     17,071  2:20   \n",
       "\n",
       "                Arena Notes  \n",
       "4       Kaseya Center        \n",
       "29    Spectrum Center        \n",
       "45      Kaseya Center        \n",
       "61      Kaseya Center        \n",
       "15  Mexico City Arena        \n",
       "27      Kaseya Center        \n",
       "46   Footprint Center        "
      ]
     },
     "execution_count": 33,
     "metadata": {},
     "output_type": "execute_result"
    }
   ],
   "source": [
    "team = 'Miami Heat'\n",
    "schedule[(schedule['Visitor/Neutral'] == team) | (schedule['Home/Neutral'] == team)]"
   ]
  },
  {
   "cell_type": "code",
   "execution_count": 14,
   "metadata": {},
   "outputs": [
    {
     "data": {
      "text/plain": [
       "[1680.1906216232785,\n",
       " 1687.5096634947834,\n",
       " 1689.331437583457,\n",
       " 1691.11059831677,\n",
       " 1696.4198310669194,\n",
       " 1682.4861888083092,\n",
       " 1685.227860493281,\n",
       " 1687.8957072623814,\n",
       " 1671.7986924846837,\n",
       " 1658.876543640449]"
      ]
     },
     "execution_count": 14,
     "metadata": {},
     "output_type": "execute_result"
    }
   ],
   "source": [
    "elo_histories['Boston Celtics']"
   ]
  },
  {
   "cell_type": "code",
   "execution_count": null,
   "metadata": {},
   "outputs": [],
   "source": []
  }
 ],
 "metadata": {
  "kernelspec": {
   "display_name": "base",
   "language": "python",
   "name": "python3"
  },
  "language_info": {
   "codemirror_mode": {
    "name": "ipython",
    "version": 3
   },
   "file_extension": ".py",
   "mimetype": "text/x-python",
   "name": "python",
   "nbconvert_exporter": "python",
   "pygments_lexer": "ipython3",
   "version": "3.8.8"
  }
 },
 "nbformat": 4,
 "nbformat_minor": 2
}
