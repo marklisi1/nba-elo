{
 "cells": [
  {
   "cell_type": "code",
   "execution_count": 1,
   "metadata": {},
   "outputs": [],
   "source": [
    "import requests\n",
    "from bs4 import BeautifulSoup\n",
    "import pandas as pd\n",
    "import time\n",
    "import pickle\n",
    "from datetime import datetime\n",
    "\n",
    "# plotting\n",
    "import plotly.graph_objects as go \n",
    "import ast\n"
   ]
  },
  {
   "cell_type": "markdown",
   "metadata": {},
   "source": [
    " First step - grab the schedule! Each month's schedule is stored on a separate page, so we'll check each one based on the current date."
   ]
  },
  {
   "cell_type": "code",
   "execution_count": 2,
   "metadata": {},
   "outputs": [
    {
     "name": "stdout",
     "output_type": "stream",
     "text": [
      "\n",
      "Data has been saved to '2025_schedule.csv'\n"
     ]
    }
   ],
   "source": [
    "def get_schedule():\n",
    "\n",
    "    months = ['october','november','december','january','february','march','april']\n",
    "    current_month = datetime.now().strftime(\"%B\").lower()\n",
    "    \n",
    "    schedule = pd.DataFrame()\n",
    "\n",
    "    for month in months:\n",
    "        url = f\"https://www.basketball-reference.com/leagues/NBA_2025_games-{month}.html\"\n",
    "\n",
    "        # Add headers to mimic a browser request\n",
    "        headers = {\n",
    "            'User-Agent': 'Mozilla/5.0 (Windows NT 10.0; Win64; x64) AppleWebKit/537.36 (KHTML, like Gecko) Chrome/91.0.4472.124 Safari/537.36'\n",
    "        }\n",
    "\n",
    "        try:\n",
    "            # Make the request with a slight delay to be respectful to the server\n",
    "            time.sleep(3)\n",
    "            response = requests.get(url, headers=headers)\n",
    "            response.raise_for_status()  # Raise an exception for bad status codes\n",
    "            \n",
    "            # Parse the HTML content\n",
    "            soup = BeautifulSoup(response.text, 'html.parser')\n",
    "            \n",
    "            # Find the schedule table\n",
    "            table = soup.find('table', id='schedule')\n",
    "            \n",
    "            if table is None:\n",
    "                raise ValueError(\"Schedule table not found on the page\")\n",
    "\n",
    "            # Define the columns we want to extract\n",
    "            columns = [\n",
    "                'Date',\n",
    "                'Start (ET)',\n",
    "                'Visitor/Neutral',\n",
    "                'away_pts',\n",
    "                'Home/Neutral',\n",
    "                'home_pts',\n",
    "                'Box Score',\n",
    "                'OT',\n",
    "                'Attend.',\n",
    "                'LOG',\n",
    "                'Arena',\n",
    "                'Notes'\n",
    "            ]\n",
    "            \n",
    "            # Extract rows\n",
    "            rows = []\n",
    "            for row in table.find_all('tr')[1:]:  # Skip header row\n",
    "                game_data = []\n",
    "                cells = row.find_all(['td', 'th'])\n",
    "                if cells:  # Only process rows with data\n",
    "                    for cell in cells:\n",
    "                        text = cell.text.strip()\n",
    "                        game_data.append(text)\n",
    "                    if game_data:  # Only append non-empty rows\n",
    "                        rows.append(game_data)\n",
    "            \n",
    "            # Create DataFrame with explicit column names\n",
    "            df = pd.DataFrame(rows, columns=columns)\n",
    "            df = df[df['away_pts'] != '']\n",
    "            schedule = pd.concat((schedule, df))\n",
    "            \n",
    "            if month == current_month:\n",
    "                break\n",
    "                \n",
    "\n",
    "\n",
    "\n",
    "        except requests.RequestException as e:\n",
    "            print(f\"Error fetching the webpage: {e}\")\n",
    "        except Exception as e:\n",
    "            print(f\"Error processing the data: {e}\")\n",
    "\n",
    "    # Optionally save to CSV\n",
    "    schedule.to_csv('2025_schedule.csv', index=False)\n",
    "    print(\"\\nData has been saved to '2025_schedule.csv'\")\n",
    "    return schedule\n",
    "\n",
    "schedule = get_schedule()"
   ]
  },
  {
   "cell_type": "markdown",
   "metadata": {},
   "source": [
    "Now we calculate the Elo of each team game-by-game:"
   ]
  },
  {
   "cell_type": "code",
   "execution_count": 3,
   "metadata": {},
   "outputs": [],
   "source": [
    "def expected_score(rating_a, rating_b):\n",
    "    return 1 / (1 + 10 ** ((rating_b - rating_a) / 400))\n",
    "\n",
    "def update_elo(rating, expected, actual, k=20):\n",
    "    \"\"\"\n",
    "    Update the Elo rating based on game result.\n",
    "    :param rating: Current Elo rating\n",
    "    :param expected: Expected score\n",
    "    :param actual: Actual score (1 for win, 0 for loss)\n",
    "    :param k: K-factor\n",
    "    :return: Updated Elo rating\n",
    "    \"\"\"\n",
    "    return rating + k * (actual - expected)\n",
    "\n",
    "\n",
    "# Load Elos from end of previous season\n",
    "with open('../2023-24/final_elos.pkl', 'rb') as f:\n",
    "    current_elos = pickle.load(f) \n",
    "\n",
    "elo_histories = {}\n",
    "team_names = list(schedule['Visitor/Neutral'].unique())\n",
    "for name in team_names:\n",
    "    elo_histories[name] = [current_elos[name]]"
   ]
  },
  {
   "cell_type": "code",
   "execution_count": 4,
   "metadata": {},
   "outputs": [],
   "source": [
    "def calculate_elos(schedule, current_elos, elo_histories):\n",
    "    '''\n",
    "    schedule: pd.Dataframe containing game logs\n",
    "    \n",
    "    current_elos: {str: int} form dictionary showing each team's current Elo\n",
    "    \n",
    "    elo_histories: {str: [int]} form dictionary showing all Elo values throughout the season \n",
    "    (used for plotting later on)\n",
    "    '''\n",
    "    for index, row in schedule.iterrows(): # i know iterrows sucks and vectors are better,\n",
    "                                    # but it's sequential data that's updated over time \n",
    "        away = row['Visitor/Neutral']\n",
    "        away_score = row['away_pts']\n",
    "        home = row['Home/Neutral']\n",
    "        home_score = row['home_pts']\n",
    "\n",
    "        home_elo = current_elos[home]\n",
    "        away_elo = current_elos[away]\n",
    "\n",
    "        if home_score > away_score:\n",
    "            result = 1\n",
    "        else:\n",
    "            result = 0\n",
    "        \n",
    "        expected_home_score = expected_score(current_elos[home], current_elos[away])\n",
    "        expected_away_score = expected_score(current_elos[away], current_elos[home])\n",
    "        new_rating_home = update_elo(home_elo, expected_home_score, result)\n",
    "        new_rating_away = update_elo(away_elo, expected_away_score, 1 - result)\n",
    "\n",
    "        elo_histories[home].append(new_rating_home)\n",
    "        elo_histories[away].append(new_rating_away)\n",
    "\n",
    "        current_elos[home] = new_rating_home\n",
    "        current_elos[away] = new_rating_away\n",
    "    \n",
    "    return current_elos, elo_histories"
   ]
  },
  {
   "cell_type": "code",
   "execution_count": 5,
   "metadata": {},
   "outputs": [
    {
     "data": {
      "text/plain": [
       "{'New York Knicks': [1584.711486893246,\n",
       "  1577.3924450217412,\n",
       "  1567.0328727564695,\n",
       "  1556.0129470825818,\n",
       "  1565.4478248023324,\n",
       "  1548.9391112150938,\n",
       "  1557.667426174039,\n",
       "  1544.8710582410674],\n",
       " 'Minnesota Timberwolves': [1607.4606388711322,\n",
       "  1596.7761947867077,\n",
       "  1604.835233202691,\n",
       "  1608.3770782156566,\n",
       "  1598.1363097166347,\n",
       "  1609.3321130835805,\n",
       "  1594.0294732269074,\n",
       "  1578.1088571695577,\n",
       "  1585.6577463190756],\n",
       " 'Indiana Pacers': [1561.380655075586,\n",
       "  1564.894236707712,\n",
       "  1575.2538089729837,\n",
       "  1563.4025361748818,\n",
       "  1551.965175740892,\n",
       "  1565.8988179995022,\n",
       "  1555.9650349794993,\n",
       "  1566.8025999560234,\n",
       "  1576.2748268289931],\n",
       " 'Brooklyn Nets': [1410.8879283939752,\n",
       "  1402.1655332295607,\n",
       "  1395.444329864287,\n",
       "  1409.0832614728583,\n",
       "  1404.8134373273097,\n",
       "  1414.2405224144347,\n",
       "  1426.7471921467818,\n",
       "  1433.5612599341264,\n",
       "  1442.1264635239777],\n",
       " 'Orlando Magic': [1530.2250287664333,\n",
       "  1520.4502066503037,\n",
       "  1527.1714100155773,\n",
       "  1513.1152784696637,\n",
       "  1524.5526389036536,\n",
       "  1534.2171373245642,\n",
       "  1524.7915353808417,\n",
       "  1536.8456139551993,\n",
       "  1548.448829600651,\n",
       "  1538.9766027276812],\n",
       " 'Milwaukee Bucks': [1529.4440603311696,\n",
       "  1539.6215971667361,\n",
       "  1527.9444445455188,\n",
       "  1514.3055129369475,\n",
       "  1508.996280186798,\n",
       "  1515.3314883559078,\n",
       "  1506.7125012799806,\n",
       "  1498.5764948822882,\n",
       "  1506.465048397269],\n",
       " 'Cleveland Cavaliers': [1518.3531097781024,\n",
       "  1523.3579272013098,\n",
       "  1527.4843325151976,\n",
       "  1531.4733791179897,\n",
       "  1542.4933047918773,\n",
       "  1554.1957612229553,\n",
       "  1563.6213631666778,\n",
       "  1572.240350242605,\n",
       "  1580.3763566402974,\n",
       "  1589.4815604926278],\n",
       " 'Charlotte Hornets': [1351.4538797028154,\n",
       "  1365.8038737636437,\n",
       "  1358.5637156167975,\n",
       "  1353.5293670796364,\n",
       "  1362.8928769139754,\n",
       "  1360.1512052290036,\n",
       "  1357.4833584599032,\n",
       "  1373.403974517253,\n",
       "  1381.9369115540599],\n",
       " 'Chicago Bulls': [1488.3936215539197,\n",
       "  1480.7955868761087,\n",
       "  1492.472739497326,\n",
       "  1506.0693647235398,\n",
       "  1512.8917436133113,\n",
       "  1503.2272451924007,\n",
       "  1490.7205754600536,\n",
       "  1478.4891312424006,\n",
       "  1491.178836564524,\n",
       "  1483.6299474150062],\n",
       " 'Memphis Grizzlies': [1373.904676840865,\n",
       "  1384.4701092700836,\n",
       "  1377.6527605871815,\n",
       "  1391.708892133095,\n",
       "  1384.8865132433236,\n",
       "  1375.4594281561986,\n",
       "  1369.1242199870887,\n",
       "  1383.3649614124593,\n",
       "  1374.799757822608,\n",
       "  1390.0454798347184],\n",
       " 'Phoenix Suns': [1599.277015985001,\n",
       "  1608.239595231276,\n",
       "  1597.8393960543,\n",
       "  1608.0557887089556,\n",
       "  1618.1793173024016,\n",
       "  1626.546408074239,\n",
       "  1610.1560251417966,\n",
       "  1617.4076943038897,\n",
       "  1624.1637191652485],\n",
       " 'Golden State Warriors': [1575.2347278917505,\n",
       "  1579.130881753346,\n",
       "  1564.0178352206083,\n",
       "  1554.095064335104,\n",
       "  1564.5072724821575,\n",
       "  1554.320361225384,\n",
       "  1563.146339993762,\n",
       "  1567.2253669637262,\n",
       "  1580.1475158079609],\n",
       " 'Boston Celtics': [1680.1906216232785,\n",
       "  1687.5096634947834,\n",
       "  1689.331437583457,\n",
       "  1691.11059831677,\n",
       "  1696.4198310669194,\n",
       "  1682.4861888083092,\n",
       "  1685.227860493281,\n",
       "  1687.8957072623814,\n",
       "  1671.7986924846837,\n",
       "  1658.876543640449],\n",
       " 'San Antonio Spurs': [1398.0469631180226,\n",
       "  1393.295501484523,\n",
       "  1406.4261158495135,\n",
       "  1398.8597860598702,\n",
       "  1414.4037404314793,\n",
       "  1404.1671135404852,\n",
       "  1419.4697533971582,\n",
       "  1413.4064715741251,\n",
       "  1405.7341268744578,\n",
       "  1415.4234212639788],\n",
       " 'Oklahoma City Thunder': [1633.225296251623,\n",
       "  1623.2816219689694,\n",
       "  1609.6849967427556,\n",
       "  1615.9045394721852,\n",
       "  1600.3605851005761,\n",
       "  1604.5159351333127,\n",
       "  1593.0317594962617,\n",
       "  1581.42854385081,\n",
       "  1572.993668153278],\n",
       " 'Philadelphia 76ers': [1535.612969960298,\n",
       "  1525.4354331247314,\n",
       "  1510.183722561852,\n",
       "  1522.0349953599539,\n",
       "  1526.3906292991267,\n",
       "  1512.1498878737561,\n",
       "  1504.898218711663,\n",
       "  1516.7535448171973],\n",
       " 'Detroit Pistons': [1292.8301476993272,\n",
       "  1289.3165660672012,\n",
       "  1285.1901607533134,\n",
       "  1283.4110000200005,\n",
       "  1299.9123568677132,\n",
       "  1295.5567229285405,\n",
       "  1312.065436515779,\n",
       "  1305.2513687284345,\n",
       "  1322.06251208582,\n",
       "  1313.5295750490131],\n",
       " 'New Orleans Pelicans': [1573.5093180711874,\n",
       "  1581.1073527489984,\n",
       "  1584.8301146180193,\n",
       "  1568.4247620372646,\n",
       "  1558.0125538902112,\n",
       "  1568.1994651469847,\n",
       "  1578.1332481669876,\n",
       "  1564.054611610565,\n",
       "  1549.2045825931634,\n",
       "  1540.0993787408331],\n",
       " 'Los Angeles Clippers': [1563.103180075523,\n",
       "  1554.140600829248,\n",
       "  1566.701102829251,\n",
       "  1576.6238737147553,\n",
       "  1560.9337737955768,\n",
       "  1552.5666830237394,\n",
       "  1564.0508586607905,\n",
       "  1570.1141404838236,\n",
       "  1558.2588143782893],\n",
       " 'Miami Heat': [1538.0498324625414,\n",
       "  1547.824654578671,\n",
       "  1552.8590031158321,\n",
       "  1536.3576462681194,\n",
       "  1526.9227685483688,\n",
       "  1511.4024385694113,\n",
       "  1500.4768471929194,\n",
       "  1493.7208223315606],\n",
       " 'Toronto Raptors': [1327.7277021719724,\n",
       "  1322.722884748765,\n",
       "  1337.9745953116444,\n",
       "  1334.4327502986787,\n",
       "  1331.3854983069373,\n",
       "  1322.0219884725982,\n",
       "  1318.5075622804738,\n",
       "  1333.164499144391,\n",
       "  1330.1460028014878,\n",
       "  1324.4494486505707],\n",
       " 'Houston Rockets': [1513.375006496063,\n",
       "  1499.0250124352347,\n",
       "  1505.8423611181368,\n",
       "  1492.7117467531461,\n",
       "  1500.2780765427894,\n",
       "  1513.341715688795,\n",
       "  1504.5157369204169,\n",
       "  1495.7874219614716,\n",
       "  1503.459766661139],\n",
       " 'Dallas Mavericks': [1600.6073591111385,\n",
       "  1605.3588207446383,\n",
       "  1595.1424280899828,\n",
       "  1600.0103067979976,\n",
       "  1610.2510752970195,\n",
       "  1597.187436151014,\n",
       "  1585.1333575766564,\n",
       "  1574.2957926001322,\n",
       "  1561.6060872780088],\n",
       " 'Sacramento Kings': [1528.4737647189793,\n",
       "  1520.414726302996,\n",
       "  1512.7949170460504,\n",
       "  1498.1382057403148,\n",
       "  1485.2077837631919,\n",
       "  1493.8087267030944,\n",
       "  1479.1517898391774,\n",
       "  1490.0773812156692,\n",
       "  1495.7739353665863],\n",
       " 'Atlanta Hawks': [1455.520374249935,\n",
       "  1464.2427694143496,\n",
       "  1471.4829275611958,\n",
       "  1465.2633848317662,\n",
       "  1450.4305807612648,\n",
       "  1436.2786393183344,\n",
       "  1427.6776963784318,\n",
       "  1441.7563329348545,\n",
       "  1457.8533477125522,\n",
       "  1470.6497156455239],\n",
       " 'Washington Wizards': [1287.8868732578583,\n",
       "  1286.0650991691846,\n",
       "  1282.0760525663925,\n",
       "  1296.908856636894,\n",
       "  1311.0607980798243,\n",
       "  1326.5811280587818,\n",
       "  1322.5021010888177],\n",
       " 'Denver Nuggets': [1635.1822728060101,\n",
       "  1645.1259470886637,\n",
       "  1632.5654450886605,\n",
       "  1635.6126970804019,\n",
       "  1639.8825212259505,\n",
       "  1628.6867178590048,\n",
       "  1633.238694730038,\n",
       "  1636.2571910729412,\n",
       "  1644.6920667704733],\n",
       " 'Utah Jazz': [1393.5707878770177,\n",
       "  1383.005355447799,\n",
       "  1398.1184019805369,\n",
       "  1393.250523272522,\n",
       "  1406.180945249645,\n",
       "  1416.417572140639,\n",
       "  1411.8655952696058,\n",
       "  1424.0970394872588,\n",
       "  1416.2084859722781],\n",
       " 'Portland Trail Blazers': [1328.7173225344523,\n",
       "  1324.8211686728566,\n",
       "  1321.0984068038358,\n",
       "  1337.5037593845905,\n",
       "  1352.160470690326,\n",
       "  1367.8505706095045,\n",
       "  1363.695220576768,\n",
       "  1380.0856035092104,\n",
       "  1394.935632526612,\n",
       "  1385.246338137091],\n",
       " 'Los Angeles Lakers': [1583.6433774307768,\n",
       "  1594.3278215152013,\n",
       "  1604.7280206921773,\n",
       "  1612.347829949123,\n",
       "  1602.2243013556767,\n",
       "  1590.5218449245988,\n",
       "  1594.0362711167231,\n",
       "  1577.2251277593377,\n",
       "  1561.9794057472272]}"
      ]
     },
     "execution_count": 5,
     "metadata": {},
     "output_type": "execute_result"
    }
   ],
   "source": [
    "current_elos, elo_histories = calculate_elos(schedule, current_elos, elo_histories)\n",
    "elo_histories"
   ]
  },
  {
   "cell_type": "code",
   "execution_count": 6,
   "metadata": {},
   "outputs": [
    {
     "data": {
      "application/vnd.plotly.v1+json": {
       "config": {
        "plotlyServerURL": "https://plot.ly"
       },
       "data": [
        {
         "marker": {
          "color": [
           "rgb(200,16,46)",
           "rgb(0,43,92)",
           "rgb(206,17,65)",
           "rgb(0,120,140)",
           "rgb(224,58,62)",
           "rgb(93,118,169)",
           "rgb(196,206,211)",
           "rgb(0,43,92)",
           "rgb(0,0,0)",
           "rgb(200,16,46)",
           "rgb(206,17,65)",
           "rgb(152,0,46)",
           "rgb(91,43,130)",
           "rgb(206,17,65)",
           "rgb(0,71,27)",
           "rgb(0,107,182)",
           "rgb(0,125,197)",
           "rgb(0,22,65)",
           "rgb(0,107,182)",
           "rgb(200,16,46)",
           "rgb(0,83,188)",
           "rgb(85,37,130)",
           "rgb(0,125,195)",
           "rgb(0,45,98)",
           "rgb(255,199,44)",
           "rgb(12,35,64)",
           "rgb(134,0,56)",
           "rgb(29,17,96)",
           "rgb(13,34,64)",
           "rgb(0,122,51)"
          ]
         },
         "type": "bar",
         "x": [
          "Detroit Pistons",
          "Washington Wizards",
          "Toronto Raptors",
          "Charlotte Hornets",
          "Portland Trail Blazers",
          "Memphis Grizzlies",
          "San Antonio Spurs",
          "Utah Jazz",
          "Brooklyn Nets",
          "Atlanta Hawks",
          "Chicago Bulls",
          "Miami Heat",
          "Sacramento Kings",
          "Houston Rockets",
          "Milwaukee Bucks",
          "Philadelphia 76ers",
          "Orlando Magic",
          "New Orleans Pelicans",
          "New York Knicks",
          "Los Angeles Clippers",
          "Dallas Mavericks",
          "Los Angeles Lakers",
          "Oklahoma City Thunder",
          "Indiana Pacers",
          "Golden State Warriors",
          "Minnesota Timberwolves",
          "Cleveland Cavaliers",
          "Phoenix Suns",
          "Denver Nuggets",
          "Boston Celtics"
         ],
         "y": [
          1313.5295750490131,
          1322.5021010888177,
          1324.4494486505707,
          1381.9369115540599,
          1385.246338137091,
          1390.0454798347184,
          1415.4234212639788,
          1416.2084859722781,
          1442.1264635239777,
          1470.6497156455239,
          1483.6299474150062,
          1493.7208223315606,
          1495.7739353665863,
          1503.459766661139,
          1506.465048397269,
          1516.7535448171973,
          1538.9766027276812,
          1540.0993787408331,
          1544.8710582410674,
          1558.2588143782893,
          1561.6060872780088,
          1561.9794057472272,
          1572.993668153278,
          1576.2748268289931,
          1580.1475158079609,
          1585.6577463190756,
          1589.4815604926278,
          1624.1637191652485,
          1644.6920667704733,
          1658.876543640449
         ]
        }
       ],
       "layout": {
        "autosize": false,
        "height": 1200,
        "plot_bgcolor": "white",
        "template": {
         "data": {
          "bar": [
           {
            "error_x": {
             "color": "#2a3f5f"
            },
            "error_y": {
             "color": "#2a3f5f"
            },
            "marker": {
             "line": {
              "color": "#E5ECF6",
              "width": 0.5
             },
             "pattern": {
              "fillmode": "overlay",
              "size": 10,
              "solidity": 0.2
             }
            },
            "type": "bar"
           }
          ],
          "barpolar": [
           {
            "marker": {
             "line": {
              "color": "#E5ECF6",
              "width": 0.5
             },
             "pattern": {
              "fillmode": "overlay",
              "size": 10,
              "solidity": 0.2
             }
            },
            "type": "barpolar"
           }
          ],
          "carpet": [
           {
            "aaxis": {
             "endlinecolor": "#2a3f5f",
             "gridcolor": "white",
             "linecolor": "white",
             "minorgridcolor": "white",
             "startlinecolor": "#2a3f5f"
            },
            "baxis": {
             "endlinecolor": "#2a3f5f",
             "gridcolor": "white",
             "linecolor": "white",
             "minorgridcolor": "white",
             "startlinecolor": "#2a3f5f"
            },
            "type": "carpet"
           }
          ],
          "choropleth": [
           {
            "colorbar": {
             "outlinewidth": 0,
             "ticks": ""
            },
            "type": "choropleth"
           }
          ],
          "contour": [
           {
            "colorbar": {
             "outlinewidth": 0,
             "ticks": ""
            },
            "colorscale": [
             [
              0,
              "#0d0887"
             ],
             [
              0.1111111111111111,
              "#46039f"
             ],
             [
              0.2222222222222222,
              "#7201a8"
             ],
             [
              0.3333333333333333,
              "#9c179e"
             ],
             [
              0.4444444444444444,
              "#bd3786"
             ],
             [
              0.5555555555555556,
              "#d8576b"
             ],
             [
              0.6666666666666666,
              "#ed7953"
             ],
             [
              0.7777777777777778,
              "#fb9f3a"
             ],
             [
              0.8888888888888888,
              "#fdca26"
             ],
             [
              1,
              "#f0f921"
             ]
            ],
            "type": "contour"
           }
          ],
          "contourcarpet": [
           {
            "colorbar": {
             "outlinewidth": 0,
             "ticks": ""
            },
            "type": "contourcarpet"
           }
          ],
          "heatmap": [
           {
            "colorbar": {
             "outlinewidth": 0,
             "ticks": ""
            },
            "colorscale": [
             [
              0,
              "#0d0887"
             ],
             [
              0.1111111111111111,
              "#46039f"
             ],
             [
              0.2222222222222222,
              "#7201a8"
             ],
             [
              0.3333333333333333,
              "#9c179e"
             ],
             [
              0.4444444444444444,
              "#bd3786"
             ],
             [
              0.5555555555555556,
              "#d8576b"
             ],
             [
              0.6666666666666666,
              "#ed7953"
             ],
             [
              0.7777777777777778,
              "#fb9f3a"
             ],
             [
              0.8888888888888888,
              "#fdca26"
             ],
             [
              1,
              "#f0f921"
             ]
            ],
            "type": "heatmap"
           }
          ],
          "heatmapgl": [
           {
            "colorbar": {
             "outlinewidth": 0,
             "ticks": ""
            },
            "colorscale": [
             [
              0,
              "#0d0887"
             ],
             [
              0.1111111111111111,
              "#46039f"
             ],
             [
              0.2222222222222222,
              "#7201a8"
             ],
             [
              0.3333333333333333,
              "#9c179e"
             ],
             [
              0.4444444444444444,
              "#bd3786"
             ],
             [
              0.5555555555555556,
              "#d8576b"
             ],
             [
              0.6666666666666666,
              "#ed7953"
             ],
             [
              0.7777777777777778,
              "#fb9f3a"
             ],
             [
              0.8888888888888888,
              "#fdca26"
             ],
             [
              1,
              "#f0f921"
             ]
            ],
            "type": "heatmapgl"
           }
          ],
          "histogram": [
           {
            "marker": {
             "pattern": {
              "fillmode": "overlay",
              "size": 10,
              "solidity": 0.2
             }
            },
            "type": "histogram"
           }
          ],
          "histogram2d": [
           {
            "colorbar": {
             "outlinewidth": 0,
             "ticks": ""
            },
            "colorscale": [
             [
              0,
              "#0d0887"
             ],
             [
              0.1111111111111111,
              "#46039f"
             ],
             [
              0.2222222222222222,
              "#7201a8"
             ],
             [
              0.3333333333333333,
              "#9c179e"
             ],
             [
              0.4444444444444444,
              "#bd3786"
             ],
             [
              0.5555555555555556,
              "#d8576b"
             ],
             [
              0.6666666666666666,
              "#ed7953"
             ],
             [
              0.7777777777777778,
              "#fb9f3a"
             ],
             [
              0.8888888888888888,
              "#fdca26"
             ],
             [
              1,
              "#f0f921"
             ]
            ],
            "type": "histogram2d"
           }
          ],
          "histogram2dcontour": [
           {
            "colorbar": {
             "outlinewidth": 0,
             "ticks": ""
            },
            "colorscale": [
             [
              0,
              "#0d0887"
             ],
             [
              0.1111111111111111,
              "#46039f"
             ],
             [
              0.2222222222222222,
              "#7201a8"
             ],
             [
              0.3333333333333333,
              "#9c179e"
             ],
             [
              0.4444444444444444,
              "#bd3786"
             ],
             [
              0.5555555555555556,
              "#d8576b"
             ],
             [
              0.6666666666666666,
              "#ed7953"
             ],
             [
              0.7777777777777778,
              "#fb9f3a"
             ],
             [
              0.8888888888888888,
              "#fdca26"
             ],
             [
              1,
              "#f0f921"
             ]
            ],
            "type": "histogram2dcontour"
           }
          ],
          "mesh3d": [
           {
            "colorbar": {
             "outlinewidth": 0,
             "ticks": ""
            },
            "type": "mesh3d"
           }
          ],
          "parcoords": [
           {
            "line": {
             "colorbar": {
              "outlinewidth": 0,
              "ticks": ""
             }
            },
            "type": "parcoords"
           }
          ],
          "pie": [
           {
            "automargin": true,
            "type": "pie"
           }
          ],
          "scatter": [
           {
            "fillpattern": {
             "fillmode": "overlay",
             "size": 10,
             "solidity": 0.2
            },
            "type": "scatter"
           }
          ],
          "scatter3d": [
           {
            "line": {
             "colorbar": {
              "outlinewidth": 0,
              "ticks": ""
             }
            },
            "marker": {
             "colorbar": {
              "outlinewidth": 0,
              "ticks": ""
             }
            },
            "type": "scatter3d"
           }
          ],
          "scattercarpet": [
           {
            "marker": {
             "colorbar": {
              "outlinewidth": 0,
              "ticks": ""
             }
            },
            "type": "scattercarpet"
           }
          ],
          "scattergeo": [
           {
            "marker": {
             "colorbar": {
              "outlinewidth": 0,
              "ticks": ""
             }
            },
            "type": "scattergeo"
           }
          ],
          "scattergl": [
           {
            "marker": {
             "colorbar": {
              "outlinewidth": 0,
              "ticks": ""
             }
            },
            "type": "scattergl"
           }
          ],
          "scattermapbox": [
           {
            "marker": {
             "colorbar": {
              "outlinewidth": 0,
              "ticks": ""
             }
            },
            "type": "scattermapbox"
           }
          ],
          "scatterpolar": [
           {
            "marker": {
             "colorbar": {
              "outlinewidth": 0,
              "ticks": ""
             }
            },
            "type": "scatterpolar"
           }
          ],
          "scatterpolargl": [
           {
            "marker": {
             "colorbar": {
              "outlinewidth": 0,
              "ticks": ""
             }
            },
            "type": "scatterpolargl"
           }
          ],
          "scatterternary": [
           {
            "marker": {
             "colorbar": {
              "outlinewidth": 0,
              "ticks": ""
             }
            },
            "type": "scatterternary"
           }
          ],
          "surface": [
           {
            "colorbar": {
             "outlinewidth": 0,
             "ticks": ""
            },
            "colorscale": [
             [
              0,
              "#0d0887"
             ],
             [
              0.1111111111111111,
              "#46039f"
             ],
             [
              0.2222222222222222,
              "#7201a8"
             ],
             [
              0.3333333333333333,
              "#9c179e"
             ],
             [
              0.4444444444444444,
              "#bd3786"
             ],
             [
              0.5555555555555556,
              "#d8576b"
             ],
             [
              0.6666666666666666,
              "#ed7953"
             ],
             [
              0.7777777777777778,
              "#fb9f3a"
             ],
             [
              0.8888888888888888,
              "#fdca26"
             ],
             [
              1,
              "#f0f921"
             ]
            ],
            "type": "surface"
           }
          ],
          "table": [
           {
            "cells": {
             "fill": {
              "color": "#EBF0F8"
             },
             "line": {
              "color": "white"
             }
            },
            "header": {
             "fill": {
              "color": "#C8D4E3"
             },
             "line": {
              "color": "white"
             }
            },
            "type": "table"
           }
          ]
         },
         "layout": {
          "annotationdefaults": {
           "arrowcolor": "#2a3f5f",
           "arrowhead": 0,
           "arrowwidth": 1
          },
          "autotypenumbers": "strict",
          "coloraxis": {
           "colorbar": {
            "outlinewidth": 0,
            "ticks": ""
           }
          },
          "colorscale": {
           "diverging": [
            [
             0,
             "#8e0152"
            ],
            [
             0.1,
             "#c51b7d"
            ],
            [
             0.2,
             "#de77ae"
            ],
            [
             0.3,
             "#f1b6da"
            ],
            [
             0.4,
             "#fde0ef"
            ],
            [
             0.5,
             "#f7f7f7"
            ],
            [
             0.6,
             "#e6f5d0"
            ],
            [
             0.7,
             "#b8e186"
            ],
            [
             0.8,
             "#7fbc41"
            ],
            [
             0.9,
             "#4d9221"
            ],
            [
             1,
             "#276419"
            ]
           ],
           "sequential": [
            [
             0,
             "#0d0887"
            ],
            [
             0.1111111111111111,
             "#46039f"
            ],
            [
             0.2222222222222222,
             "#7201a8"
            ],
            [
             0.3333333333333333,
             "#9c179e"
            ],
            [
             0.4444444444444444,
             "#bd3786"
            ],
            [
             0.5555555555555556,
             "#d8576b"
            ],
            [
             0.6666666666666666,
             "#ed7953"
            ],
            [
             0.7777777777777778,
             "#fb9f3a"
            ],
            [
             0.8888888888888888,
             "#fdca26"
            ],
            [
             1,
             "#f0f921"
            ]
           ],
           "sequentialminus": [
            [
             0,
             "#0d0887"
            ],
            [
             0.1111111111111111,
             "#46039f"
            ],
            [
             0.2222222222222222,
             "#7201a8"
            ],
            [
             0.3333333333333333,
             "#9c179e"
            ],
            [
             0.4444444444444444,
             "#bd3786"
            ],
            [
             0.5555555555555556,
             "#d8576b"
            ],
            [
             0.6666666666666666,
             "#ed7953"
            ],
            [
             0.7777777777777778,
             "#fb9f3a"
            ],
            [
             0.8888888888888888,
             "#fdca26"
            ],
            [
             1,
             "#f0f921"
            ]
           ]
          },
          "colorway": [
           "#636efa",
           "#EF553B",
           "#00cc96",
           "#ab63fa",
           "#FFA15A",
           "#19d3f3",
           "#FF6692",
           "#B6E880",
           "#FF97FF",
           "#FECB52"
          ],
          "font": {
           "color": "#2a3f5f"
          },
          "geo": {
           "bgcolor": "white",
           "lakecolor": "white",
           "landcolor": "#E5ECF6",
           "showlakes": true,
           "showland": true,
           "subunitcolor": "white"
          },
          "hoverlabel": {
           "align": "left"
          },
          "hovermode": "closest",
          "mapbox": {
           "style": "light"
          },
          "paper_bgcolor": "white",
          "plot_bgcolor": "#E5ECF6",
          "polar": {
           "angularaxis": {
            "gridcolor": "white",
            "linecolor": "white",
            "ticks": ""
           },
           "bgcolor": "#E5ECF6",
           "radialaxis": {
            "gridcolor": "white",
            "linecolor": "white",
            "ticks": ""
           }
          },
          "scene": {
           "xaxis": {
            "backgroundcolor": "#E5ECF6",
            "gridcolor": "white",
            "gridwidth": 2,
            "linecolor": "white",
            "showbackground": true,
            "ticks": "",
            "zerolinecolor": "white"
           },
           "yaxis": {
            "backgroundcolor": "#E5ECF6",
            "gridcolor": "white",
            "gridwidth": 2,
            "linecolor": "white",
            "showbackground": true,
            "ticks": "",
            "zerolinecolor": "white"
           },
           "zaxis": {
            "backgroundcolor": "#E5ECF6",
            "gridcolor": "white",
            "gridwidth": 2,
            "linecolor": "white",
            "showbackground": true,
            "ticks": "",
            "zerolinecolor": "white"
           }
          },
          "shapedefaults": {
           "line": {
            "color": "#2a3f5f"
           }
          },
          "ternary": {
           "aaxis": {
            "gridcolor": "white",
            "linecolor": "white",
            "ticks": ""
           },
           "baxis": {
            "gridcolor": "white",
            "linecolor": "white",
            "ticks": ""
           },
           "bgcolor": "#E5ECF6",
           "caxis": {
            "gridcolor": "white",
            "linecolor": "white",
            "ticks": ""
           }
          },
          "title": {
           "x": 0.05
          },
          "xaxis": {
           "automargin": true,
           "gridcolor": "white",
           "linecolor": "white",
           "ticks": "",
           "title": {
            "standoff": 15
           },
           "zerolinecolor": "white",
           "zerolinewidth": 2
          },
          "yaxis": {
           "automargin": true,
           "gridcolor": "white",
           "linecolor": "white",
           "ticks": "",
           "title": {
            "standoff": 15
           },
           "zerolinecolor": "white",
           "zerolinewidth": 2
          }
         }
        },
        "width": 2000,
        "xaxis": {
         "gridcolor": "lightgrey",
         "linecolor": "black",
         "mirror": true,
         "showline": true,
         "ticks": "outside"
        },
        "yaxis": {
         "autorange": false,
         "gridcolor": "lightgrey",
         "linecolor": "black",
         "mirror": true,
         "range": [
          1213.5295750490131,
          1708.876543640449
         ],
         "showline": true,
         "ticks": "outside"
        }
       }
      }
     },
     "metadata": {},
     "output_type": "display_data"
    }
   ],
   "source": [
    "from plotting import elo_bar_plot, elo_line_plot, elo_delta_plot\n",
    "\n",
    "fig = elo_bar_plot(current_elos)\n",
    "fig.show()"
   ]
  },
  {
   "cell_type": "code",
   "execution_count": 7,
   "metadata": {},
   "outputs": [
    {
     "data": {
      "application/vnd.plotly.v1+json": {
       "config": {
        "plotlyServerURL": "https://plot.ly"
       },
       "data": [
        {
         "line": {
          "color": "rgb(0,107,182)"
         },
         "mode": "lines",
         "name": "NYK",
         "type": "scatter",
         "x": [
          0,
          1,
          2,
          3,
          4,
          5,
          6,
          7,
          8,
          9,
          10,
          11,
          12,
          13,
          14,
          15,
          16,
          17,
          18,
          19,
          20,
          21,
          22,
          23,
          24,
          25,
          26,
          27,
          28,
          29,
          30,
          31,
          32,
          33,
          34,
          35,
          36,
          37,
          38,
          39,
          40,
          41,
          42,
          43,
          44,
          45,
          46,
          47,
          48,
          49,
          50,
          51,
          52,
          53,
          54,
          55,
          56,
          57,
          58,
          59,
          60,
          61,
          62,
          63,
          64,
          65,
          66,
          67,
          68,
          69,
          70,
          71,
          72,
          73,
          74,
          75,
          76,
          77,
          78,
          79,
          80,
          81,
          82
         ],
         "y": [
          1584.711486893246,
          1577.3924450217412,
          1567.0328727564695,
          1556.0129470825818,
          1565.4478248023324,
          1548.9391112150938,
          1557.667426174039,
          1544.8710582410674
         ]
        },
        {
         "line": {
          "color": "rgb(12,35,64)"
         },
         "mode": "lines",
         "name": "MIN",
         "type": "scatter",
         "x": [
          0,
          1,
          2,
          3,
          4,
          5,
          6,
          7,
          8,
          9,
          10,
          11,
          12,
          13,
          14,
          15,
          16,
          17,
          18,
          19,
          20,
          21,
          22,
          23,
          24,
          25,
          26,
          27,
          28,
          29,
          30,
          31,
          32,
          33,
          34,
          35,
          36,
          37,
          38,
          39,
          40,
          41,
          42,
          43,
          44,
          45,
          46,
          47,
          48,
          49,
          50,
          51,
          52,
          53,
          54,
          55,
          56,
          57,
          58,
          59,
          60,
          61,
          62,
          63,
          64,
          65,
          66,
          67,
          68,
          69,
          70,
          71,
          72,
          73,
          74,
          75,
          76,
          77,
          78,
          79,
          80,
          81,
          82
         ],
         "y": [
          1607.4606388711322,
          1596.7761947867077,
          1604.835233202691,
          1608.3770782156566,
          1598.1363097166347,
          1609.3321130835805,
          1594.0294732269074,
          1578.1088571695577,
          1585.6577463190756
         ]
        },
        {
         "line": {
          "color": "rgb(0,45,98)"
         },
         "mode": "lines",
         "name": "IND",
         "type": "scatter",
         "x": [
          0,
          1,
          2,
          3,
          4,
          5,
          6,
          7,
          8,
          9,
          10,
          11,
          12,
          13,
          14,
          15,
          16,
          17,
          18,
          19,
          20,
          21,
          22,
          23,
          24,
          25,
          26,
          27,
          28,
          29,
          30,
          31,
          32,
          33,
          34,
          35,
          36,
          37,
          38,
          39,
          40,
          41,
          42,
          43,
          44,
          45,
          46,
          47,
          48,
          49,
          50,
          51,
          52,
          53,
          54,
          55,
          56,
          57,
          58,
          59,
          60,
          61,
          62,
          63,
          64,
          65,
          66,
          67,
          68,
          69,
          70,
          71,
          72,
          73,
          74,
          75,
          76,
          77,
          78,
          79,
          80,
          81,
          82
         ],
         "y": [
          1561.380655075586,
          1564.894236707712,
          1575.2538089729837,
          1563.4025361748818,
          1551.965175740892,
          1565.8988179995022,
          1555.9650349794993,
          1566.8025999560234,
          1576.2748268289931
         ]
        },
        {
         "line": {
          "color": "rgb(0,0,0)"
         },
         "mode": "lines",
         "name": "BKN",
         "type": "scatter",
         "x": [
          0,
          1,
          2,
          3,
          4,
          5,
          6,
          7,
          8,
          9,
          10,
          11,
          12,
          13,
          14,
          15,
          16,
          17,
          18,
          19,
          20,
          21,
          22,
          23,
          24,
          25,
          26,
          27,
          28,
          29,
          30,
          31,
          32,
          33,
          34,
          35,
          36,
          37,
          38,
          39,
          40,
          41,
          42,
          43,
          44,
          45,
          46,
          47,
          48,
          49,
          50,
          51,
          52,
          53,
          54,
          55,
          56,
          57,
          58,
          59,
          60,
          61,
          62,
          63,
          64,
          65,
          66,
          67,
          68,
          69,
          70,
          71,
          72,
          73,
          74,
          75,
          76,
          77,
          78,
          79,
          80,
          81,
          82
         ],
         "y": [
          1410.8879283939752,
          1402.1655332295607,
          1395.444329864287,
          1409.0832614728583,
          1404.8134373273097,
          1414.2405224144347,
          1426.7471921467818,
          1433.5612599341264,
          1442.1264635239777
         ]
        },
        {
         "line": {
          "color": "rgb(0,125,197)"
         },
         "mode": "lines",
         "name": "ORL",
         "type": "scatter",
         "x": [
          0,
          1,
          2,
          3,
          4,
          5,
          6,
          7,
          8,
          9,
          10,
          11,
          12,
          13,
          14,
          15,
          16,
          17,
          18,
          19,
          20,
          21,
          22,
          23,
          24,
          25,
          26,
          27,
          28,
          29,
          30,
          31,
          32,
          33,
          34,
          35,
          36,
          37,
          38,
          39,
          40,
          41,
          42,
          43,
          44,
          45,
          46,
          47,
          48,
          49,
          50,
          51,
          52,
          53,
          54,
          55,
          56,
          57,
          58,
          59,
          60,
          61,
          62,
          63,
          64,
          65,
          66,
          67,
          68,
          69,
          70,
          71,
          72,
          73,
          74,
          75,
          76,
          77,
          78,
          79,
          80,
          81,
          82
         ],
         "y": [
          1530.2250287664333,
          1520.4502066503037,
          1527.1714100155773,
          1513.1152784696637,
          1524.5526389036536,
          1534.2171373245642,
          1524.7915353808417,
          1536.8456139551993,
          1548.448829600651,
          1538.9766027276812
         ]
        },
        {
         "line": {
          "color": "rgb(0,71,27)"
         },
         "mode": "lines",
         "name": "MIL",
         "type": "scatter",
         "x": [
          0,
          1,
          2,
          3,
          4,
          5,
          6,
          7,
          8,
          9,
          10,
          11,
          12,
          13,
          14,
          15,
          16,
          17,
          18,
          19,
          20,
          21,
          22,
          23,
          24,
          25,
          26,
          27,
          28,
          29,
          30,
          31,
          32,
          33,
          34,
          35,
          36,
          37,
          38,
          39,
          40,
          41,
          42,
          43,
          44,
          45,
          46,
          47,
          48,
          49,
          50,
          51,
          52,
          53,
          54,
          55,
          56,
          57,
          58,
          59,
          60,
          61,
          62,
          63,
          64,
          65,
          66,
          67,
          68,
          69,
          70,
          71,
          72,
          73,
          74,
          75,
          76,
          77,
          78,
          79,
          80,
          81,
          82
         ],
         "y": [
          1529.4440603311696,
          1539.6215971667361,
          1527.9444445455188,
          1514.3055129369475,
          1508.996280186798,
          1515.3314883559078,
          1506.7125012799806,
          1498.5764948822882,
          1506.465048397269
         ]
        },
        {
         "line": {
          "color": "rgb(134,0,56)"
         },
         "mode": "lines",
         "name": "CLE",
         "type": "scatter",
         "x": [
          0,
          1,
          2,
          3,
          4,
          5,
          6,
          7,
          8,
          9,
          10,
          11,
          12,
          13,
          14,
          15,
          16,
          17,
          18,
          19,
          20,
          21,
          22,
          23,
          24,
          25,
          26,
          27,
          28,
          29,
          30,
          31,
          32,
          33,
          34,
          35,
          36,
          37,
          38,
          39,
          40,
          41,
          42,
          43,
          44,
          45,
          46,
          47,
          48,
          49,
          50,
          51,
          52,
          53,
          54,
          55,
          56,
          57,
          58,
          59,
          60,
          61,
          62,
          63,
          64,
          65,
          66,
          67,
          68,
          69,
          70,
          71,
          72,
          73,
          74,
          75,
          76,
          77,
          78,
          79,
          80,
          81,
          82
         ],
         "y": [
          1518.3531097781024,
          1523.3579272013098,
          1527.4843325151976,
          1531.4733791179897,
          1542.4933047918773,
          1554.1957612229553,
          1563.6213631666778,
          1572.240350242605,
          1580.3763566402974,
          1589.4815604926278
         ]
        },
        {
         "line": {
          "color": "rgb(0,120,140)"
         },
         "mode": "lines",
         "name": "CHA",
         "type": "scatter",
         "x": [
          0,
          1,
          2,
          3,
          4,
          5,
          6,
          7,
          8,
          9,
          10,
          11,
          12,
          13,
          14,
          15,
          16,
          17,
          18,
          19,
          20,
          21,
          22,
          23,
          24,
          25,
          26,
          27,
          28,
          29,
          30,
          31,
          32,
          33,
          34,
          35,
          36,
          37,
          38,
          39,
          40,
          41,
          42,
          43,
          44,
          45,
          46,
          47,
          48,
          49,
          50,
          51,
          52,
          53,
          54,
          55,
          56,
          57,
          58,
          59,
          60,
          61,
          62,
          63,
          64,
          65,
          66,
          67,
          68,
          69,
          70,
          71,
          72,
          73,
          74,
          75,
          76,
          77,
          78,
          79,
          80,
          81,
          82
         ],
         "y": [
          1351.4538797028154,
          1365.8038737636437,
          1358.5637156167975,
          1353.5293670796364,
          1362.8928769139754,
          1360.1512052290036,
          1357.4833584599032,
          1373.403974517253,
          1381.9369115540599
         ]
        },
        {
         "line": {
          "color": "rgb(206,17,65)"
         },
         "mode": "lines",
         "name": "CHI",
         "type": "scatter",
         "x": [
          0,
          1,
          2,
          3,
          4,
          5,
          6,
          7,
          8,
          9,
          10,
          11,
          12,
          13,
          14,
          15,
          16,
          17,
          18,
          19,
          20,
          21,
          22,
          23,
          24,
          25,
          26,
          27,
          28,
          29,
          30,
          31,
          32,
          33,
          34,
          35,
          36,
          37,
          38,
          39,
          40,
          41,
          42,
          43,
          44,
          45,
          46,
          47,
          48,
          49,
          50,
          51,
          52,
          53,
          54,
          55,
          56,
          57,
          58,
          59,
          60,
          61,
          62,
          63,
          64,
          65,
          66,
          67,
          68,
          69,
          70,
          71,
          72,
          73,
          74,
          75,
          76,
          77,
          78,
          79,
          80,
          81,
          82
         ],
         "y": [
          1488.3936215539197,
          1480.7955868761087,
          1492.472739497326,
          1506.0693647235398,
          1512.8917436133113,
          1503.2272451924007,
          1490.7205754600536,
          1478.4891312424006,
          1491.178836564524,
          1483.6299474150062
         ]
        },
        {
         "line": {
          "color": "rgb(93,118,169)"
         },
         "mode": "lines",
         "name": "MEM",
         "type": "scatter",
         "x": [
          0,
          1,
          2,
          3,
          4,
          5,
          6,
          7,
          8,
          9,
          10,
          11,
          12,
          13,
          14,
          15,
          16,
          17,
          18,
          19,
          20,
          21,
          22,
          23,
          24,
          25,
          26,
          27,
          28,
          29,
          30,
          31,
          32,
          33,
          34,
          35,
          36,
          37,
          38,
          39,
          40,
          41,
          42,
          43,
          44,
          45,
          46,
          47,
          48,
          49,
          50,
          51,
          52,
          53,
          54,
          55,
          56,
          57,
          58,
          59,
          60,
          61,
          62,
          63,
          64,
          65,
          66,
          67,
          68,
          69,
          70,
          71,
          72,
          73,
          74,
          75,
          76,
          77,
          78,
          79,
          80,
          81,
          82
         ],
         "y": [
          1373.904676840865,
          1384.4701092700836,
          1377.6527605871815,
          1391.708892133095,
          1384.8865132433236,
          1375.4594281561986,
          1369.1242199870887,
          1383.3649614124593,
          1374.799757822608,
          1390.0454798347184
         ]
        },
        {
         "line": {
          "color": "rgb(29,17,96)"
         },
         "mode": "lines",
         "name": "PHX",
         "type": "scatter",
         "x": [
          0,
          1,
          2,
          3,
          4,
          5,
          6,
          7,
          8,
          9,
          10,
          11,
          12,
          13,
          14,
          15,
          16,
          17,
          18,
          19,
          20,
          21,
          22,
          23,
          24,
          25,
          26,
          27,
          28,
          29,
          30,
          31,
          32,
          33,
          34,
          35,
          36,
          37,
          38,
          39,
          40,
          41,
          42,
          43,
          44,
          45,
          46,
          47,
          48,
          49,
          50,
          51,
          52,
          53,
          54,
          55,
          56,
          57,
          58,
          59,
          60,
          61,
          62,
          63,
          64,
          65,
          66,
          67,
          68,
          69,
          70,
          71,
          72,
          73,
          74,
          75,
          76,
          77,
          78,
          79,
          80,
          81,
          82
         ],
         "y": [
          1599.277015985001,
          1608.239595231276,
          1597.8393960543,
          1608.0557887089556,
          1618.1793173024016,
          1626.546408074239,
          1610.1560251417966,
          1617.4076943038897,
          1624.1637191652485
         ]
        },
        {
         "line": {
          "color": "rgb(255,199,44)"
         },
         "mode": "lines",
         "name": "GSW",
         "type": "scatter",
         "x": [
          0,
          1,
          2,
          3,
          4,
          5,
          6,
          7,
          8,
          9,
          10,
          11,
          12,
          13,
          14,
          15,
          16,
          17,
          18,
          19,
          20,
          21,
          22,
          23,
          24,
          25,
          26,
          27,
          28,
          29,
          30,
          31,
          32,
          33,
          34,
          35,
          36,
          37,
          38,
          39,
          40,
          41,
          42,
          43,
          44,
          45,
          46,
          47,
          48,
          49,
          50,
          51,
          52,
          53,
          54,
          55,
          56,
          57,
          58,
          59,
          60,
          61,
          62,
          63,
          64,
          65,
          66,
          67,
          68,
          69,
          70,
          71,
          72,
          73,
          74,
          75,
          76,
          77,
          78,
          79,
          80,
          81,
          82
         ],
         "y": [
          1575.2347278917505,
          1579.130881753346,
          1564.0178352206083,
          1554.095064335104,
          1564.5072724821575,
          1554.320361225384,
          1563.146339993762,
          1567.2253669637262,
          1580.1475158079609
         ]
        },
        {
         "line": {
          "color": "rgb(0,122,51)"
         },
         "mode": "lines",
         "name": "BOS",
         "type": "scatter",
         "x": [
          0,
          1,
          2,
          3,
          4,
          5,
          6,
          7,
          8,
          9,
          10,
          11,
          12,
          13,
          14,
          15,
          16,
          17,
          18,
          19,
          20,
          21,
          22,
          23,
          24,
          25,
          26,
          27,
          28,
          29,
          30,
          31,
          32,
          33,
          34,
          35,
          36,
          37,
          38,
          39,
          40,
          41,
          42,
          43,
          44,
          45,
          46,
          47,
          48,
          49,
          50,
          51,
          52,
          53,
          54,
          55,
          56,
          57,
          58,
          59,
          60,
          61,
          62,
          63,
          64,
          65,
          66,
          67,
          68,
          69,
          70,
          71,
          72,
          73,
          74,
          75,
          76,
          77,
          78,
          79,
          80,
          81,
          82
         ],
         "y": [
          1680.1906216232785,
          1687.5096634947834,
          1689.331437583457,
          1691.11059831677,
          1696.4198310669194,
          1682.4861888083092,
          1685.227860493281,
          1687.8957072623814,
          1671.7986924846837,
          1658.876543640449
         ]
        },
        {
         "line": {
          "color": "rgb(196,206,211)"
         },
         "mode": "lines",
         "name": "SAS",
         "type": "scatter",
         "x": [
          0,
          1,
          2,
          3,
          4,
          5,
          6,
          7,
          8,
          9,
          10,
          11,
          12,
          13,
          14,
          15,
          16,
          17,
          18,
          19,
          20,
          21,
          22,
          23,
          24,
          25,
          26,
          27,
          28,
          29,
          30,
          31,
          32,
          33,
          34,
          35,
          36,
          37,
          38,
          39,
          40,
          41,
          42,
          43,
          44,
          45,
          46,
          47,
          48,
          49,
          50,
          51,
          52,
          53,
          54,
          55,
          56,
          57,
          58,
          59,
          60,
          61,
          62,
          63,
          64,
          65,
          66,
          67,
          68,
          69,
          70,
          71,
          72,
          73,
          74,
          75,
          76,
          77,
          78,
          79,
          80,
          81,
          82
         ],
         "y": [
          1398.0469631180226,
          1393.295501484523,
          1406.4261158495135,
          1398.8597860598702,
          1414.4037404314793,
          1404.1671135404852,
          1419.4697533971582,
          1413.4064715741251,
          1405.7341268744578,
          1415.4234212639788
         ]
        },
        {
         "line": {
          "color": "rgb(0,125,195)"
         },
         "mode": "lines",
         "name": "OKC",
         "type": "scatter",
         "x": [
          0,
          1,
          2,
          3,
          4,
          5,
          6,
          7,
          8,
          9,
          10,
          11,
          12,
          13,
          14,
          15,
          16,
          17,
          18,
          19,
          20,
          21,
          22,
          23,
          24,
          25,
          26,
          27,
          28,
          29,
          30,
          31,
          32,
          33,
          34,
          35,
          36,
          37,
          38,
          39,
          40,
          41,
          42,
          43,
          44,
          45,
          46,
          47,
          48,
          49,
          50,
          51,
          52,
          53,
          54,
          55,
          56,
          57,
          58,
          59,
          60,
          61,
          62,
          63,
          64,
          65,
          66,
          67,
          68,
          69,
          70,
          71,
          72,
          73,
          74,
          75,
          76,
          77,
          78,
          79,
          80,
          81,
          82
         ],
         "y": [
          1633.225296251623,
          1623.2816219689694,
          1609.6849967427556,
          1615.9045394721852,
          1600.3605851005761,
          1604.5159351333127,
          1593.0317594962617,
          1581.42854385081,
          1572.993668153278
         ]
        },
        {
         "line": {
          "color": "rgb(0,107,182)"
         },
         "mode": "lines",
         "name": "PHI",
         "type": "scatter",
         "x": [
          0,
          1,
          2,
          3,
          4,
          5,
          6,
          7,
          8,
          9,
          10,
          11,
          12,
          13,
          14,
          15,
          16,
          17,
          18,
          19,
          20,
          21,
          22,
          23,
          24,
          25,
          26,
          27,
          28,
          29,
          30,
          31,
          32,
          33,
          34,
          35,
          36,
          37,
          38,
          39,
          40,
          41,
          42,
          43,
          44,
          45,
          46,
          47,
          48,
          49,
          50,
          51,
          52,
          53,
          54,
          55,
          56,
          57,
          58,
          59,
          60,
          61,
          62,
          63,
          64,
          65,
          66,
          67,
          68,
          69,
          70,
          71,
          72,
          73,
          74,
          75,
          76,
          77,
          78,
          79,
          80,
          81,
          82
         ],
         "y": [
          1535.612969960298,
          1525.4354331247314,
          1510.183722561852,
          1522.0349953599539,
          1526.3906292991267,
          1512.1498878737561,
          1504.898218711663,
          1516.7535448171973
         ]
        },
        {
         "line": {
          "color": "rgb(200,16,46)"
         },
         "mode": "lines",
         "name": "DET",
         "type": "scatter",
         "x": [
          0,
          1,
          2,
          3,
          4,
          5,
          6,
          7,
          8,
          9,
          10,
          11,
          12,
          13,
          14,
          15,
          16,
          17,
          18,
          19,
          20,
          21,
          22,
          23,
          24,
          25,
          26,
          27,
          28,
          29,
          30,
          31,
          32,
          33,
          34,
          35,
          36,
          37,
          38,
          39,
          40,
          41,
          42,
          43,
          44,
          45,
          46,
          47,
          48,
          49,
          50,
          51,
          52,
          53,
          54,
          55,
          56,
          57,
          58,
          59,
          60,
          61,
          62,
          63,
          64,
          65,
          66,
          67,
          68,
          69,
          70,
          71,
          72,
          73,
          74,
          75,
          76,
          77,
          78,
          79,
          80,
          81,
          82
         ],
         "y": [
          1292.8301476993272,
          1289.3165660672012,
          1285.1901607533134,
          1283.4110000200005,
          1299.9123568677132,
          1295.5567229285405,
          1312.065436515779,
          1305.2513687284345,
          1322.06251208582,
          1313.5295750490131
         ]
        },
        {
         "line": {
          "color": "rgb(0,22,65)"
         },
         "mode": "lines",
         "name": "NOP",
         "type": "scatter",
         "x": [
          0,
          1,
          2,
          3,
          4,
          5,
          6,
          7,
          8,
          9,
          10,
          11,
          12,
          13,
          14,
          15,
          16,
          17,
          18,
          19,
          20,
          21,
          22,
          23,
          24,
          25,
          26,
          27,
          28,
          29,
          30,
          31,
          32,
          33,
          34,
          35,
          36,
          37,
          38,
          39,
          40,
          41,
          42,
          43,
          44,
          45,
          46,
          47,
          48,
          49,
          50,
          51,
          52,
          53,
          54,
          55,
          56,
          57,
          58,
          59,
          60,
          61,
          62,
          63,
          64,
          65,
          66,
          67,
          68,
          69,
          70,
          71,
          72,
          73,
          74,
          75,
          76,
          77,
          78,
          79,
          80,
          81,
          82
         ],
         "y": [
          1573.5093180711874,
          1581.1073527489984,
          1584.8301146180193,
          1568.4247620372646,
          1558.0125538902112,
          1568.1994651469847,
          1578.1332481669876,
          1564.054611610565,
          1549.2045825931634,
          1540.0993787408331
         ]
        },
        {
         "line": {
          "color": "rgb(200,16,46)"
         },
         "mode": "lines",
         "name": "LAC",
         "type": "scatter",
         "x": [
          0,
          1,
          2,
          3,
          4,
          5,
          6,
          7,
          8,
          9,
          10,
          11,
          12,
          13,
          14,
          15,
          16,
          17,
          18,
          19,
          20,
          21,
          22,
          23,
          24,
          25,
          26,
          27,
          28,
          29,
          30,
          31,
          32,
          33,
          34,
          35,
          36,
          37,
          38,
          39,
          40,
          41,
          42,
          43,
          44,
          45,
          46,
          47,
          48,
          49,
          50,
          51,
          52,
          53,
          54,
          55,
          56,
          57,
          58,
          59,
          60,
          61,
          62,
          63,
          64,
          65,
          66,
          67,
          68,
          69,
          70,
          71,
          72,
          73,
          74,
          75,
          76,
          77,
          78,
          79,
          80,
          81,
          82
         ],
         "y": [
          1563.103180075523,
          1554.140600829248,
          1566.701102829251,
          1576.6238737147553,
          1560.9337737955768,
          1552.5666830237394,
          1564.0508586607905,
          1570.1141404838236,
          1558.2588143782893
         ]
        },
        {
         "line": {
          "color": "rgb(152,0,46)"
         },
         "mode": "lines",
         "name": "MIA",
         "type": "scatter",
         "x": [
          0,
          1,
          2,
          3,
          4,
          5,
          6,
          7,
          8,
          9,
          10,
          11,
          12,
          13,
          14,
          15,
          16,
          17,
          18,
          19,
          20,
          21,
          22,
          23,
          24,
          25,
          26,
          27,
          28,
          29,
          30,
          31,
          32,
          33,
          34,
          35,
          36,
          37,
          38,
          39,
          40,
          41,
          42,
          43,
          44,
          45,
          46,
          47,
          48,
          49,
          50,
          51,
          52,
          53,
          54,
          55,
          56,
          57,
          58,
          59,
          60,
          61,
          62,
          63,
          64,
          65,
          66,
          67,
          68,
          69,
          70,
          71,
          72,
          73,
          74,
          75,
          76,
          77,
          78,
          79,
          80,
          81,
          82
         ],
         "y": [
          1538.0498324625414,
          1547.824654578671,
          1552.8590031158321,
          1536.3576462681194,
          1526.9227685483688,
          1511.4024385694113,
          1500.4768471929194,
          1493.7208223315606
         ]
        },
        {
         "line": {
          "color": "rgb(206,17,65)"
         },
         "mode": "lines",
         "name": "TOR",
         "type": "scatter",
         "x": [
          0,
          1,
          2,
          3,
          4,
          5,
          6,
          7,
          8,
          9,
          10,
          11,
          12,
          13,
          14,
          15,
          16,
          17,
          18,
          19,
          20,
          21,
          22,
          23,
          24,
          25,
          26,
          27,
          28,
          29,
          30,
          31,
          32,
          33,
          34,
          35,
          36,
          37,
          38,
          39,
          40,
          41,
          42,
          43,
          44,
          45,
          46,
          47,
          48,
          49,
          50,
          51,
          52,
          53,
          54,
          55,
          56,
          57,
          58,
          59,
          60,
          61,
          62,
          63,
          64,
          65,
          66,
          67,
          68,
          69,
          70,
          71,
          72,
          73,
          74,
          75,
          76,
          77,
          78,
          79,
          80,
          81,
          82
         ],
         "y": [
          1327.7277021719724,
          1322.722884748765,
          1337.9745953116444,
          1334.4327502986787,
          1331.3854983069373,
          1322.0219884725982,
          1318.5075622804738,
          1333.164499144391,
          1330.1460028014878,
          1324.4494486505707
         ]
        },
        {
         "line": {
          "color": "rgb(206,17,65)"
         },
         "mode": "lines",
         "name": "HOU",
         "type": "scatter",
         "x": [
          0,
          1,
          2,
          3,
          4,
          5,
          6,
          7,
          8,
          9,
          10,
          11,
          12,
          13,
          14,
          15,
          16,
          17,
          18,
          19,
          20,
          21,
          22,
          23,
          24,
          25,
          26,
          27,
          28,
          29,
          30,
          31,
          32,
          33,
          34,
          35,
          36,
          37,
          38,
          39,
          40,
          41,
          42,
          43,
          44,
          45,
          46,
          47,
          48,
          49,
          50,
          51,
          52,
          53,
          54,
          55,
          56,
          57,
          58,
          59,
          60,
          61,
          62,
          63,
          64,
          65,
          66,
          67,
          68,
          69,
          70,
          71,
          72,
          73,
          74,
          75,
          76,
          77,
          78,
          79,
          80,
          81,
          82
         ],
         "y": [
          1513.375006496063,
          1499.0250124352347,
          1505.8423611181368,
          1492.7117467531461,
          1500.2780765427894,
          1513.341715688795,
          1504.5157369204169,
          1495.7874219614716,
          1503.459766661139
         ]
        },
        {
         "line": {
          "color": "rgb(0,83,188)"
         },
         "mode": "lines",
         "name": "DAL",
         "type": "scatter",
         "x": [
          0,
          1,
          2,
          3,
          4,
          5,
          6,
          7,
          8,
          9,
          10,
          11,
          12,
          13,
          14,
          15,
          16,
          17,
          18,
          19,
          20,
          21,
          22,
          23,
          24,
          25,
          26,
          27,
          28,
          29,
          30,
          31,
          32,
          33,
          34,
          35,
          36,
          37,
          38,
          39,
          40,
          41,
          42,
          43,
          44,
          45,
          46,
          47,
          48,
          49,
          50,
          51,
          52,
          53,
          54,
          55,
          56,
          57,
          58,
          59,
          60,
          61,
          62,
          63,
          64,
          65,
          66,
          67,
          68,
          69,
          70,
          71,
          72,
          73,
          74,
          75,
          76,
          77,
          78,
          79,
          80,
          81,
          82
         ],
         "y": [
          1600.6073591111385,
          1605.3588207446383,
          1595.1424280899828,
          1600.0103067979976,
          1610.2510752970195,
          1597.187436151014,
          1585.1333575766564,
          1574.2957926001322,
          1561.6060872780088
         ]
        },
        {
         "line": {
          "color": "rgb(91,43,130)"
         },
         "mode": "lines",
         "name": "SAC",
         "type": "scatter",
         "x": [
          0,
          1,
          2,
          3,
          4,
          5,
          6,
          7,
          8,
          9,
          10,
          11,
          12,
          13,
          14,
          15,
          16,
          17,
          18,
          19,
          20,
          21,
          22,
          23,
          24,
          25,
          26,
          27,
          28,
          29,
          30,
          31,
          32,
          33,
          34,
          35,
          36,
          37,
          38,
          39,
          40,
          41,
          42,
          43,
          44,
          45,
          46,
          47,
          48,
          49,
          50,
          51,
          52,
          53,
          54,
          55,
          56,
          57,
          58,
          59,
          60,
          61,
          62,
          63,
          64,
          65,
          66,
          67,
          68,
          69,
          70,
          71,
          72,
          73,
          74,
          75,
          76,
          77,
          78,
          79,
          80,
          81,
          82
         ],
         "y": [
          1528.4737647189793,
          1520.414726302996,
          1512.7949170460504,
          1498.1382057403148,
          1485.2077837631919,
          1493.8087267030944,
          1479.1517898391774,
          1490.0773812156692,
          1495.7739353665863
         ]
        },
        {
         "line": {
          "color": "rgb(200,16,46)"
         },
         "mode": "lines",
         "name": "ATL",
         "type": "scatter",
         "x": [
          0,
          1,
          2,
          3,
          4,
          5,
          6,
          7,
          8,
          9,
          10,
          11,
          12,
          13,
          14,
          15,
          16,
          17,
          18,
          19,
          20,
          21,
          22,
          23,
          24,
          25,
          26,
          27,
          28,
          29,
          30,
          31,
          32,
          33,
          34,
          35,
          36,
          37,
          38,
          39,
          40,
          41,
          42,
          43,
          44,
          45,
          46,
          47,
          48,
          49,
          50,
          51,
          52,
          53,
          54,
          55,
          56,
          57,
          58,
          59,
          60,
          61,
          62,
          63,
          64,
          65,
          66,
          67,
          68,
          69,
          70,
          71,
          72,
          73,
          74,
          75,
          76,
          77,
          78,
          79,
          80,
          81,
          82
         ],
         "y": [
          1455.520374249935,
          1464.2427694143496,
          1471.4829275611958,
          1465.2633848317662,
          1450.4305807612648,
          1436.2786393183344,
          1427.6776963784318,
          1441.7563329348545,
          1457.8533477125522,
          1470.6497156455239
         ]
        },
        {
         "line": {
          "color": "rgb(0,43,92)"
         },
         "mode": "lines",
         "name": "WAS",
         "type": "scatter",
         "x": [
          0,
          1,
          2,
          3,
          4,
          5,
          6,
          7,
          8,
          9,
          10,
          11,
          12,
          13,
          14,
          15,
          16,
          17,
          18,
          19,
          20,
          21,
          22,
          23,
          24,
          25,
          26,
          27,
          28,
          29,
          30,
          31,
          32,
          33,
          34,
          35,
          36,
          37,
          38,
          39,
          40,
          41,
          42,
          43,
          44,
          45,
          46,
          47,
          48,
          49,
          50,
          51,
          52,
          53,
          54,
          55,
          56,
          57,
          58,
          59,
          60,
          61,
          62,
          63,
          64,
          65,
          66,
          67,
          68,
          69,
          70,
          71,
          72,
          73,
          74,
          75,
          76,
          77,
          78,
          79,
          80,
          81,
          82
         ],
         "y": [
          1287.8868732578583,
          1286.0650991691846,
          1282.0760525663925,
          1296.908856636894,
          1311.0607980798243,
          1326.5811280587818,
          1322.5021010888177
         ]
        },
        {
         "line": {
          "color": "rgb(13,34,64)"
         },
         "mode": "lines",
         "name": "DEN",
         "type": "scatter",
         "x": [
          0,
          1,
          2,
          3,
          4,
          5,
          6,
          7,
          8,
          9,
          10,
          11,
          12,
          13,
          14,
          15,
          16,
          17,
          18,
          19,
          20,
          21,
          22,
          23,
          24,
          25,
          26,
          27,
          28,
          29,
          30,
          31,
          32,
          33,
          34,
          35,
          36,
          37,
          38,
          39,
          40,
          41,
          42,
          43,
          44,
          45,
          46,
          47,
          48,
          49,
          50,
          51,
          52,
          53,
          54,
          55,
          56,
          57,
          58,
          59,
          60,
          61,
          62,
          63,
          64,
          65,
          66,
          67,
          68,
          69,
          70,
          71,
          72,
          73,
          74,
          75,
          76,
          77,
          78,
          79,
          80,
          81,
          82
         ],
         "y": [
          1635.1822728060101,
          1645.1259470886637,
          1632.5654450886605,
          1635.6126970804019,
          1639.8825212259505,
          1628.6867178590048,
          1633.238694730038,
          1636.2571910729412,
          1644.6920667704733
         ]
        },
        {
         "line": {
          "color": "rgb(0,43,92)"
         },
         "mode": "lines",
         "name": "UTA",
         "type": "scatter",
         "x": [
          0,
          1,
          2,
          3,
          4,
          5,
          6,
          7,
          8,
          9,
          10,
          11,
          12,
          13,
          14,
          15,
          16,
          17,
          18,
          19,
          20,
          21,
          22,
          23,
          24,
          25,
          26,
          27,
          28,
          29,
          30,
          31,
          32,
          33,
          34,
          35,
          36,
          37,
          38,
          39,
          40,
          41,
          42,
          43,
          44,
          45,
          46,
          47,
          48,
          49,
          50,
          51,
          52,
          53,
          54,
          55,
          56,
          57,
          58,
          59,
          60,
          61,
          62,
          63,
          64,
          65,
          66,
          67,
          68,
          69,
          70,
          71,
          72,
          73,
          74,
          75,
          76,
          77,
          78,
          79,
          80,
          81,
          82
         ],
         "y": [
          1393.5707878770177,
          1383.005355447799,
          1398.1184019805369,
          1393.250523272522,
          1406.180945249645,
          1416.417572140639,
          1411.8655952696058,
          1424.0970394872588,
          1416.2084859722781
         ]
        },
        {
         "line": {
          "color": "rgb(224,58,62)"
         },
         "mode": "lines",
         "name": "POR",
         "type": "scatter",
         "x": [
          0,
          1,
          2,
          3,
          4,
          5,
          6,
          7,
          8,
          9,
          10,
          11,
          12,
          13,
          14,
          15,
          16,
          17,
          18,
          19,
          20,
          21,
          22,
          23,
          24,
          25,
          26,
          27,
          28,
          29,
          30,
          31,
          32,
          33,
          34,
          35,
          36,
          37,
          38,
          39,
          40,
          41,
          42,
          43,
          44,
          45,
          46,
          47,
          48,
          49,
          50,
          51,
          52,
          53,
          54,
          55,
          56,
          57,
          58,
          59,
          60,
          61,
          62,
          63,
          64,
          65,
          66,
          67,
          68,
          69,
          70,
          71,
          72,
          73,
          74,
          75,
          76,
          77,
          78,
          79,
          80,
          81,
          82
         ],
         "y": [
          1328.7173225344523,
          1324.8211686728566,
          1321.0984068038358,
          1337.5037593845905,
          1352.160470690326,
          1367.8505706095045,
          1363.695220576768,
          1380.0856035092104,
          1394.935632526612,
          1385.246338137091
         ]
        },
        {
         "line": {
          "color": "rgb(85,37,130)"
         },
         "mode": "lines",
         "name": "LAL",
         "type": "scatter",
         "x": [
          0,
          1,
          2,
          3,
          4,
          5,
          6,
          7,
          8,
          9,
          10,
          11,
          12,
          13,
          14,
          15,
          16,
          17,
          18,
          19,
          20,
          21,
          22,
          23,
          24,
          25,
          26,
          27,
          28,
          29,
          30,
          31,
          32,
          33,
          34,
          35,
          36,
          37,
          38,
          39,
          40,
          41,
          42,
          43,
          44,
          45,
          46,
          47,
          48,
          49,
          50,
          51,
          52,
          53,
          54,
          55,
          56,
          57,
          58,
          59,
          60,
          61,
          62,
          63,
          64,
          65,
          66,
          67,
          68,
          69,
          70,
          71,
          72,
          73,
          74,
          75,
          76,
          77,
          78,
          79,
          80,
          81,
          82
         ],
         "y": [
          1583.6433774307768,
          1594.3278215152013,
          1604.7280206921773,
          1612.347829949123,
          1602.2243013556767,
          1590.5218449245988,
          1594.0362711167231,
          1577.2251277593377,
          1561.9794057472272
         ]
        }
       ],
       "layout": {
        "autosize": false,
        "height": 1200,
        "plot_bgcolor": "white",
        "template": {
         "data": {
          "bar": [
           {
            "error_x": {
             "color": "#2a3f5f"
            },
            "error_y": {
             "color": "#2a3f5f"
            },
            "marker": {
             "line": {
              "color": "#E5ECF6",
              "width": 0.5
             },
             "pattern": {
              "fillmode": "overlay",
              "size": 10,
              "solidity": 0.2
             }
            },
            "type": "bar"
           }
          ],
          "barpolar": [
           {
            "marker": {
             "line": {
              "color": "#E5ECF6",
              "width": 0.5
             },
             "pattern": {
              "fillmode": "overlay",
              "size": 10,
              "solidity": 0.2
             }
            },
            "type": "barpolar"
           }
          ],
          "carpet": [
           {
            "aaxis": {
             "endlinecolor": "#2a3f5f",
             "gridcolor": "white",
             "linecolor": "white",
             "minorgridcolor": "white",
             "startlinecolor": "#2a3f5f"
            },
            "baxis": {
             "endlinecolor": "#2a3f5f",
             "gridcolor": "white",
             "linecolor": "white",
             "minorgridcolor": "white",
             "startlinecolor": "#2a3f5f"
            },
            "type": "carpet"
           }
          ],
          "choropleth": [
           {
            "colorbar": {
             "outlinewidth": 0,
             "ticks": ""
            },
            "type": "choropleth"
           }
          ],
          "contour": [
           {
            "colorbar": {
             "outlinewidth": 0,
             "ticks": ""
            },
            "colorscale": [
             [
              0,
              "#0d0887"
             ],
             [
              0.1111111111111111,
              "#46039f"
             ],
             [
              0.2222222222222222,
              "#7201a8"
             ],
             [
              0.3333333333333333,
              "#9c179e"
             ],
             [
              0.4444444444444444,
              "#bd3786"
             ],
             [
              0.5555555555555556,
              "#d8576b"
             ],
             [
              0.6666666666666666,
              "#ed7953"
             ],
             [
              0.7777777777777778,
              "#fb9f3a"
             ],
             [
              0.8888888888888888,
              "#fdca26"
             ],
             [
              1,
              "#f0f921"
             ]
            ],
            "type": "contour"
           }
          ],
          "contourcarpet": [
           {
            "colorbar": {
             "outlinewidth": 0,
             "ticks": ""
            },
            "type": "contourcarpet"
           }
          ],
          "heatmap": [
           {
            "colorbar": {
             "outlinewidth": 0,
             "ticks": ""
            },
            "colorscale": [
             [
              0,
              "#0d0887"
             ],
             [
              0.1111111111111111,
              "#46039f"
             ],
             [
              0.2222222222222222,
              "#7201a8"
             ],
             [
              0.3333333333333333,
              "#9c179e"
             ],
             [
              0.4444444444444444,
              "#bd3786"
             ],
             [
              0.5555555555555556,
              "#d8576b"
             ],
             [
              0.6666666666666666,
              "#ed7953"
             ],
             [
              0.7777777777777778,
              "#fb9f3a"
             ],
             [
              0.8888888888888888,
              "#fdca26"
             ],
             [
              1,
              "#f0f921"
             ]
            ],
            "type": "heatmap"
           }
          ],
          "heatmapgl": [
           {
            "colorbar": {
             "outlinewidth": 0,
             "ticks": ""
            },
            "colorscale": [
             [
              0,
              "#0d0887"
             ],
             [
              0.1111111111111111,
              "#46039f"
             ],
             [
              0.2222222222222222,
              "#7201a8"
             ],
             [
              0.3333333333333333,
              "#9c179e"
             ],
             [
              0.4444444444444444,
              "#bd3786"
             ],
             [
              0.5555555555555556,
              "#d8576b"
             ],
             [
              0.6666666666666666,
              "#ed7953"
             ],
             [
              0.7777777777777778,
              "#fb9f3a"
             ],
             [
              0.8888888888888888,
              "#fdca26"
             ],
             [
              1,
              "#f0f921"
             ]
            ],
            "type": "heatmapgl"
           }
          ],
          "histogram": [
           {
            "marker": {
             "pattern": {
              "fillmode": "overlay",
              "size": 10,
              "solidity": 0.2
             }
            },
            "type": "histogram"
           }
          ],
          "histogram2d": [
           {
            "colorbar": {
             "outlinewidth": 0,
             "ticks": ""
            },
            "colorscale": [
             [
              0,
              "#0d0887"
             ],
             [
              0.1111111111111111,
              "#46039f"
             ],
             [
              0.2222222222222222,
              "#7201a8"
             ],
             [
              0.3333333333333333,
              "#9c179e"
             ],
             [
              0.4444444444444444,
              "#bd3786"
             ],
             [
              0.5555555555555556,
              "#d8576b"
             ],
             [
              0.6666666666666666,
              "#ed7953"
             ],
             [
              0.7777777777777778,
              "#fb9f3a"
             ],
             [
              0.8888888888888888,
              "#fdca26"
             ],
             [
              1,
              "#f0f921"
             ]
            ],
            "type": "histogram2d"
           }
          ],
          "histogram2dcontour": [
           {
            "colorbar": {
             "outlinewidth": 0,
             "ticks": ""
            },
            "colorscale": [
             [
              0,
              "#0d0887"
             ],
             [
              0.1111111111111111,
              "#46039f"
             ],
             [
              0.2222222222222222,
              "#7201a8"
             ],
             [
              0.3333333333333333,
              "#9c179e"
             ],
             [
              0.4444444444444444,
              "#bd3786"
             ],
             [
              0.5555555555555556,
              "#d8576b"
             ],
             [
              0.6666666666666666,
              "#ed7953"
             ],
             [
              0.7777777777777778,
              "#fb9f3a"
             ],
             [
              0.8888888888888888,
              "#fdca26"
             ],
             [
              1,
              "#f0f921"
             ]
            ],
            "type": "histogram2dcontour"
           }
          ],
          "mesh3d": [
           {
            "colorbar": {
             "outlinewidth": 0,
             "ticks": ""
            },
            "type": "mesh3d"
           }
          ],
          "parcoords": [
           {
            "line": {
             "colorbar": {
              "outlinewidth": 0,
              "ticks": ""
             }
            },
            "type": "parcoords"
           }
          ],
          "pie": [
           {
            "automargin": true,
            "type": "pie"
           }
          ],
          "scatter": [
           {
            "fillpattern": {
             "fillmode": "overlay",
             "size": 10,
             "solidity": 0.2
            },
            "type": "scatter"
           }
          ],
          "scatter3d": [
           {
            "line": {
             "colorbar": {
              "outlinewidth": 0,
              "ticks": ""
             }
            },
            "marker": {
             "colorbar": {
              "outlinewidth": 0,
              "ticks": ""
             }
            },
            "type": "scatter3d"
           }
          ],
          "scattercarpet": [
           {
            "marker": {
             "colorbar": {
              "outlinewidth": 0,
              "ticks": ""
             }
            },
            "type": "scattercarpet"
           }
          ],
          "scattergeo": [
           {
            "marker": {
             "colorbar": {
              "outlinewidth": 0,
              "ticks": ""
             }
            },
            "type": "scattergeo"
           }
          ],
          "scattergl": [
           {
            "marker": {
             "colorbar": {
              "outlinewidth": 0,
              "ticks": ""
             }
            },
            "type": "scattergl"
           }
          ],
          "scattermapbox": [
           {
            "marker": {
             "colorbar": {
              "outlinewidth": 0,
              "ticks": ""
             }
            },
            "type": "scattermapbox"
           }
          ],
          "scatterpolar": [
           {
            "marker": {
             "colorbar": {
              "outlinewidth": 0,
              "ticks": ""
             }
            },
            "type": "scatterpolar"
           }
          ],
          "scatterpolargl": [
           {
            "marker": {
             "colorbar": {
              "outlinewidth": 0,
              "ticks": ""
             }
            },
            "type": "scatterpolargl"
           }
          ],
          "scatterternary": [
           {
            "marker": {
             "colorbar": {
              "outlinewidth": 0,
              "ticks": ""
             }
            },
            "type": "scatterternary"
           }
          ],
          "surface": [
           {
            "colorbar": {
             "outlinewidth": 0,
             "ticks": ""
            },
            "colorscale": [
             [
              0,
              "#0d0887"
             ],
             [
              0.1111111111111111,
              "#46039f"
             ],
             [
              0.2222222222222222,
              "#7201a8"
             ],
             [
              0.3333333333333333,
              "#9c179e"
             ],
             [
              0.4444444444444444,
              "#bd3786"
             ],
             [
              0.5555555555555556,
              "#d8576b"
             ],
             [
              0.6666666666666666,
              "#ed7953"
             ],
             [
              0.7777777777777778,
              "#fb9f3a"
             ],
             [
              0.8888888888888888,
              "#fdca26"
             ],
             [
              1,
              "#f0f921"
             ]
            ],
            "type": "surface"
           }
          ],
          "table": [
           {
            "cells": {
             "fill": {
              "color": "#EBF0F8"
             },
             "line": {
              "color": "white"
             }
            },
            "header": {
             "fill": {
              "color": "#C8D4E3"
             },
             "line": {
              "color": "white"
             }
            },
            "type": "table"
           }
          ]
         },
         "layout": {
          "annotationdefaults": {
           "arrowcolor": "#2a3f5f",
           "arrowhead": 0,
           "arrowwidth": 1
          },
          "autotypenumbers": "strict",
          "coloraxis": {
           "colorbar": {
            "outlinewidth": 0,
            "ticks": ""
           }
          },
          "colorscale": {
           "diverging": [
            [
             0,
             "#8e0152"
            ],
            [
             0.1,
             "#c51b7d"
            ],
            [
             0.2,
             "#de77ae"
            ],
            [
             0.3,
             "#f1b6da"
            ],
            [
             0.4,
             "#fde0ef"
            ],
            [
             0.5,
             "#f7f7f7"
            ],
            [
             0.6,
             "#e6f5d0"
            ],
            [
             0.7,
             "#b8e186"
            ],
            [
             0.8,
             "#7fbc41"
            ],
            [
             0.9,
             "#4d9221"
            ],
            [
             1,
             "#276419"
            ]
           ],
           "sequential": [
            [
             0,
             "#0d0887"
            ],
            [
             0.1111111111111111,
             "#46039f"
            ],
            [
             0.2222222222222222,
             "#7201a8"
            ],
            [
             0.3333333333333333,
             "#9c179e"
            ],
            [
             0.4444444444444444,
             "#bd3786"
            ],
            [
             0.5555555555555556,
             "#d8576b"
            ],
            [
             0.6666666666666666,
             "#ed7953"
            ],
            [
             0.7777777777777778,
             "#fb9f3a"
            ],
            [
             0.8888888888888888,
             "#fdca26"
            ],
            [
             1,
             "#f0f921"
            ]
           ],
           "sequentialminus": [
            [
             0,
             "#0d0887"
            ],
            [
             0.1111111111111111,
             "#46039f"
            ],
            [
             0.2222222222222222,
             "#7201a8"
            ],
            [
             0.3333333333333333,
             "#9c179e"
            ],
            [
             0.4444444444444444,
             "#bd3786"
            ],
            [
             0.5555555555555556,
             "#d8576b"
            ],
            [
             0.6666666666666666,
             "#ed7953"
            ],
            [
             0.7777777777777778,
             "#fb9f3a"
            ],
            [
             0.8888888888888888,
             "#fdca26"
            ],
            [
             1,
             "#f0f921"
            ]
           ]
          },
          "colorway": [
           "#636efa",
           "#EF553B",
           "#00cc96",
           "#ab63fa",
           "#FFA15A",
           "#19d3f3",
           "#FF6692",
           "#B6E880",
           "#FF97FF",
           "#FECB52"
          ],
          "font": {
           "color": "#2a3f5f"
          },
          "geo": {
           "bgcolor": "white",
           "lakecolor": "white",
           "landcolor": "#E5ECF6",
           "showlakes": true,
           "showland": true,
           "subunitcolor": "white"
          },
          "hoverlabel": {
           "align": "left"
          },
          "hovermode": "closest",
          "mapbox": {
           "style": "light"
          },
          "paper_bgcolor": "white",
          "plot_bgcolor": "#E5ECF6",
          "polar": {
           "angularaxis": {
            "gridcolor": "white",
            "linecolor": "white",
            "ticks": ""
           },
           "bgcolor": "#E5ECF6",
           "radialaxis": {
            "gridcolor": "white",
            "linecolor": "white",
            "ticks": ""
           }
          },
          "scene": {
           "xaxis": {
            "backgroundcolor": "#E5ECF6",
            "gridcolor": "white",
            "gridwidth": 2,
            "linecolor": "white",
            "showbackground": true,
            "ticks": "",
            "zerolinecolor": "white"
           },
           "yaxis": {
            "backgroundcolor": "#E5ECF6",
            "gridcolor": "white",
            "gridwidth": 2,
            "linecolor": "white",
            "showbackground": true,
            "ticks": "",
            "zerolinecolor": "white"
           },
           "zaxis": {
            "backgroundcolor": "#E5ECF6",
            "gridcolor": "white",
            "gridwidth": 2,
            "linecolor": "white",
            "showbackground": true,
            "ticks": "",
            "zerolinecolor": "white"
           }
          },
          "shapedefaults": {
           "line": {
            "color": "#2a3f5f"
           }
          },
          "ternary": {
           "aaxis": {
            "gridcolor": "white",
            "linecolor": "white",
            "ticks": ""
           },
           "baxis": {
            "gridcolor": "white",
            "linecolor": "white",
            "ticks": ""
           },
           "bgcolor": "#E5ECF6",
           "caxis": {
            "gridcolor": "white",
            "linecolor": "white",
            "ticks": ""
           }
          },
          "title": {
           "x": 0.05
          },
          "xaxis": {
           "automargin": true,
           "gridcolor": "white",
           "linecolor": "white",
           "ticks": "",
           "title": {
            "standoff": 15
           },
           "zerolinecolor": "white",
           "zerolinewidth": 2
          },
          "yaxis": {
           "automargin": true,
           "gridcolor": "white",
           "linecolor": "white",
           "ticks": "",
           "title": {
            "standoff": 15
           },
           "zerolinecolor": "white",
           "zerolinewidth": 2
          }
         }
        },
        "width": 2000,
        "xaxis": {
         "gridcolor": "lightgrey",
         "linecolor": "black",
         "mirror": true,
         "showline": true,
         "ticks": "outside"
        },
        "yaxis": {
         "gridcolor": "lightgrey",
         "linecolor": "black",
         "mirror": true,
         "showline": true,
         "ticks": "outside"
        }
       }
      }
     },
     "metadata": {},
     "output_type": "display_data"
    }
   ],
   "source": [
    "fig = elo_line_plot(elo_histories)\n",
    "fig.show()"
   ]
  },
  {
   "cell_type": "code",
   "execution_count": 8,
   "metadata": {},
   "outputs": [
    {
     "data": {
      "text/plain": [
       "{'New York Knicks': -39.840428652178616,\n",
       " 'Minnesota Timberwolves': -21.80289255205662,\n",
       " 'Indiana Pacers': 14.894171753407136,\n",
       " 'Brooklyn Nets': 31.238535130002447,\n",
       " 'Orlando Magic': 8.751573961247914,\n",
       " 'Milwaukee Bucks': -22.979011933900665,\n",
       " 'Cleveland Cavaliers': 71.12845071452534,\n",
       " 'Charlotte Hornets': 30.483031851244505,\n",
       " 'Chicago Bulls': -4.7636741389135295,\n",
       " 'Memphis Grizzlies': 16.140802993853413,\n",
       " 'Phoenix Suns': 24.886703180247423,\n",
       " 'Golden State Warriors': 4.912787916210391,\n",
       " 'Boston Celtics': -21.31407798282953,\n",
       " 'San Antonio Spurs': 17.37645814595612,\n",
       " 'Oklahoma City Thunder': -60.23162809834503,\n",
       " 'Philadelphia 76ers': -18.85942514310068,\n",
       " 'Detroit Pistons': 20.699427349685948,\n",
       " 'New Orleans Pelicans': -33.40993933035429,\n",
       " 'Los Angeles Clippers': -4.84436569723357,\n",
       " 'Miami Heat': -44.329010130980805,\n",
       " 'Toronto Raptors': -3.278253521401666,\n",
       " 'Houston Rockets': -9.915239834924023,\n",
       " 'Dallas Mavericks': -39.00127183312975,\n",
       " 'Sacramento Kings': -32.69982935239295,\n",
       " 'Atlanta Hawks': 15.129341395588881,\n",
       " 'Washington Wizards': 34.615227830959384,\n",
       " 'Denver Nuggets': 9.509793964463142,\n",
       " 'Utah Jazz': 22.637698095260475,\n",
       " 'Portland Trail Blazers': 56.529015602638765,\n",
       " 'Los Angeles Lakers': -21.663971683549562}"
      ]
     },
     "execution_count": 8,
     "metadata": {},
     "output_type": "execute_result"
    }
   ],
   "source": [
    "elo_deltas = {name: 0 for name in team_names}\n",
    "\n",
    "for name in team_names:\n",
    "    history = elo_histories[name]\n",
    "    delta = history[-1] - history[0]\n",
    "    elo_deltas[name] = delta\n",
    "    \n",
    "elo_deltas"
   ]
  },
  {
   "cell_type": "code",
   "execution_count": 9,
   "metadata": {},
   "outputs": [
    {
     "data": {
      "application/vnd.plotly.v1+json": {
       "config": {
        "plotlyServerURL": "https://plot.ly"
       },
       "data": [
        {
         "marker": {
          "color": [
           "rgb(0,125,195)",
           "rgb(152,0,46)",
           "rgb(0,107,182)",
           "rgb(0,83,188)",
           "rgb(0,22,65)",
           "rgb(91,43,130)",
           "rgb(0,71,27)",
           "rgb(12,35,64)",
           "rgb(85,37,130)",
           "rgb(0,122,51)",
           "rgb(0,107,182)",
           "rgb(206,17,65)",
           "rgb(200,16,46)",
           "rgb(206,17,65)",
           "rgb(206,17,65)",
           "rgb(255,199,44)",
           "rgb(0,125,197)",
           "rgb(13,34,64)",
           "rgb(0,45,98)",
           "rgb(200,16,46)",
           "rgb(93,118,169)",
           "rgb(196,206,211)",
           "rgb(200,16,46)",
           "rgb(0,43,92)",
           "rgb(29,17,96)",
           "rgb(0,120,140)",
           "rgb(0,0,0)",
           "rgb(0,43,92)",
           "rgb(224,58,62)",
           "rgb(134,0,56)"
          ]
         },
         "type": "bar",
         "x": [
          "OKC",
          "MIA",
          "NYK",
          "DAL",
          "NOP",
          "SAC",
          "MIL",
          "MIN",
          "LAL",
          "BOS",
          "PHI",
          "HOU",
          "LAC",
          "CHI",
          "TOR",
          "GSW",
          "ORL",
          "DEN",
          "IND",
          "ATL",
          "MEM",
          "SAS",
          "DET",
          "UTA",
          "PHX",
          "CHA",
          "BKN",
          "WAS",
          "POR",
          "CLE"
         ],
         "y": [
          -60.23162809834503,
          -44.329010130980805,
          -39.840428652178616,
          -39.00127183312975,
          -33.40993933035429,
          -32.69982935239295,
          -22.979011933900665,
          -21.80289255205662,
          -21.663971683549562,
          -21.31407798282953,
          -18.85942514310068,
          -9.915239834924023,
          -4.84436569723357,
          -4.7636741389135295,
          -3.278253521401666,
          4.912787916210391,
          8.751573961247914,
          9.509793964463142,
          14.894171753407136,
          15.129341395588881,
          16.140802993853413,
          17.37645814595612,
          20.699427349685948,
          22.637698095260475,
          24.886703180247423,
          30.483031851244505,
          31.238535130002447,
          34.615227830959384,
          56.529015602638765,
          71.12845071452534
         ]
        }
       ],
       "layout": {
        "autosize": false,
        "height": 1200,
        "plot_bgcolor": "white",
        "shapes": [
         {
          "line": {
           "color": "black",
           "width": 1
          },
          "type": "line",
          "x0": -0.5,
          "x1": 29.5,
          "y0": 0,
          "y1": 0
         }
        ],
        "showlegend": false,
        "template": {
         "data": {
          "bar": [
           {
            "error_x": {
             "color": "#2a3f5f"
            },
            "error_y": {
             "color": "#2a3f5f"
            },
            "marker": {
             "line": {
              "color": "#E5ECF6",
              "width": 0.5
             },
             "pattern": {
              "fillmode": "overlay",
              "size": 10,
              "solidity": 0.2
             }
            },
            "type": "bar"
           }
          ],
          "barpolar": [
           {
            "marker": {
             "line": {
              "color": "#E5ECF6",
              "width": 0.5
             },
             "pattern": {
              "fillmode": "overlay",
              "size": 10,
              "solidity": 0.2
             }
            },
            "type": "barpolar"
           }
          ],
          "carpet": [
           {
            "aaxis": {
             "endlinecolor": "#2a3f5f",
             "gridcolor": "white",
             "linecolor": "white",
             "minorgridcolor": "white",
             "startlinecolor": "#2a3f5f"
            },
            "baxis": {
             "endlinecolor": "#2a3f5f",
             "gridcolor": "white",
             "linecolor": "white",
             "minorgridcolor": "white",
             "startlinecolor": "#2a3f5f"
            },
            "type": "carpet"
           }
          ],
          "choropleth": [
           {
            "colorbar": {
             "outlinewidth": 0,
             "ticks": ""
            },
            "type": "choropleth"
           }
          ],
          "contour": [
           {
            "colorbar": {
             "outlinewidth": 0,
             "ticks": ""
            },
            "colorscale": [
             [
              0,
              "#0d0887"
             ],
             [
              0.1111111111111111,
              "#46039f"
             ],
             [
              0.2222222222222222,
              "#7201a8"
             ],
             [
              0.3333333333333333,
              "#9c179e"
             ],
             [
              0.4444444444444444,
              "#bd3786"
             ],
             [
              0.5555555555555556,
              "#d8576b"
             ],
             [
              0.6666666666666666,
              "#ed7953"
             ],
             [
              0.7777777777777778,
              "#fb9f3a"
             ],
             [
              0.8888888888888888,
              "#fdca26"
             ],
             [
              1,
              "#f0f921"
             ]
            ],
            "type": "contour"
           }
          ],
          "contourcarpet": [
           {
            "colorbar": {
             "outlinewidth": 0,
             "ticks": ""
            },
            "type": "contourcarpet"
           }
          ],
          "heatmap": [
           {
            "colorbar": {
             "outlinewidth": 0,
             "ticks": ""
            },
            "colorscale": [
             [
              0,
              "#0d0887"
             ],
             [
              0.1111111111111111,
              "#46039f"
             ],
             [
              0.2222222222222222,
              "#7201a8"
             ],
             [
              0.3333333333333333,
              "#9c179e"
             ],
             [
              0.4444444444444444,
              "#bd3786"
             ],
             [
              0.5555555555555556,
              "#d8576b"
             ],
             [
              0.6666666666666666,
              "#ed7953"
             ],
             [
              0.7777777777777778,
              "#fb9f3a"
             ],
             [
              0.8888888888888888,
              "#fdca26"
             ],
             [
              1,
              "#f0f921"
             ]
            ],
            "type": "heatmap"
           }
          ],
          "heatmapgl": [
           {
            "colorbar": {
             "outlinewidth": 0,
             "ticks": ""
            },
            "colorscale": [
             [
              0,
              "#0d0887"
             ],
             [
              0.1111111111111111,
              "#46039f"
             ],
             [
              0.2222222222222222,
              "#7201a8"
             ],
             [
              0.3333333333333333,
              "#9c179e"
             ],
             [
              0.4444444444444444,
              "#bd3786"
             ],
             [
              0.5555555555555556,
              "#d8576b"
             ],
             [
              0.6666666666666666,
              "#ed7953"
             ],
             [
              0.7777777777777778,
              "#fb9f3a"
             ],
             [
              0.8888888888888888,
              "#fdca26"
             ],
             [
              1,
              "#f0f921"
             ]
            ],
            "type": "heatmapgl"
           }
          ],
          "histogram": [
           {
            "marker": {
             "pattern": {
              "fillmode": "overlay",
              "size": 10,
              "solidity": 0.2
             }
            },
            "type": "histogram"
           }
          ],
          "histogram2d": [
           {
            "colorbar": {
             "outlinewidth": 0,
             "ticks": ""
            },
            "colorscale": [
             [
              0,
              "#0d0887"
             ],
             [
              0.1111111111111111,
              "#46039f"
             ],
             [
              0.2222222222222222,
              "#7201a8"
             ],
             [
              0.3333333333333333,
              "#9c179e"
             ],
             [
              0.4444444444444444,
              "#bd3786"
             ],
             [
              0.5555555555555556,
              "#d8576b"
             ],
             [
              0.6666666666666666,
              "#ed7953"
             ],
             [
              0.7777777777777778,
              "#fb9f3a"
             ],
             [
              0.8888888888888888,
              "#fdca26"
             ],
             [
              1,
              "#f0f921"
             ]
            ],
            "type": "histogram2d"
           }
          ],
          "histogram2dcontour": [
           {
            "colorbar": {
             "outlinewidth": 0,
             "ticks": ""
            },
            "colorscale": [
             [
              0,
              "#0d0887"
             ],
             [
              0.1111111111111111,
              "#46039f"
             ],
             [
              0.2222222222222222,
              "#7201a8"
             ],
             [
              0.3333333333333333,
              "#9c179e"
             ],
             [
              0.4444444444444444,
              "#bd3786"
             ],
             [
              0.5555555555555556,
              "#d8576b"
             ],
             [
              0.6666666666666666,
              "#ed7953"
             ],
             [
              0.7777777777777778,
              "#fb9f3a"
             ],
             [
              0.8888888888888888,
              "#fdca26"
             ],
             [
              1,
              "#f0f921"
             ]
            ],
            "type": "histogram2dcontour"
           }
          ],
          "mesh3d": [
           {
            "colorbar": {
             "outlinewidth": 0,
             "ticks": ""
            },
            "type": "mesh3d"
           }
          ],
          "parcoords": [
           {
            "line": {
             "colorbar": {
              "outlinewidth": 0,
              "ticks": ""
             }
            },
            "type": "parcoords"
           }
          ],
          "pie": [
           {
            "automargin": true,
            "type": "pie"
           }
          ],
          "scatter": [
           {
            "fillpattern": {
             "fillmode": "overlay",
             "size": 10,
             "solidity": 0.2
            },
            "type": "scatter"
           }
          ],
          "scatter3d": [
           {
            "line": {
             "colorbar": {
              "outlinewidth": 0,
              "ticks": ""
             }
            },
            "marker": {
             "colorbar": {
              "outlinewidth": 0,
              "ticks": ""
             }
            },
            "type": "scatter3d"
           }
          ],
          "scattercarpet": [
           {
            "marker": {
             "colorbar": {
              "outlinewidth": 0,
              "ticks": ""
             }
            },
            "type": "scattercarpet"
           }
          ],
          "scattergeo": [
           {
            "marker": {
             "colorbar": {
              "outlinewidth": 0,
              "ticks": ""
             }
            },
            "type": "scattergeo"
           }
          ],
          "scattergl": [
           {
            "marker": {
             "colorbar": {
              "outlinewidth": 0,
              "ticks": ""
             }
            },
            "type": "scattergl"
           }
          ],
          "scattermapbox": [
           {
            "marker": {
             "colorbar": {
              "outlinewidth": 0,
              "ticks": ""
             }
            },
            "type": "scattermapbox"
           }
          ],
          "scatterpolar": [
           {
            "marker": {
             "colorbar": {
              "outlinewidth": 0,
              "ticks": ""
             }
            },
            "type": "scatterpolar"
           }
          ],
          "scatterpolargl": [
           {
            "marker": {
             "colorbar": {
              "outlinewidth": 0,
              "ticks": ""
             }
            },
            "type": "scatterpolargl"
           }
          ],
          "scatterternary": [
           {
            "marker": {
             "colorbar": {
              "outlinewidth": 0,
              "ticks": ""
             }
            },
            "type": "scatterternary"
           }
          ],
          "surface": [
           {
            "colorbar": {
             "outlinewidth": 0,
             "ticks": ""
            },
            "colorscale": [
             [
              0,
              "#0d0887"
             ],
             [
              0.1111111111111111,
              "#46039f"
             ],
             [
              0.2222222222222222,
              "#7201a8"
             ],
             [
              0.3333333333333333,
              "#9c179e"
             ],
             [
              0.4444444444444444,
              "#bd3786"
             ],
             [
              0.5555555555555556,
              "#d8576b"
             ],
             [
              0.6666666666666666,
              "#ed7953"
             ],
             [
              0.7777777777777778,
              "#fb9f3a"
             ],
             [
              0.8888888888888888,
              "#fdca26"
             ],
             [
              1,
              "#f0f921"
             ]
            ],
            "type": "surface"
           }
          ],
          "table": [
           {
            "cells": {
             "fill": {
              "color": "#EBF0F8"
             },
             "line": {
              "color": "white"
             }
            },
            "header": {
             "fill": {
              "color": "#C8D4E3"
             },
             "line": {
              "color": "white"
             }
            },
            "type": "table"
           }
          ]
         },
         "layout": {
          "annotationdefaults": {
           "arrowcolor": "#2a3f5f",
           "arrowhead": 0,
           "arrowwidth": 1
          },
          "autotypenumbers": "strict",
          "coloraxis": {
           "colorbar": {
            "outlinewidth": 0,
            "ticks": ""
           }
          },
          "colorscale": {
           "diverging": [
            [
             0,
             "#8e0152"
            ],
            [
             0.1,
             "#c51b7d"
            ],
            [
             0.2,
             "#de77ae"
            ],
            [
             0.3,
             "#f1b6da"
            ],
            [
             0.4,
             "#fde0ef"
            ],
            [
             0.5,
             "#f7f7f7"
            ],
            [
             0.6,
             "#e6f5d0"
            ],
            [
             0.7,
             "#b8e186"
            ],
            [
             0.8,
             "#7fbc41"
            ],
            [
             0.9,
             "#4d9221"
            ],
            [
             1,
             "#276419"
            ]
           ],
           "sequential": [
            [
             0,
             "#0d0887"
            ],
            [
             0.1111111111111111,
             "#46039f"
            ],
            [
             0.2222222222222222,
             "#7201a8"
            ],
            [
             0.3333333333333333,
             "#9c179e"
            ],
            [
             0.4444444444444444,
             "#bd3786"
            ],
            [
             0.5555555555555556,
             "#d8576b"
            ],
            [
             0.6666666666666666,
             "#ed7953"
            ],
            [
             0.7777777777777778,
             "#fb9f3a"
            ],
            [
             0.8888888888888888,
             "#fdca26"
            ],
            [
             1,
             "#f0f921"
            ]
           ],
           "sequentialminus": [
            [
             0,
             "#0d0887"
            ],
            [
             0.1111111111111111,
             "#46039f"
            ],
            [
             0.2222222222222222,
             "#7201a8"
            ],
            [
             0.3333333333333333,
             "#9c179e"
            ],
            [
             0.4444444444444444,
             "#bd3786"
            ],
            [
             0.5555555555555556,
             "#d8576b"
            ],
            [
             0.6666666666666666,
             "#ed7953"
            ],
            [
             0.7777777777777778,
             "#fb9f3a"
            ],
            [
             0.8888888888888888,
             "#fdca26"
            ],
            [
             1,
             "#f0f921"
            ]
           ]
          },
          "colorway": [
           "#636efa",
           "#EF553B",
           "#00cc96",
           "#ab63fa",
           "#FFA15A",
           "#19d3f3",
           "#FF6692",
           "#B6E880",
           "#FF97FF",
           "#FECB52"
          ],
          "font": {
           "color": "#2a3f5f"
          },
          "geo": {
           "bgcolor": "white",
           "lakecolor": "white",
           "landcolor": "#E5ECF6",
           "showlakes": true,
           "showland": true,
           "subunitcolor": "white"
          },
          "hoverlabel": {
           "align": "left"
          },
          "hovermode": "closest",
          "mapbox": {
           "style": "light"
          },
          "paper_bgcolor": "white",
          "plot_bgcolor": "#E5ECF6",
          "polar": {
           "angularaxis": {
            "gridcolor": "white",
            "linecolor": "white",
            "ticks": ""
           },
           "bgcolor": "#E5ECF6",
           "radialaxis": {
            "gridcolor": "white",
            "linecolor": "white",
            "ticks": ""
           }
          },
          "scene": {
           "xaxis": {
            "backgroundcolor": "#E5ECF6",
            "gridcolor": "white",
            "gridwidth": 2,
            "linecolor": "white",
            "showbackground": true,
            "ticks": "",
            "zerolinecolor": "white"
           },
           "yaxis": {
            "backgroundcolor": "#E5ECF6",
            "gridcolor": "white",
            "gridwidth": 2,
            "linecolor": "white",
            "showbackground": true,
            "ticks": "",
            "zerolinecolor": "white"
           },
           "zaxis": {
            "backgroundcolor": "#E5ECF6",
            "gridcolor": "white",
            "gridwidth": 2,
            "linecolor": "white",
            "showbackground": true,
            "ticks": "",
            "zerolinecolor": "white"
           }
          },
          "shapedefaults": {
           "line": {
            "color": "#2a3f5f"
           }
          },
          "ternary": {
           "aaxis": {
            "gridcolor": "white",
            "linecolor": "white",
            "ticks": ""
           },
           "baxis": {
            "gridcolor": "white",
            "linecolor": "white",
            "ticks": ""
           },
           "bgcolor": "#E5ECF6",
           "caxis": {
            "gridcolor": "white",
            "linecolor": "white",
            "ticks": ""
           }
          },
          "title": {
           "x": 0.05
          },
          "xaxis": {
           "automargin": true,
           "gridcolor": "white",
           "linecolor": "white",
           "ticks": "",
           "title": {
            "standoff": 15
           },
           "zerolinecolor": "white",
           "zerolinewidth": 2
          },
          "yaxis": {
           "automargin": true,
           "gridcolor": "white",
           "linecolor": "white",
           "ticks": "",
           "title": {
            "standoff": 15
           },
           "zerolinecolor": "white",
           "zerolinewidth": 2
          }
         }
        },
        "width": 2000,
        "xaxis": {
         "gridcolor": "lightgrey",
         "linecolor": "black",
         "mirror": true,
         "showline": true,
         "tickangle": 45,
         "ticks": "outside"
        },
        "yaxis": {
         "gridcolor": "lightgrey",
         "linecolor": "black",
         "mirror": true,
         "range": [
          -73.36763597963207,
          84.26445859581239
         ],
         "showline": true,
         "ticks": "outside"
        }
       }
      }
     },
     "metadata": {},
     "output_type": "display_data"
    }
   ],
   "source": [
    "fig = elo_delta_plot(elo_deltas)\n",
    "fig.show()"
   ]
  },
  {
   "cell_type": "code",
   "execution_count": 12,
   "metadata": {},
   "outputs": [
    {
     "data": {
      "text/html": [
       "<div>\n",
       "<style scoped>\n",
       "    .dataframe tbody tr th:only-of-type {\n",
       "        vertical-align: middle;\n",
       "    }\n",
       "\n",
       "    .dataframe tbody tr th {\n",
       "        vertical-align: top;\n",
       "    }\n",
       "\n",
       "    .dataframe thead th {\n",
       "        text-align: right;\n",
       "    }\n",
       "</style>\n",
       "<table border=\"1\" class=\"dataframe\">\n",
       "  <thead>\n",
       "    <tr style=\"text-align: right;\">\n",
       "      <th></th>\n",
       "      <th>Date</th>\n",
       "      <th>Start (ET)</th>\n",
       "      <th>Visitor/Neutral</th>\n",
       "      <th>away_pts</th>\n",
       "      <th>Home/Neutral</th>\n",
       "      <th>home_pts</th>\n",
       "      <th>Box Score</th>\n",
       "      <th>OT</th>\n",
       "      <th>Attend.</th>\n",
       "      <th>LOG</th>\n",
       "      <th>Arena</th>\n",
       "      <th>Notes</th>\n",
       "    </tr>\n",
       "  </thead>\n",
       "  <tbody>\n",
       "    <tr>\n",
       "      <th>0</th>\n",
       "      <td>Tue, Oct 22, 2024</td>\n",
       "      <td>7:30p</td>\n",
       "      <td>New York Knicks</td>\n",
       "      <td>109</td>\n",
       "      <td>Boston Celtics</td>\n",
       "      <td>132</td>\n",
       "      <td>Box Score</td>\n",
       "      <td></td>\n",
       "      <td>19,156</td>\n",
       "      <td>2:04</td>\n",
       "      <td>TD Garden</td>\n",
       "      <td></td>\n",
       "    </tr>\n",
       "    <tr>\n",
       "      <th>12</th>\n",
       "      <td>Thu, Oct 24, 2024</td>\n",
       "      <td>7:00p</td>\n",
       "      <td>Boston Celtics</td>\n",
       "      <td>122</td>\n",
       "      <td>Washington Wizards</td>\n",
       "      <td>102</td>\n",
       "      <td>Box Score</td>\n",
       "      <td></td>\n",
       "      <td>18,610</td>\n",
       "      <td>2:11</td>\n",
       "      <td>Capital One Arena</td>\n",
       "      <td></td>\n",
       "    </tr>\n",
       "    <tr>\n",
       "      <th>28</th>\n",
       "      <td>Sat, Oct 26, 2024</td>\n",
       "      <td>7:00p</td>\n",
       "      <td>Boston Celtics</td>\n",
       "      <td>124</td>\n",
       "      <td>Detroit Pistons</td>\n",
       "      <td>118</td>\n",
       "      <td>Box Score</td>\n",
       "      <td></td>\n",
       "      <td>19,311</td>\n",
       "      <td>2:00</td>\n",
       "      <td>Little Caesars Arena</td>\n",
       "      <td></td>\n",
       "    </tr>\n",
       "    <tr>\n",
       "      <th>43</th>\n",
       "      <td>Mon, Oct 28, 2024</td>\n",
       "      <td>7:30p</td>\n",
       "      <td>Milwaukee Bucks</td>\n",
       "      <td>108</td>\n",
       "      <td>Boston Celtics</td>\n",
       "      <td>119</td>\n",
       "      <td>Box Score</td>\n",
       "      <td></td>\n",
       "      <td>19,156</td>\n",
       "      <td>2:18</td>\n",
       "      <td>TD Garden</td>\n",
       "      <td></td>\n",
       "    </tr>\n",
       "    <tr>\n",
       "      <th>58</th>\n",
       "      <td>Wed, Oct 30, 2024</td>\n",
       "      <td>7:00p</td>\n",
       "      <td>Boston Celtics</td>\n",
       "      <td>132</td>\n",
       "      <td>Indiana Pacers</td>\n",
       "      <td>135</td>\n",
       "      <td>Box Score</td>\n",
       "      <td>OT</td>\n",
       "      <td>17,274</td>\n",
       "      <td>2:37</td>\n",
       "      <td>Gainbridge Fieldhouse</td>\n",
       "      <td></td>\n",
       "    </tr>\n",
       "    <tr>\n",
       "      <th>0</th>\n",
       "      <td>Fri, Nov 1, 2024</td>\n",
       "      <td>7:00p</td>\n",
       "      <td>Boston Celtics</td>\n",
       "      <td>124</td>\n",
       "      <td>Charlotte Hornets</td>\n",
       "      <td>109</td>\n",
       "      <td>Box Score</td>\n",
       "      <td></td>\n",
       "      <td>18,557</td>\n",
       "      <td>2:17</td>\n",
       "      <td>Spectrum Center</td>\n",
       "      <td></td>\n",
       "    </tr>\n",
       "    <tr>\n",
       "      <th>9</th>\n",
       "      <td>Sat, Nov 2, 2024</td>\n",
       "      <td>6:00p</td>\n",
       "      <td>Boston Celtics</td>\n",
       "      <td>113</td>\n",
       "      <td>Charlotte Hornets</td>\n",
       "      <td>103</td>\n",
       "      <td>Box Score</td>\n",
       "      <td></td>\n",
       "      <td>19,253</td>\n",
       "      <td>2:09</td>\n",
       "      <td>Spectrum Center</td>\n",
       "      <td></td>\n",
       "    </tr>\n",
       "    <tr>\n",
       "      <th>25</th>\n",
       "      <td>Mon, Nov 4, 2024</td>\n",
       "      <td>7:45p</td>\n",
       "      <td>Boston Celtics</td>\n",
       "      <td>123</td>\n",
       "      <td>Atlanta Hawks</td>\n",
       "      <td>93</td>\n",
       "      <td>Box Score</td>\n",
       "      <td></td>\n",
       "      <td>15,031</td>\n",
       "      <td>1:56</td>\n",
       "      <td>State Farm Arena</td>\n",
       "      <td></td>\n",
       "    </tr>\n",
       "    <tr>\n",
       "      <th>40</th>\n",
       "      <td>Wed, Nov 6, 2024</td>\n",
       "      <td>7:30p</td>\n",
       "      <td>Golden State Warriors</td>\n",
       "      <td>118</td>\n",
       "      <td>Boston Celtics</td>\n",
       "      <td>112</td>\n",
       "      <td>Box Score</td>\n",
       "      <td></td>\n",
       "      <td>19,156</td>\n",
       "      <td>2:21</td>\n",
       "      <td>TD Garden</td>\n",
       "      <td></td>\n",
       "    </tr>\n",
       "  </tbody>\n",
       "</table>\n",
       "</div>"
      ],
      "text/plain": [
       "                 Date Start (ET)        Visitor/Neutral away_pts  \\\n",
       "0   Tue, Oct 22, 2024      7:30p        New York Knicks      109   \n",
       "12  Thu, Oct 24, 2024      7:00p         Boston Celtics      122   \n",
       "28  Sat, Oct 26, 2024      7:00p         Boston Celtics      124   \n",
       "43  Mon, Oct 28, 2024      7:30p        Milwaukee Bucks      108   \n",
       "58  Wed, Oct 30, 2024      7:00p         Boston Celtics      132   \n",
       "0    Fri, Nov 1, 2024      7:00p         Boston Celtics      124   \n",
       "9    Sat, Nov 2, 2024      6:00p         Boston Celtics      113   \n",
       "25   Mon, Nov 4, 2024      7:45p         Boston Celtics      123   \n",
       "40   Wed, Nov 6, 2024      7:30p  Golden State Warriors      118   \n",
       "\n",
       "          Home/Neutral home_pts  Box Score  OT Attend.   LOG  \\\n",
       "0       Boston Celtics      132  Box Score      19,156  2:04   \n",
       "12  Washington Wizards      102  Box Score      18,610  2:11   \n",
       "28     Detroit Pistons      118  Box Score      19,311  2:00   \n",
       "43      Boston Celtics      119  Box Score      19,156  2:18   \n",
       "58      Indiana Pacers      135  Box Score  OT  17,274  2:37   \n",
       "0    Charlotte Hornets      109  Box Score      18,557  2:17   \n",
       "9    Charlotte Hornets      103  Box Score      19,253  2:09   \n",
       "25       Atlanta Hawks       93  Box Score      15,031  1:56   \n",
       "40      Boston Celtics      112  Box Score      19,156  2:21   \n",
       "\n",
       "                    Arena Notes  \n",
       "0               TD Garden        \n",
       "12      Capital One Arena        \n",
       "28   Little Caesars Arena        \n",
       "43              TD Garden        \n",
       "58  Gainbridge Fieldhouse        \n",
       "0         Spectrum Center        \n",
       "9         Spectrum Center        \n",
       "25       State Farm Arena        \n",
       "40              TD Garden        "
      ]
     },
     "execution_count": 12,
     "metadata": {},
     "output_type": "execute_result"
    }
   ],
   "source": [
    "team = 'Boston Celtics'\n",
    "schedule[(schedule['Visitor/Neutral'] == team) | (schedule['Home/Neutral'] == team)]"
   ]
  },
  {
   "cell_type": "code",
   "execution_count": 13,
   "metadata": {},
   "outputs": [
    {
     "data": {
      "text/plain": [
       "[1680.1906216232785,\n",
       " 1687.5096634947834,\n",
       " 1689.331437583457,\n",
       " 1691.11059831677,\n",
       " 1696.4198310669194,\n",
       " 1682.4861888083092,\n",
       " 1685.227860493281,\n",
       " 1687.8957072623814,\n",
       " 1671.7986924846837,\n",
       " 1658.876543640449]"
      ]
     },
     "execution_count": 13,
     "metadata": {},
     "output_type": "execute_result"
    }
   ],
   "source": [
    "elo_histories['Boston Celtics']"
   ]
  },
  {
   "cell_type": "code",
   "execution_count": null,
   "metadata": {},
   "outputs": [],
   "source": []
  }
 ],
 "metadata": {
  "kernelspec": {
   "display_name": "base",
   "language": "python",
   "name": "python3"
  },
  "language_info": {
   "codemirror_mode": {
    "name": "ipython",
    "version": 3
   },
   "file_extension": ".py",
   "mimetype": "text/x-python",
   "name": "python",
   "nbconvert_exporter": "python",
   "pygments_lexer": "ipython3",
   "version": "3.8.8"
  }
 },
 "nbformat": 4,
 "nbformat_minor": 2
}
